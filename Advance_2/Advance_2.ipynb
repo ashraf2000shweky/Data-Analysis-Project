{
 "cells": [
  {
   "cell_type": "code",
   "execution_count": null,
   "id": "85c02ba9",
   "metadata": {},
   "outputs": [],
   "source": [
    "import numpy as np\n",
    "import pandas as pd\n"
   ]
  },
  {
   "cell_type": "code",
   "execution_count": null,
   "id": "61c9aeb1",
   "metadata": {},
   "outputs": [],
   "source": [
    "# توليد مصفوفة عناصر\n",
    "data = np.arange(5000).reshape(100,50)\n",
    "data"
   ]
  },
  {
   "cell_type": "code",
   "execution_count": null,
   "id": "f1b5dc4c",
   "metadata": {},
   "outputs": [],
   "source": [
    "# إنشاء قائمة لأسماء الأعمدة\n",
    "column_name = ['columns_'+str(i) for i in range(50)]"
   ]
  },
  {
   "cell_type": "code",
   "execution_count": null,
   "id": "28713c74",
   "metadata": {},
   "outputs": [],
   "source": [
    "column_name"
   ]
  },
  {
   "cell_type": "code",
   "execution_count": null,
   "id": "9ff181cb",
   "metadata": {},
   "outputs": [],
   "source": [
    "df = pd.DataFrame(data)\n",
    "df"
   ]
  },
  {
   "cell_type": "code",
   "execution_count": null,
   "id": "8e1f4a3c",
   "metadata": {},
   "outputs": [],
   "source": [
    "type(df)"
   ]
  },
  {
   "cell_type": "code",
   "execution_count": null,
   "id": "5338ab37",
   "metadata": {},
   "outputs": [],
   "source": [
    "type(df[0])"
   ]
  },
  {
   "cell_type": "code",
   "execution_count": null,
   "id": "03dcf095",
   "metadata": {},
   "outputs": [],
   "source": [
    "# إضافة أسماء الأعمدة\n",
    "df = pd.DataFrame(data,columns = column_name)\n",
    "df"
   ]
  },
  {
   "cell_type": "code",
   "execution_count": null,
   "id": "5e10dc1a",
   "metadata": {},
   "outputs": [],
   "source": [
    "dic1 = {'name1':'ashraf','name2':'islam'}\n",
    "dic2 = {'score1':18,'score2':20}\n",
    "pd.DataFrame(data=(dic1,dic2))"
   ]
  },
  {
   "cell_type": "code",
   "execution_count": null,
   "id": "c4979e28",
   "metadata": {},
   "outputs": [],
   "source": [
    "dic = {'name1': list(range(10)),'name2':list(range(10,20))}\n",
    "pd.DataFrame().from_dict(dic)"
   ]
  },
  {
   "cell_type": "code",
   "execution_count": null,
   "id": "b1191460",
   "metadata": {},
   "outputs": [],
   "source": [
    "df"
   ]
  },
  {
   "cell_type": "code",
   "execution_count": null,
   "id": "2b683f6d",
   "metadata": {},
   "outputs": [],
   "source": [
    "df.describe()"
   ]
  },
  {
   "cell_type": "code",
   "execution_count": null,
   "id": "cdab9799",
   "metadata": {},
   "outputs": [],
   "source": [
    "df[:4]"
   ]
  },
  {
   "cell_type": "code",
   "execution_count": null,
   "id": "a2c17060",
   "metadata": {},
   "outputs": [],
   "source": [
    "# إظهار السطر الثاني \n",
    "df.loc[1]"
   ]
  },
  {
   "cell_type": "code",
   "execution_count": null,
   "id": "7faba303",
   "metadata": {},
   "outputs": [],
   "source": [
    "# DataFrame الإظهار على هيئة \n",
    "df.loc[[1]]"
   ]
  },
  {
   "cell_type": "code",
   "execution_count": null,
   "id": "793670ca",
   "metadata": {},
   "outputs": [],
   "source": [
    "# تقطيع البيانات حسب الحاجة\n",
    "df.loc[:3,['columns_3','columns_7']]"
   ]
  },
  {
   "cell_type": "code",
   "execution_count": null,
   "id": "b542e57e",
   "metadata": {},
   "outputs": [],
   "source": [
    "# التقطيع هنا فقط يتم على السطور\n",
    "df[:3]"
   ]
  },
  {
   "cell_type": "code",
   "execution_count": null,
   "id": "83ae813f",
   "metadata": {},
   "outputs": [],
   "source": [
    "# التقطيع بالنسبة لترتيب الرقمي لكل من الأعمدة والفهارس\n",
    "df.iloc[[1]]"
   ]
  },
  {
   "cell_type": "code",
   "execution_count": null,
   "id": "dd79e9ba",
   "metadata": {},
   "outputs": [],
   "source": [
    "df.iloc[:4,:4]"
   ]
  },
  {
   "cell_type": "code",
   "execution_count": null,
   "id": "37d96453",
   "metadata": {},
   "outputs": [],
   "source": [
    "# هنا نقوم بتصفية البيانات حسب الحاجة \n",
    "df[(df['columns_0'] == 200)]"
   ]
  },
  {
   "cell_type": "code",
   "execution_count": null,
   "id": "95382916",
   "metadata": {},
   "outputs": [],
   "source": [
    "# هنا نقوم بتصفية البيانات حسب الحاجة \n",
    "df[(df['columns_0'] < 200)]"
   ]
  },
  {
   "cell_type": "code",
   "execution_count": null,
   "id": "fc87d429",
   "metadata": {},
   "outputs": [],
   "source": [
    "# إستبدال بعض قيم العامود بقيم مفقودة\n",
    "df.loc[10:30,['columns_7']] = np.nan"
   ]
  },
  {
   "cell_type": "code",
   "execution_count": null,
   "id": "ea0dc28c",
   "metadata": {},
   "outputs": [],
   "source": [
    "df.isnull().sum()"
   ]
  },
  {
   "cell_type": "code",
   "execution_count": null,
   "id": "85b7b2bd",
   "metadata": {},
   "outputs": [],
   "source": [
    "# ملئ هذه القيم بأصفار \n",
    "df['columns_7'] = df['columns_7'].fillna(0)"
   ]
  },
  {
   "cell_type": "code",
   "execution_count": null,
   "id": "95611926",
   "metadata": {},
   "outputs": [],
   "source": [
    "df['columns_7'].isnull().sum()"
   ]
  },
  {
   "cell_type": "code",
   "execution_count": null,
   "id": "618d9b20",
   "metadata": {},
   "outputs": [],
   "source": [
    "df['columns_7'].value_counts()"
   ]
  },
  {
   "cell_type": "code",
   "execution_count": null,
   "id": "462f4502",
   "metadata": {},
   "outputs": [],
   "source": [
    "df['columns_7'].mean(),df['columns_7'].sum(),df['columns_7'].var()"
   ]
  },
  {
   "cell_type": "code",
   "execution_count": null,
   "id": "2e18b545",
   "metadata": {},
   "outputs": [],
   "source": [
    "# جمع تراكمي \n",
    "np.cumsum(df['columns_7'])"
   ]
  },
  {
   "cell_type": "code",
   "execution_count": null,
   "id": "6000fbe9",
   "metadata": {},
   "outputs": [],
   "source": [
    "# إستخراج قيم بعض الأعمدة \n",
    "ser = df['columns_1']\n",
    "df1 = df[['columns_7']]"
   ]
  },
  {
   "cell_type": "code",
   "execution_count": null,
   "id": "20465083",
   "metadata": {},
   "outputs": [],
   "source": [
    "ser"
   ]
  },
  {
   "cell_type": "code",
   "execution_count": null,
   "id": "9b568e07",
   "metadata": {},
   "outputs": [],
   "source": [
    "df1"
   ]
  },
  {
   "cell_type": "code",
   "execution_count": null,
   "id": "8c03eaf1",
   "metadata": {},
   "outputs": [],
   "source": [
    "# map هنا تم تغير نوع السلسة عن طريق دالة بايثون \n",
    "ser.map(str)"
   ]
  },
  {
   "cell_type": "code",
   "execution_count": null,
   "id": "baa237bc",
   "metadata": {},
   "outputs": [],
   "source": [
    "ser.map(str).dtype"
   ]
  },
  {
   "cell_type": "code",
   "execution_count": null,
   "id": "5dfc25b3",
   "metadata": {},
   "outputs": [],
   "source": [
    "ser.map(str)[7]"
   ]
  },
  {
   "cell_type": "code",
   "execution_count": null,
   "id": "d9c85cb6",
   "metadata": {},
   "outputs": [],
   "source": [
    "# هنا إستخدام مفهوم القاموس لتوصيل عناصر البيانات ببيانات أخرى\n",
    "dic_check = {'a':10,'b':20,'c':30}\n",
    "arr = np.array(['a','b','c','a','b','c'])\n",
    "df2 = pd.DataFrame(arr,columns=['column_name'])"
   ]
  },
  {
   "cell_type": "code",
   "execution_count": null,
   "id": "d6a09b55",
   "metadata": {},
   "outputs": [],
   "source": [
    "df2"
   ]
  },
  {
   "cell_type": "code",
   "execution_count": null,
   "id": "a3b93616",
   "metadata": {},
   "outputs": [],
   "source": [
    "df2['column_name'].map(dic_check)"
   ]
  },
  {
   "cell_type": "code",
   "execution_count": null,
   "id": "743ee87a",
   "metadata": {},
   "outputs": [],
   "source": [
    "df.apply(sum,axis =0)"
   ]
  },
  {
   "cell_type": "code",
   "execution_count": null,
   "id": "72165e73",
   "metadata": {},
   "outputs": [],
   "source": [
    "# دالة فحص\n",
    "def check(x):\n",
    "    if x < 100:\n",
    "        return 'G100'\n",
    "    elif x < 500:\n",
    "        return 'G500'\n",
    "    elif x < 900:\n",
    "        return 'G900'\n",
    "    else:\n",
    "        return 'None'\n",
    "        "
   ]
  },
  {
   "cell_type": "code",
   "execution_count": null,
   "id": "0925371e",
   "metadata": {},
   "outputs": [],
   "source": [
    "df"
   ]
  },
  {
   "cell_type": "code",
   "execution_count": null,
   "id": "b5b9147b",
   "metadata": {},
   "outputs": [],
   "source": [
    "# تطبيق هذه الدالة على عناصر عامود ما\n",
    "df['columns_1'].apply(lambda x:check(x))"
   ]
  },
  {
   "cell_type": "code",
   "execution_count": null,
   "id": "42a589bd",
   "metadata": {},
   "outputs": [],
   "source": [
    "df"
   ]
  },
  {
   "cell_type": "code",
   "execution_count": null,
   "id": "54a9ddd1",
   "metadata": {},
   "outputs": [],
   "source": [
    "# تطبيق هذه الدالة على كل الأعمدة\n",
    "df.applymap(check)"
   ]
  },
  {
   "cell_type": "code",
   "execution_count": null,
   "id": "19618e99",
   "metadata": {},
   "outputs": [],
   "source": [
    "df"
   ]
  },
  {
   "cell_type": "code",
   "execution_count": null,
   "id": "0f82a50b",
   "metadata": {},
   "outputs": [],
   "source": [
    "# لنمارس بعض القطع والوصل\n",
    "table1 = pd.DataFrame(data={'column1':[1,2,3,4],'column2':[5,6,7,8]})\n",
    "table2 = pd.DataFrame(data={'column1':[9,10,11,12],'column2':[13,14,15,16]})\n",
    "table3 = pd.DataFrame(data={'column3':[1,2,3,4],'column4':[5,6,7,8]})"
   ]
  },
  {
   "cell_type": "code",
   "execution_count": null,
   "id": "ccd895c2",
   "metadata": {},
   "outputs": [],
   "source": [
    "# قطع و وصل على مستوى أفقي\n",
    "pd.concat([table1,table2],axis =1)"
   ]
  },
  {
   "cell_type": "code",
   "execution_count": null,
   "id": "f59c3aea",
   "metadata": {},
   "outputs": [],
   "source": [
    "# قطع و وصل على مستوى عامودي\n",
    "pd.concat([table1,table2])"
   ]
  },
  {
   "cell_type": "code",
   "execution_count": null,
   "id": "52023a3a",
   "metadata": {},
   "outputs": [],
   "source": [
    "# قطع و وصل على مستوى أفقي\n",
    "pd.concat([table1,table3],axis=1)"
   ]
  },
  {
   "cell_type": "code",
   "execution_count": null,
   "id": "665fe50a",
   "metadata": {},
   "outputs": [],
   "source": [
    "# نلاحظ أن أسماء الأعمدة مختلفة لذلك تم تعبت الخلايا بقيم مفقودة\n",
    "pd.concat([table1,table3],ignore_index=True)"
   ]
  },
  {
   "cell_type": "code",
   "execution_count": null,
   "id": "170f5066",
   "metadata": {},
   "outputs": [],
   "source": [
    "# نلاحظ أن أسماء الأعمدة مختلفة لذلك تم تعبت الخلايا بقيم مفقودة\n",
    "pd.concat([table1,table3]).reset_index()"
   ]
  },
  {
   "cell_type": "code",
   "execution_count": null,
   "id": "d607f59b",
   "metadata": {},
   "outputs": [],
   "source": []
  },
  {
   "cell_type": "code",
   "execution_count": null,
   "id": "f5e2f0d0",
   "metadata": {},
   "outputs": [],
   "source": [
    "data = pd.read_excel('Sample - Superstore.xls') "
   ]
  },
  {
   "cell_type": "code",
   "execution_count": null,
   "id": "ddb056d8",
   "metadata": {},
   "outputs": [],
   "source": [
    "data"
   ]
  },
  {
   "cell_type": "code",
   "execution_count": null,
   "id": "a39c387a",
   "metadata": {},
   "outputs": [],
   "source": [
    "data.columns"
   ]
  },
  {
   "cell_type": "code",
   "execution_count": null,
   "id": "b6e08d05",
   "metadata": {},
   "outputs": [],
   "source": [
    "data.describe()"
   ]
  },
  {
   "cell_type": "code",
   "execution_count": null,
   "id": "5d026a8e",
   "metadata": {},
   "outputs": [],
   "source": [
    "data['Product ID'].nunique()"
   ]
  },
  {
   "cell_type": "code",
   "execution_count": null,
   "id": "a1e368f8",
   "metadata": {},
   "outputs": [],
   "source": [
    "data.dtypes"
   ]
  },
  {
   "cell_type": "code",
   "execution_count": null,
   "id": "9184ed4f",
   "metadata": {},
   "outputs": [],
   "source": [
    "# معرفة تكرار العناصر في كل سطر\n",
    "for col in data.columns:\n",
    "    print(col,'--->',data[col].nunique())"
   ]
  },
  {
   "cell_type": "markdown",
   "id": "79441f0a",
   "metadata": {},
   "source": [
    "<h2> pivot table </h2>\n",
    "<br>\n",
    "<b>\n",
    "من خلال تسميته يساعد على أن نجعل البيانات مرتكزة(تتمحور) على فهرس،عامود،قيم داخل الجدول \n",
    "من خلال تعين دالة تقوم بحساب عمليات على القيم التى داخل الجدول\n",
    "</b>\n"
   ]
  },
  {
   "cell_type": "code",
   "execution_count": null,
   "id": "d865761c",
   "metadata": {},
   "outputs": [],
   "source": [
    "pd.pivot_table(data,index='Sub-Category',values=['Sales','Profit'],aggfunc = 'mean')"
   ]
  },
  {
   "cell_type": "code",
   "execution_count": null,
   "id": "ab50eeb7",
   "metadata": {},
   "outputs": [],
   "source": [
    "save_mean = pd.pivot_table(data,index='Sub-Category',values=['Sales','Profit'],\n",
    "                           aggfunc = 'mean').reset_index()\n",
    "save_mean"
   ]
  },
  {
   "cell_type": "code",
   "execution_count": null,
   "id": "ba61896c",
   "metadata": {},
   "outputs": [],
   "source": [
    "save_std = pd.pivot_table(data,index='Sub-Category',values=['Sales','Profit'],\n",
    "                          aggfunc = np.std).reset_index()\n",
    "save_std"
   ]
  },
  {
   "cell_type": "code",
   "execution_count": null,
   "id": "f8f43c10",
   "metadata": {},
   "outputs": [],
   "source": [
    "# تعديل على أسماء الأعمدة\n",
    "save_mean.columns = ['Sub-Category','Profit_mean','Sales_mean']\n",
    "save_std.columns = ['Sub-Category','Profit_std','Sales_std']\n",
    "save_mean"
   ]
  },
  {
   "cell_type": "code",
   "execution_count": null,
   "id": "a2f7f412",
   "metadata": {},
   "outputs": [],
   "source": [
    "# دمج على عامود الفئة\n",
    "pd.merge(save_mean,save_std,on='Sub-Category')"
   ]
  },
  {
   "cell_type": "code",
   "execution_count": null,
   "id": "5d7e2d01",
   "metadata": {},
   "outputs": [],
   "source": [
    "df_p = pd.pivot_table(data,index=['Category','Sub-Category'],values=['Sales','Profit']\n",
    "               ,aggfunc=[np.std,np.mean,np.median])\n",
    "df_p "
   ]
  },
  {
   "cell_type": "code",
   "execution_count": null,
   "id": "6b146b14",
   "metadata": {},
   "outputs": [],
   "source": [
    "# تقطيع حسب الحاجة\n",
    "df_p.loc[(['Office Supplies','Technology'],['Paper','Binders','Phones'])\n",
    "         ,(['mean','median'],['Sales'])]\n",
    "# وجب ملاحظة تأثير القيم التى هي خارج النطاق "
   ]
  },
  {
   "cell_type": "code",
   "execution_count": null,
   "id": "2a6bc75d",
   "metadata": {},
   "outputs": [],
   "source": [
    "data.columns"
   ]
  },
  {
   "cell_type": "code",
   "execution_count": null,
   "id": "b4739769",
   "metadata": {},
   "outputs": [],
   "source": [
    "# (numpy💪)  لا تستخدم دوال بايثون الأساسية كما فعلت لأنها بطيئة \n",
    "# \\ تسمح بتكملة الكود في السطر الذي يليه\n",
    "pd.pivot_table(data,index=['Customer ID'],values=['Sales'],aggfunc=sum).reset_index().\\\n",
    "     sort_values(by='Sales',ascending = False).head(10)"
   ]
  },
  {
   "cell_type": "code",
   "execution_count": null,
   "id": "18362cea",
   "metadata": {},
   "outputs": [],
   "source": [
    "#   للذين لديهم أكبر قيمة شرائية ID معرفة \n",
    "x = pd.pivot_table(data,index=['Customer ID'],values=['Sales'],aggfunc=sum).reset_index().\\\n",
    "     sort_values(by='Sales',ascending = False).head(10)['Customer ID'].values\n",
    "x"
   ]
  },
  {
   "cell_type": "code",
   "execution_count": null,
   "id": "771e44af",
   "metadata": {},
   "outputs": [],
   "source": [
    "data[data['Customer ID'].isin(x)].head(10)"
   ]
  },
  {
   "cell_type": "code",
   "execution_count": null,
   "id": "1973c027",
   "metadata": {},
   "outputs": [],
   "source": [
    "pd.unique(data['Region'])"
   ]
  },
  {
   "cell_type": "code",
   "execution_count": null,
   "id": "59ebe22e",
   "metadata": {},
   "outputs": [],
   "source": [
    "# تصفية حسب الحاجة \n",
    "filtdata= data[data['Customer ID'].isin(x) & (data['Region'] == 'South') ]"
   ]
  },
  {
   "cell_type": "code",
   "execution_count": null,
   "id": "37d2cc35",
   "metadata": {},
   "outputs": [],
   "source": [
    "pd.pivot_table(filtdata,index='Sub-Category',values = ['Sales'])"
   ]
  },
  {
   "cell_type": "code",
   "execution_count": null,
   "id": "bb1777b0",
   "metadata": {},
   "outputs": [],
   "source": [
    "filterdata= data[data['Customer ID'].isin(x)]"
   ]
  },
  {
   "cell_type": "code",
   "execution_count": null,
   "id": "81c3f2fb",
   "metadata": {},
   "outputs": [],
   "source": [
    "pd.pivot_table(filterdata,index='Region',values = ['Sales'])"
   ]
  },
  {
   "cell_type": "code",
   "execution_count": null,
   "id": "98c1458e",
   "metadata": {},
   "outputs": [],
   "source": [
    "# تصفية البيانات لنجري عليها تمحور\n",
    "filter_data= data[data['Customer ID'].isin(x)]\n",
    "filter_data"
   ]
  },
  {
   "cell_type": "code",
   "execution_count": null,
   "id": "5f2625d5",
   "metadata": {},
   "outputs": [],
   "source": [
    "df_f = pd.pivot_table(filter_data,index='Sub-Category',columns = ['Region'],values = ['Sales'])\n",
    "df_f             "
   ]
  },
  {
   "cell_type": "code",
   "execution_count": null,
   "id": "e3e95ecf",
   "metadata": {},
   "outputs": [],
   "source": [
    "# نلاحظ أنه لدينا أعمدة متعددة\n",
    "df_f.columns"
   ]
  },
  {
   "cell_type": "code",
   "execution_count": null,
   "id": "4cfa9f0a",
   "metadata": {},
   "outputs": [],
   "source": [
    "# إلغاء  الأعمدة المتعددة\n",
    "df_f.columns = ['_'.join(i) for i in df_f.columns]"
   ]
  },
  {
   "cell_type": "code",
   "execution_count": null,
   "id": "0eab9d7e",
   "metadata": {},
   "outputs": [],
   "source": [
    "df_f"
   ]
  },
  {
   "cell_type": "code",
   "execution_count": null,
   "id": "eed36622",
   "metadata": {},
   "outputs": [],
   "source": [
    "# ترتيب الأعمدة \n",
    "df_f.sort_values(by='Sales_Central',ascending=False)"
   ]
  },
  {
   "cell_type": "code",
   "execution_count": null,
   "id": "7db2d107",
   "metadata": {},
   "outputs": [],
   "source": [
    "data.groupby('Region').sum()"
   ]
  },
  {
   "cell_type": "code",
   "execution_count": null,
   "id": "7bdc7c95",
   "metadata": {},
   "outputs": [],
   "source": [
    "data.groupby(['Region','Customer ID']).sum()"
   ]
  },
  {
   "cell_type": "code",
   "execution_count": null,
   "id": "fef301af",
   "metadata": {},
   "outputs": [],
   "source": [
    "data.groupby(['Region','Customer ID']).agg({'Sales':'sum','Profit':'sum'}).reset_index()"
   ]
  },
  {
   "cell_type": "code",
   "execution_count": null,
   "id": "a39f4c12",
   "metadata": {},
   "outputs": [],
   "source": [
    "df_g = data.groupby(['Region','Customer ID']).agg({'Sales':['sum','mean']})\n",
    "df_g"
   ]
  },
  {
   "cell_type": "code",
   "execution_count": null,
   "id": "05c79c6d",
   "metadata": {},
   "outputs": [],
   "source": [
    "df_g.columns.names = ['level1', 'level2']\n",
    "df_g"
   ]
  },
  {
   "cell_type": "code",
   "execution_count": null,
   "id": "58805dd1",
   "metadata": {},
   "outputs": [],
   "source": [
    "df = data.groupby(['Region','Customer ID']).agg({'Sales':['sum','mean'],'Profit':'sum'})\n",
    "df"
   ]
  },
  {
   "cell_type": "code",
   "execution_count": null,
   "id": "00996c13",
   "metadata": {},
   "outputs": [],
   "source": [
    "df['Sales']['sum']"
   ]
  },
  {
   "cell_type": "code",
   "execution_count": null,
   "id": "bafdc5f0",
   "metadata": {},
   "outputs": [],
   "source": [
    "df['profit_ratio'] = df['Profit']['sum'] / df['Sales']['sum']"
   ]
  },
  {
   "cell_type": "code",
   "execution_count": null,
   "id": "e487c4a8",
   "metadata": {},
   "outputs": [],
   "source": [
    "df = df.sort_values(['Region','profit_ratio'],ascending= False)"
   ]
  },
  {
   "cell_type": "code",
   "execution_count": null,
   "id": "954c8230",
   "metadata": {},
   "outputs": [],
   "source": [
    "df"
   ]
  },
  {
   "cell_type": "code",
   "execution_count": null,
   "id": "29ccc047",
   "metadata": {},
   "outputs": [],
   "source": [
    "df.groupby(['Region']).head(20)['profit_ratio'].mean()"
   ]
  },
  {
   "cell_type": "code",
   "execution_count": null,
   "id": "dd7713f4",
   "metadata": {},
   "outputs": [],
   "source": [
    "df1 = df.head()"
   ]
  },
  {
   "cell_type": "code",
   "execution_count": null,
   "id": "5da25658",
   "metadata": {},
   "outputs": [],
   "source": [
    "# جعل عناصر أخر عامود فهارس\n",
    "df_1 = df1.stack()\n",
    "df_1"
   ]
  },
  {
   "cell_type": "code",
   "execution_count": null,
   "id": "38416450",
   "metadata": {},
   "outputs": [],
   "source": [
    "# إنشاء أعمدة متعددة\n",
    "x = [('old_columns','Profit'),('old_columns','Sales'),('new_column','profit_ratio')]"
   ]
  },
  {
   "cell_type": "code",
   "execution_count": null,
   "id": "d2d78de7",
   "metadata": {},
   "outputs": [],
   "source": [
    "df_1.columns = pd.MultiIndex.from_tuples(x,names=['level1','level2'])"
   ]
  },
  {
   "cell_type": "code",
   "execution_count": null,
   "id": "d197fb67",
   "metadata": {},
   "outputs": [],
   "source": [
    "df_1"
   ]
  },
  {
   "cell_type": "code",
   "execution_count": null,
   "id": "4476eee2",
   "metadata": {},
   "outputs": [],
   "source": [
    "# طريقة ثانية مفيدة عند وجود أعمدة كثيرة \n",
    "dic = {'level_1':['old_columns','old_columns','new_column'],\n",
    "       'level_2':['Profit','Sales','profit_ratio']\n",
    "       }\n",
    "dic "
   ]
  },
  {
   "cell_type": "code",
   "execution_count": null,
   "id": "b3f0a7cb",
   "metadata": {},
   "outputs": [],
   "source": [
    "DF = pd.DataFrame(dic)\n",
    "DF"
   ]
  },
  {
   "cell_type": "code",
   "execution_count": null,
   "id": "93d07a1d",
   "metadata": {},
   "outputs": [],
   "source": [
    "df_1.columns  = pd.MultiIndex.from_frame(DF)\n",
    "df_1"
   ]
  },
  {
   "cell_type": "code",
   "execution_count": null,
   "id": "f044bc0c",
   "metadata": {},
   "outputs": [],
   "source": [
    "data"
   ]
  },
  {
   "cell_type": "code",
   "execution_count": null,
   "id": "9aca5ecd",
   "metadata": {},
   "outputs": [],
   "source": [
    "data['Ship Mode']"
   ]
  },
  {
   "cell_type": "code",
   "execution_count": null,
   "id": "9c0782e7",
   "metadata": {},
   "outputs": [],
   "source": [
    "# فصل العامود\n",
    "data['Ship Mode'].str.split(' ').head()"
   ]
  },
  {
   "cell_type": "code",
   "execution_count": null,
   "id": "d12bea53",
   "metadata": {},
   "outputs": [],
   "source": [
    "# تصفية البيانات حسب الحاجة\n",
    "data[data['Ship Mode'].str.contains('Second')]"
   ]
  },
  {
   "cell_type": "code",
   "execution_count": null,
   "id": "80e4da53",
   "metadata": {},
   "outputs": [],
   "source": [
    "# إستبدال بسيط\n",
    "data['Ship Mode'].str.replace(' ','_').head()"
   ]
  },
  {
   "cell_type": "code",
   "execution_count": null,
   "id": "855de442",
   "metadata": {},
   "outputs": [],
   "source": []
  }
 ],
 "metadata": {
  "kernelspec": {
   "display_name": "Python 3 (ipykernel)",
   "language": "python",
   "name": "python3"
  },
  "language_info": {
   "codemirror_mode": {
    "name": "ipython",
    "version": 3
   },
   "file_extension": ".py",
   "mimetype": "text/x-python",
   "name": "python",
   "nbconvert_exporter": "python",
   "pygments_lexer": "ipython3",
   "version": "3.9.12"
  }
 },
 "nbformat": 4,
 "nbformat_minor": 5
}
