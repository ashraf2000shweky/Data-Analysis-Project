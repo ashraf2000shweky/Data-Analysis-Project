{
 "cells": [
  {
   "cell_type": "code",
   "execution_count": 1,
   "id": "7bc59092",
   "metadata": {},
   "outputs": [],
   "source": [
    "import pandas as pd"
   ]
  },
  {
   "cell_type": "markdown",
   "id": "9493a235",
   "metadata": {},
   "source": [
    "<b>\n",
    "   بأكثر من طريقة DataFrame إنشاء \n",
    "</b>"
   ]
  },
  {
   "cell_type": "code",
   "execution_count": 3,
   "id": "fab4e991",
   "metadata": {},
   "outputs": [
    {
     "data": {
      "text/html": [
       "<div>\n",
       "<style scoped>\n",
       "    .dataframe tbody tr th:only-of-type {\n",
       "        vertical-align: middle;\n",
       "    }\n",
       "\n",
       "    .dataframe tbody tr th {\n",
       "        vertical-align: top;\n",
       "    }\n",
       "\n",
       "    .dataframe thead th {\n",
       "        text-align: right;\n",
       "    }\n",
       "</style>\n",
       "<table border=\"1\" class=\"dataframe\">\n",
       "  <thead>\n",
       "    <tr style=\"text-align: right;\">\n",
       "      <th></th>\n",
       "      <th>0</th>\n",
       "    </tr>\n",
       "  </thead>\n",
       "  <tbody>\n",
       "    <tr>\n",
       "      <th>0</th>\n",
       "      <td>1</td>\n",
       "    </tr>\n",
       "    <tr>\n",
       "      <th>1</th>\n",
       "      <td>2</td>\n",
       "    </tr>\n",
       "    <tr>\n",
       "      <th>2</th>\n",
       "      <td>3</td>\n",
       "    </tr>\n",
       "    <tr>\n",
       "      <th>3</th>\n",
       "      <td>4</td>\n",
       "    </tr>\n",
       "    <tr>\n",
       "      <th>4</th>\n",
       "      <td>5</td>\n",
       "    </tr>\n",
       "  </tbody>\n",
       "</table>\n",
       "</div>"
      ],
      "text/plain": [
       "   0\n",
       "0  1\n",
       "1  2\n",
       "2  3\n",
       "3  4\n",
       "4  5"
      ]
     },
     "execution_count": 3,
     "metadata": {},
     "output_type": "execute_result"
    }
   ],
   "source": [
    "list1 = [1,2,3,4,5]\n",
    "pd.DataFrame(list1)"
   ]
  },
  {
   "cell_type": "code",
   "execution_count": 32,
   "id": "646244b2",
   "metadata": {},
   "outputs": [
    {
     "data": {
      "text/html": [
       "<div>\n",
       "<style scoped>\n",
       "    .dataframe tbody tr th:only-of-type {\n",
       "        vertical-align: middle;\n",
       "    }\n",
       "\n",
       "    .dataframe tbody tr th {\n",
       "        vertical-align: top;\n",
       "    }\n",
       "\n",
       "    .dataframe thead th {\n",
       "        text-align: right;\n",
       "    }\n",
       "</style>\n",
       "<table border=\"1\" class=\"dataframe\">\n",
       "  <thead>\n",
       "    <tr style=\"text-align: right;\">\n",
       "      <th></th>\n",
       "      <th>0</th>\n",
       "      <th>1</th>\n",
       "      <th>2</th>\n",
       "      <th>3</th>\n",
       "      <th>4</th>\n",
       "    </tr>\n",
       "  </thead>\n",
       "  <tbody>\n",
       "    <tr>\n",
       "      <th>0</th>\n",
       "      <td>1</td>\n",
       "      <td>2</td>\n",
       "      <td>3</td>\n",
       "      <td>4</td>\n",
       "      <td>5.0</td>\n",
       "    </tr>\n",
       "    <tr>\n",
       "      <th>1</th>\n",
       "      <td>10</td>\n",
       "      <td>20</td>\n",
       "      <td>30</td>\n",
       "      <td>40</td>\n",
       "      <td>NaN</td>\n",
       "    </tr>\n",
       "  </tbody>\n",
       "</table>\n",
       "</div>"
      ],
      "text/plain": [
       "    0   1   2   3    4\n",
       "0   1   2   3   4  5.0\n",
       "1  10  20  30  40  NaN"
      ]
     },
     "execution_count": 32,
     "metadata": {},
     "output_type": "execute_result"
    }
   ],
   "source": [
    "list2 = [[1,2,3,4,5],[10,20,30,40]]\n",
    "pd.DataFrame(list2)"
   ]
  },
  {
   "cell_type": "code",
   "execution_count": 13,
   "id": "85226c27",
   "metadata": {},
   "outputs": [
    {
     "data": {
      "text/html": [
       "<div>\n",
       "<style scoped>\n",
       "    .dataframe tbody tr th:only-of-type {\n",
       "        vertical-align: middle;\n",
       "    }\n",
       "\n",
       "    .dataframe tbody tr th {\n",
       "        vertical-align: top;\n",
       "    }\n",
       "\n",
       "    .dataframe thead th {\n",
       "        text-align: right;\n",
       "    }\n",
       "</style>\n",
       "<table border=\"1\" class=\"dataframe\">\n",
       "  <thead>\n",
       "    <tr style=\"text-align: right;\">\n",
       "      <th></th>\n",
       "      <th>Name</th>\n",
       "      <th>Mark</th>\n",
       "    </tr>\n",
       "  </thead>\n",
       "  <tbody>\n",
       "    <tr>\n",
       "      <th>0</th>\n",
       "      <td>Ajay</td>\n",
       "      <td>70</td>\n",
       "    </tr>\n",
       "    <tr>\n",
       "      <th>1</th>\n",
       "      <td>Rahul</td>\n",
       "      <td>80</td>\n",
       "    </tr>\n",
       "    <tr>\n",
       "      <th>2</th>\n",
       "      <td>Raj</td>\n",
       "      <td>90</td>\n",
       "    </tr>\n",
       "  </tbody>\n",
       "</table>\n",
       "</div>"
      ],
      "text/plain": [
       "    Name  Mark\n",
       "0   Ajay    70\n",
       "1  Rahul    80\n",
       "2    Raj    90"
      ]
     },
     "execution_count": 13,
     "metadata": {},
     "output_type": "execute_result"
    }
   ],
   "source": [
    "list3 =  [['Ajay',70],['Rahul',80],['Raj',90]]\n",
    "pd.DataFrame(list3,columns = ['Name','Mark'])"
   ]
  },
  {
   "cell_type": "code",
   "execution_count": 17,
   "id": "f8c759e9",
   "metadata": {},
   "outputs": [
    {
     "data": {
      "text/html": [
       "<div>\n",
       "<style scoped>\n",
       "    .dataframe tbody tr th:only-of-type {\n",
       "        vertical-align: middle;\n",
       "    }\n",
       "\n",
       "    .dataframe tbody tr th {\n",
       "        vertical-align: top;\n",
       "    }\n",
       "\n",
       "    .dataframe thead th {\n",
       "        text-align: right;\n",
       "    }\n",
       "</style>\n",
       "<table border=\"1\" class=\"dataframe\">\n",
       "  <thead>\n",
       "    <tr style=\"text-align: right;\">\n",
       "      <th></th>\n",
       "      <th>Name</th>\n",
       "      <th>Mark</th>\n",
       "    </tr>\n",
       "  </thead>\n",
       "  <tbody>\n",
       "    <tr>\n",
       "      <th>student1</th>\n",
       "      <td>Raj</td>\n",
       "      <td>90</td>\n",
       "    </tr>\n",
       "    <tr>\n",
       "      <th>student2</th>\n",
       "      <td>Rahul</td>\n",
       "      <td>80</td>\n",
       "    </tr>\n",
       "    <tr>\n",
       "      <th>student3</th>\n",
       "      <td>Ajay</td>\n",
       "      <td>70</td>\n",
       "    </tr>\n",
       "  </tbody>\n",
       "</table>\n",
       "</div>"
      ],
      "text/plain": [
       "           Name  Mark\n",
       "student1    Raj    90\n",
       "student2  Rahul    80\n",
       "student3   Ajay    70"
      ]
     },
     "execution_count": 17,
     "metadata": {},
     "output_type": "execute_result"
    }
   ],
   "source": [
    "data = {'Name': ['Raj','Rahul','Ajay'],\n",
    "       'Mark':[90,80,70]}\n",
    "pd.DataFrame(data,index=['student1','student2','student3'])"
   ]
  },
  {
   "cell_type": "code",
   "execution_count": 19,
   "id": "ba3b98dd",
   "metadata": {},
   "outputs": [
    {
     "data": {
      "text/html": [
       "<div>\n",
       "<style scoped>\n",
       "    .dataframe tbody tr th:only-of-type {\n",
       "        vertical-align: middle;\n",
       "    }\n",
       "\n",
       "    .dataframe tbody tr th {\n",
       "        vertical-align: top;\n",
       "    }\n",
       "\n",
       "    .dataframe thead th {\n",
       "        text-align: right;\n",
       "    }\n",
       "</style>\n",
       "<table border=\"1\" class=\"dataframe\">\n",
       "  <thead>\n",
       "    <tr style=\"text-align: right;\">\n",
       "      <th></th>\n",
       "      <th>a</th>\n",
       "      <th>b</th>\n",
       "      <th>c</th>\n",
       "    </tr>\n",
       "  </thead>\n",
       "  <tbody>\n",
       "    <tr>\n",
       "      <th>0</th>\n",
       "      <td>1</td>\n",
       "      <td>2</td>\n",
       "      <td>3</td>\n",
       "    </tr>\n",
       "    <tr>\n",
       "      <th>1</th>\n",
       "      <td>40</td>\n",
       "      <td>80</td>\n",
       "      <td>90</td>\n",
       "    </tr>\n",
       "  </tbody>\n",
       "</table>\n",
       "</div>"
      ],
      "text/plain": [
       "    a   b   c\n",
       "0   1   2   3\n",
       "1  40  80  90"
      ]
     },
     "execution_count": 19,
     "metadata": {},
     "output_type": "execute_result"
    }
   ],
   "source": [
    "list4=[{'a':1,'b':2,'c':3},\n",
    "      {'a':40,'b':80,'c':90}]\n",
    "pd.DataFrame(list4)"
   ]
  },
  {
   "cell_type": "code",
   "execution_count": 20,
   "id": "94d2c261",
   "metadata": {},
   "outputs": [
    {
     "data": {
      "text/html": [
       "<div>\n",
       "<style scoped>\n",
       "    .dataframe tbody tr th:only-of-type {\n",
       "        vertical-align: middle;\n",
       "    }\n",
       "\n",
       "    .dataframe tbody tr th {\n",
       "        vertical-align: top;\n",
       "    }\n",
       "\n",
       "    .dataframe thead th {\n",
       "        text-align: right;\n",
       "    }\n",
       "</style>\n",
       "<table border=\"1\" class=\"dataframe\">\n",
       "  <thead>\n",
       "    <tr style=\"text-align: right;\">\n",
       "      <th></th>\n",
       "      <th>ashraf</th>\n",
       "      <th>shweky</th>\n",
       "    </tr>\n",
       "  </thead>\n",
       "  <tbody>\n",
       "    <tr>\n",
       "      <th>0</th>\n",
       "      <td>50</td>\n",
       "      <td>60</td>\n",
       "    </tr>\n",
       "    <tr>\n",
       "      <th>1</th>\n",
       "      <td>70</td>\n",
       "      <td>80</td>\n",
       "    </tr>\n",
       "    <tr>\n",
       "      <th>2</th>\n",
       "      <td>90</td>\n",
       "      <td>40</td>\n",
       "    </tr>\n",
       "    <tr>\n",
       "      <th>3</th>\n",
       "      <td>80</td>\n",
       "      <td>90</td>\n",
       "    </tr>\n",
       "  </tbody>\n",
       "</table>\n",
       "</div>"
      ],
      "text/plain": [
       "   ashraf  shweky\n",
       "0      50      60\n",
       "1      70      80\n",
       "2      90      40\n",
       "3      80      90"
      ]
     },
     "execution_count": 20,
     "metadata": {},
     "output_type": "execute_result"
    }
   ],
   "source": [
    "data ={ 'ashraf':pd.Series([50,70,90,80]),\n",
    "        'shweky':pd.Series([60,80,40,90])  }\n",
    "pd.DataFrame(data)"
   ]
  },
  {
   "cell_type": "code",
   "execution_count": 21,
   "id": "a3c4f382",
   "metadata": {},
   "outputs": [],
   "source": [
    "dic = {'Name':['Ashraf','Ahmad','Ayham','Adam','Ghassan','Aman','Islam'],\n",
    "       'Marks' : [90,70,95,80,65,60,98],\n",
    "       'Gender':['Male','Male','Male','Male','Male','Female','Male']}"
   ]
  },
  {
   "cell_type": "code",
   "execution_count": 22,
   "id": "1cee6b25",
   "metadata": {},
   "outputs": [],
   "source": [
    "df = pd.DataFrame(dic)"
   ]
  },
  {
   "cell_type": "code",
   "execution_count": 23,
   "id": "52e6ba2a",
   "metadata": {},
   "outputs": [
    {
     "data": {
      "text/html": [
       "<div>\n",
       "<style scoped>\n",
       "    .dataframe tbody tr th:only-of-type {\n",
       "        vertical-align: middle;\n",
       "    }\n",
       "\n",
       "    .dataframe tbody tr th {\n",
       "        vertical-align: top;\n",
       "    }\n",
       "\n",
       "    .dataframe thead th {\n",
       "        text-align: right;\n",
       "    }\n",
       "</style>\n",
       "<table border=\"1\" class=\"dataframe\">\n",
       "  <thead>\n",
       "    <tr style=\"text-align: right;\">\n",
       "      <th></th>\n",
       "      <th>Name</th>\n",
       "      <th>Marks</th>\n",
       "      <th>Gender</th>\n",
       "    </tr>\n",
       "  </thead>\n",
       "  <tbody>\n",
       "    <tr>\n",
       "      <th>0</th>\n",
       "      <td>Ashraf</td>\n",
       "      <td>90</td>\n",
       "      <td>Male</td>\n",
       "    </tr>\n",
       "    <tr>\n",
       "      <th>1</th>\n",
       "      <td>Ahmad</td>\n",
       "      <td>70</td>\n",
       "      <td>Male</td>\n",
       "    </tr>\n",
       "    <tr>\n",
       "      <th>2</th>\n",
       "      <td>Ayham</td>\n",
       "      <td>95</td>\n",
       "      <td>Male</td>\n",
       "    </tr>\n",
       "    <tr>\n",
       "      <th>3</th>\n",
       "      <td>Adam</td>\n",
       "      <td>80</td>\n",
       "      <td>Male</td>\n",
       "    </tr>\n",
       "    <tr>\n",
       "      <th>4</th>\n",
       "      <td>Ghassan</td>\n",
       "      <td>65</td>\n",
       "      <td>Male</td>\n",
       "    </tr>\n",
       "    <tr>\n",
       "      <th>5</th>\n",
       "      <td>Aman</td>\n",
       "      <td>60</td>\n",
       "      <td>Female</td>\n",
       "    </tr>\n",
       "    <tr>\n",
       "      <th>6</th>\n",
       "      <td>Islam</td>\n",
       "      <td>98</td>\n",
       "      <td>Male</td>\n",
       "    </tr>\n",
       "  </tbody>\n",
       "</table>\n",
       "</div>"
      ],
      "text/plain": [
       "      Name  Marks  Gender\n",
       "0   Ashraf     90    Male\n",
       "1    Ahmad     70    Male\n",
       "2    Ayham     95    Male\n",
       "3     Adam     80    Male\n",
       "4  Ghassan     65    Male\n",
       "5     Aman     60  Female\n",
       "6    Islam     98    Male"
      ]
     },
     "execution_count": 23,
     "metadata": {},
     "output_type": "execute_result"
    }
   ],
   "source": [
    "# إظهار البيانات \n",
    "df"
   ]
  },
  {
   "cell_type": "code",
   "execution_count": 24,
   "id": "077bc749",
   "metadata": {},
   "outputs": [
    {
     "data": {
      "text/html": [
       "<div>\n",
       "<style scoped>\n",
       "    .dataframe tbody tr th:only-of-type {\n",
       "        vertical-align: middle;\n",
       "    }\n",
       "\n",
       "    .dataframe tbody tr th {\n",
       "        vertical-align: top;\n",
       "    }\n",
       "\n",
       "    .dataframe thead th {\n",
       "        text-align: right;\n",
       "    }\n",
       "</style>\n",
       "<table border=\"1\" class=\"dataframe\">\n",
       "  <thead>\n",
       "    <tr style=\"text-align: right;\">\n",
       "      <th></th>\n",
       "      <th>Name</th>\n",
       "      <th>Marks</th>\n",
       "      <th>Gender</th>\n",
       "    </tr>\n",
       "  </thead>\n",
       "  <tbody>\n",
       "    <tr>\n",
       "      <th>0</th>\n",
       "      <td>Ashraf</td>\n",
       "      <td>90</td>\n",
       "      <td>Male</td>\n",
       "    </tr>\n",
       "    <tr>\n",
       "      <th>1</th>\n",
       "      <td>Ahmad</td>\n",
       "      <td>70</td>\n",
       "      <td>Male</td>\n",
       "    </tr>\n",
       "    <tr>\n",
       "      <th>2</th>\n",
       "      <td>Ayham</td>\n",
       "      <td>95</td>\n",
       "      <td>Male</td>\n",
       "    </tr>\n",
       "  </tbody>\n",
       "</table>\n",
       "</div>"
      ],
      "text/plain": [
       "     Name  Marks Gender\n",
       "0  Ashraf     90   Male\n",
       "1   Ahmad     70   Male\n",
       "2   Ayham     95   Male"
      ]
     },
     "execution_count": 24,
     "metadata": {},
     "output_type": "execute_result"
    }
   ],
   "source": [
    "df.head(3)  # إظهار اول ثلاثة سطور"
   ]
  },
  {
   "cell_type": "code",
   "execution_count": 25,
   "id": "62b979bf",
   "metadata": {},
   "outputs": [
    {
     "data": {
      "text/html": [
       "<div>\n",
       "<style scoped>\n",
       "    .dataframe tbody tr th:only-of-type {\n",
       "        vertical-align: middle;\n",
       "    }\n",
       "\n",
       "    .dataframe tbody tr th {\n",
       "        vertical-align: top;\n",
       "    }\n",
       "\n",
       "    .dataframe thead th {\n",
       "        text-align: right;\n",
       "    }\n",
       "</style>\n",
       "<table border=\"1\" class=\"dataframe\">\n",
       "  <thead>\n",
       "    <tr style=\"text-align: right;\">\n",
       "      <th></th>\n",
       "      <th>Name</th>\n",
       "      <th>Marks</th>\n",
       "      <th>Gender</th>\n",
       "    </tr>\n",
       "  </thead>\n",
       "  <tbody>\n",
       "    <tr>\n",
       "      <th>4</th>\n",
       "      <td>Ghassan</td>\n",
       "      <td>65</td>\n",
       "      <td>Male</td>\n",
       "    </tr>\n",
       "    <tr>\n",
       "      <th>5</th>\n",
       "      <td>Aman</td>\n",
       "      <td>60</td>\n",
       "      <td>Female</td>\n",
       "    </tr>\n",
       "    <tr>\n",
       "      <th>6</th>\n",
       "      <td>Islam</td>\n",
       "      <td>98</td>\n",
       "      <td>Male</td>\n",
       "    </tr>\n",
       "  </tbody>\n",
       "</table>\n",
       "</div>"
      ],
      "text/plain": [
       "      Name  Marks  Gender\n",
       "4  Ghassan     65    Male\n",
       "5     Aman     60  Female\n",
       "6    Islam     98    Male"
      ]
     },
     "execution_count": 25,
     "metadata": {},
     "output_type": "execute_result"
    }
   ],
   "source": [
    "df.tail(3) # إظهار أخر ثلاثة سطور"
   ]
  },
  {
   "cell_type": "code",
   "execution_count": 26,
   "id": "1028131f",
   "metadata": {},
   "outputs": [
    {
     "name": "stdout",
     "output_type": "stream",
     "text": [
      "<class 'pandas.core.frame.DataFrame'>\n",
      "RangeIndex: 7 entries, 0 to 6\n",
      "Data columns (total 3 columns):\n",
      " #   Column  Non-Null Count  Dtype \n",
      "---  ------  --------------  ----- \n",
      " 0   Name    7 non-null      object\n",
      " 1   Marks   7 non-null      int64 \n",
      " 2   Gender  7 non-null      object\n",
      "dtypes: int64(1), object(2)\n",
      "memory usage: 296.0+ bytes\n"
     ]
    }
   ],
   "source": [
    "df.info() # معلومات عن البيانات"
   ]
  },
  {
   "cell_type": "code",
   "execution_count": 27,
   "id": "807c2481",
   "metadata": {},
   "outputs": [
    {
     "data": {
      "text/plain": [
       "(7, 3)"
      ]
     },
     "execution_count": 27,
     "metadata": {},
     "output_type": "execute_result"
    }
   ],
   "source": [
    "df.shape # شكل البيانات"
   ]
  },
  {
   "cell_type": "code",
   "execution_count": 28,
   "id": "5b33755e",
   "metadata": {},
   "outputs": [
    {
     "name": "stdout",
     "output_type": "stream",
     "text": [
      "Number of rows =  7\n",
      "Number of columns =  3\n"
     ]
    }
   ],
   "source": [
    "print('Number of rows = ',df.shape[0])\n",
    "print('Number of columns = ',df.shape[1])"
   ]
  },
  {
   "cell_type": "code",
   "execution_count": 29,
   "id": "1693accb",
   "metadata": {},
   "outputs": [
    {
     "data": {
      "text/plain": [
       "21"
      ]
     },
     "execution_count": 29,
     "metadata": {},
     "output_type": "execute_result"
    }
   ],
   "source": [
    "df.size # عدد الخلايا"
   ]
  },
  {
   "cell_type": "code",
   "execution_count": 30,
   "id": "317cd2ab",
   "metadata": {},
   "outputs": [
    {
     "data": {
      "text/plain": [
       "Name      0\n",
       "Marks     0\n",
       "Gender    0\n",
       "dtype: int64"
      ]
     },
     "execution_count": 30,
     "metadata": {},
     "output_type": "execute_result"
    }
   ],
   "source": [
    "df.isnull().sum() # القيم المفقودة في كل سطر"
   ]
  },
  {
   "cell_type": "code",
   "execution_count": 31,
   "id": "3964a59d",
   "metadata": {},
   "outputs": [
    {
     "data": {
      "text/plain": [
       "0    3\n",
       "1    3\n",
       "2    3\n",
       "3    3\n",
       "4    3\n",
       "5    3\n",
       "6    3\n",
       "dtype: int64"
      ]
     },
     "execution_count": 31,
     "metadata": {},
     "output_type": "execute_result"
    }
   ],
   "source": [
    "df.notnull().sum(axis=1) # القيم غير المفقودة في كل سطر"
   ]
  },
  {
   "cell_type": "code",
   "execution_count": 35,
   "id": "5bd90ad5",
   "metadata": {
    "scrolled": true
   },
   "outputs": [
    {
     "data": {
      "text/html": [
       "<div>\n",
       "<style scoped>\n",
       "    .dataframe tbody tr th:only-of-type {\n",
       "        vertical-align: middle;\n",
       "    }\n",
       "\n",
       "    .dataframe tbody tr th {\n",
       "        vertical-align: top;\n",
       "    }\n",
       "\n",
       "    .dataframe thead th {\n",
       "        text-align: right;\n",
       "    }\n",
       "</style>\n",
       "<table border=\"1\" class=\"dataframe\">\n",
       "  <thead>\n",
       "    <tr style=\"text-align: right;\">\n",
       "      <th></th>\n",
       "      <th>Marks</th>\n",
       "    </tr>\n",
       "  </thead>\n",
       "  <tbody>\n",
       "    <tr>\n",
       "      <th>count</th>\n",
       "      <td>7.000000</td>\n",
       "    </tr>\n",
       "    <tr>\n",
       "      <th>mean</th>\n",
       "      <td>79.714286</td>\n",
       "    </tr>\n",
       "    <tr>\n",
       "      <th>std</th>\n",
       "      <td>15.129599</td>\n",
       "    </tr>\n",
       "    <tr>\n",
       "      <th>min</th>\n",
       "      <td>60.000000</td>\n",
       "    </tr>\n",
       "    <tr>\n",
       "      <th>25%</th>\n",
       "      <td>67.500000</td>\n",
       "    </tr>\n",
       "    <tr>\n",
       "      <th>50%</th>\n",
       "      <td>80.000000</td>\n",
       "    </tr>\n",
       "    <tr>\n",
       "      <th>75%</th>\n",
       "      <td>92.500000</td>\n",
       "    </tr>\n",
       "    <tr>\n",
       "      <th>max</th>\n",
       "      <td>98.000000</td>\n",
       "    </tr>\n",
       "  </tbody>\n",
       "</table>\n",
       "</div>"
      ],
      "text/plain": [
       "           Marks\n",
       "count   7.000000\n",
       "mean   79.714286\n",
       "std    15.129599\n",
       "min    60.000000\n",
       "25%    67.500000\n",
       "50%    80.000000\n",
       "75%    92.500000\n",
       "max    98.000000"
      ]
     },
     "execution_count": 35,
     "metadata": {},
     "output_type": "execute_result"
    }
   ],
   "source": [
    "df.describe() # معلومات إحصائية عن البيانات "
   ]
  },
  {
   "cell_type": "code",
   "execution_count": 36,
   "id": "516866e6",
   "metadata": {},
   "outputs": [
    {
     "data": {
      "text/plain": [
       "0      Male\n",
       "1      Male\n",
       "2      Male\n",
       "3      Male\n",
       "4      Male\n",
       "5    Female\n",
       "6      Male\n",
       "Name: Gender, dtype: object"
      ]
     },
     "execution_count": 36,
     "metadata": {},
     "output_type": "execute_result"
    }
   ],
   "source": [
    "df['Gender'] #  إظهار أحد الأعمدة"
   ]
  },
  {
   "cell_type": "code",
   "execution_count": 37,
   "id": "a6e3bda4",
   "metadata": {},
   "outputs": [
    {
     "data": {
      "text/plain": [
       "array(['Male', 'Female'], dtype=object)"
      ]
     },
     "execution_count": 37,
     "metadata": {},
     "output_type": "execute_result"
    }
   ],
   "source": [
    "df['Gender'].unique() # العناصر الوحيدة في العامود"
   ]
  },
  {
   "cell_type": "code",
   "execution_count": 38,
   "id": "8d280fbd",
   "metadata": {},
   "outputs": [
    {
     "data": {
      "text/plain": [
       "2"
      ]
     },
     "execution_count": 38,
     "metadata": {},
     "output_type": "execute_result"
    }
   ],
   "source": [
    "df['Gender'].nunique() # عدد العناصر الوجيدة في العامود"
   ]
  },
  {
   "cell_type": "code",
   "execution_count": 39,
   "id": "6ca29b3f",
   "metadata": {},
   "outputs": [
    {
     "data": {
      "text/plain": [
       "Male      6\n",
       "Female    1\n",
       "Name: Gender, dtype: int64"
      ]
     },
     "execution_count": 39,
     "metadata": {},
     "output_type": "execute_result"
    }
   ],
   "source": [
    "df['Gender'].value_counts() # تكرار العناصر في العامود"
   ]
  },
  {
   "cell_type": "code",
   "execution_count": 41,
   "id": "4e09f704",
   "metadata": {},
   "outputs": [
    {
     "data": {
      "text/html": [
       "<div>\n",
       "<style scoped>\n",
       "    .dataframe tbody tr th:only-of-type {\n",
       "        vertical-align: middle;\n",
       "    }\n",
       "\n",
       "    .dataframe tbody tr th {\n",
       "        vertical-align: top;\n",
       "    }\n",
       "\n",
       "    .dataframe thead th {\n",
       "        text-align: right;\n",
       "    }\n",
       "</style>\n",
       "<table border=\"1\" class=\"dataframe\">\n",
       "  <thead>\n",
       "    <tr style=\"text-align: right;\">\n",
       "      <th></th>\n",
       "      <th>Name</th>\n",
       "      <th>Marks</th>\n",
       "      <th>Gender</th>\n",
       "    </tr>\n",
       "  </thead>\n",
       "  <tbody>\n",
       "    <tr>\n",
       "      <th>0</th>\n",
       "      <td>Ashraf</td>\n",
       "      <td>90</td>\n",
       "      <td>Male</td>\n",
       "    </tr>\n",
       "    <tr>\n",
       "      <th>2</th>\n",
       "      <td>Ayham</td>\n",
       "      <td>95</td>\n",
       "      <td>Male</td>\n",
       "    </tr>\n",
       "    <tr>\n",
       "      <th>3</th>\n",
       "      <td>Adam</td>\n",
       "      <td>80</td>\n",
       "      <td>Male</td>\n",
       "    </tr>\n",
       "    <tr>\n",
       "      <th>6</th>\n",
       "      <td>Islam</td>\n",
       "      <td>98</td>\n",
       "      <td>Male</td>\n",
       "    </tr>\n",
       "  </tbody>\n",
       "</table>\n",
       "</div>"
      ],
      "text/plain": [
       "     Name  Marks Gender\n",
       "0  Ashraf     90   Male\n",
       "2   Ayham     95   Male\n",
       "3    Adam     80   Male\n",
       "6   Islam     98   Male"
      ]
     },
     "execution_count": 41,
     "metadata": {},
     "output_type": "execute_result"
    }
   ],
   "source": [
    "df[df['Marks'].between(80,100)] # إظهار البيانات المتمتعه بصفة معنية"
   ]
  },
  {
   "cell_type": "code",
   "execution_count": 40,
   "id": "a79a5034",
   "metadata": {},
   "outputs": [
    {
     "data": {
      "text/plain": [
       "0    90\n",
       "1    70\n",
       "2    95\n",
       "3    80\n",
       "4    65\n",
       "5    60\n",
       "6    98\n",
       "Name: Marks, dtype: int64"
      ]
     },
     "execution_count": 40,
     "metadata": {},
     "output_type": "execute_result"
    }
   ],
   "source": [
    "df['Marks'] # إظهار عامود"
   ]
  },
  {
   "cell_type": "code",
   "execution_count": 42,
   "id": "2175d2bc",
   "metadata": {},
   "outputs": [
    {
     "data": {
      "text/plain": [
       "4"
      ]
     },
     "execution_count": 42,
     "metadata": {},
     "output_type": "execute_result"
    }
   ],
   "source": [
    "sum(df['Marks'].between(80,100)) #  عدد العناصر المحققة للصفة  "
   ]
  },
  {
   "cell_type": "code",
   "execution_count": 43,
   "id": "f76ed3ac",
   "metadata": {
    "scrolled": true
   },
   "outputs": [
    {
     "name": "stdout",
     "output_type": "stream",
     "text": [
      "Mean of marks =  79.71428571428571\n",
      "Min value in Marks =  60\n",
      "Max value in Marks =  98\n"
     ]
    }
   ],
   "source": [
    "# معلومات إحصائية \n",
    "print('Mean of marks = ', df['Marks'].mean())\n",
    "print('Min value in Marks = ', df['Marks'].min())\n",
    "print('Max value in Marks = ', df['Marks'].max())"
   ]
  },
  {
   "cell_type": "code",
   "execution_count": 44,
   "id": "7b72f8ec",
   "metadata": {},
   "outputs": [],
   "source": [
    "import math as mh # مكتبة "
   ]
  },
  {
   "cell_type": "code",
   "execution_count": 45,
   "id": "bd4e9fe2",
   "metadata": {},
   "outputs": [
    {
     "data": {
      "text/plain": [
       "80"
      ]
     },
     "execution_count": 45,
     "metadata": {},
     "output_type": "execute_result"
    }
   ],
   "source": [
    "mh.ceil(df['Marks'].mean()) # تقريب الى الأعلى"
   ]
  },
  {
   "cell_type": "code",
   "execution_count": 50,
   "id": "c9797901",
   "metadata": {},
   "outputs": [],
   "source": [
    "def mark(x):\n",
    "    return x//2 #  تقريب الى الأدنى "
   ]
  },
  {
   "cell_type": "code",
   "execution_count": 52,
   "id": "5826309f",
   "metadata": {},
   "outputs": [
    {
     "data": {
      "text/plain": [
       "0    45\n",
       "1    35\n",
       "2    47\n",
       "3    40\n",
       "4    32\n",
       "5    30\n",
       "6    49\n",
       "Name: Marks, dtype: int64"
      ]
     },
     "execution_count": 52,
     "metadata": {},
     "output_type": "execute_result"
    }
   ],
   "source": [
    "df['Marks'].apply(mark) # apply تقوم بطبيق دالة معينة"
   ]
  },
  {
   "cell_type": "code",
   "execution_count": 53,
   "id": "72035cc0",
   "metadata": {},
   "outputs": [],
   "source": [
    "df['Half_value'] = df['Marks'].apply(mark) # إنشاء عامود جديد"
   ]
  },
  {
   "cell_type": "code",
   "execution_count": 54,
   "id": "b027047e",
   "metadata": {},
   "outputs": [
    {
     "data": {
      "text/html": [
       "<div>\n",
       "<style scoped>\n",
       "    .dataframe tbody tr th:only-of-type {\n",
       "        vertical-align: middle;\n",
       "    }\n",
       "\n",
       "    .dataframe tbody tr th {\n",
       "        vertical-align: top;\n",
       "    }\n",
       "\n",
       "    .dataframe thead th {\n",
       "        text-align: right;\n",
       "    }\n",
       "</style>\n",
       "<table border=\"1\" class=\"dataframe\">\n",
       "  <thead>\n",
       "    <tr style=\"text-align: right;\">\n",
       "      <th></th>\n",
       "      <th>Name</th>\n",
       "      <th>Marks</th>\n",
       "      <th>Gender</th>\n",
       "      <th>Half_value</th>\n",
       "    </tr>\n",
       "  </thead>\n",
       "  <tbody>\n",
       "    <tr>\n",
       "      <th>0</th>\n",
       "      <td>Ashraf</td>\n",
       "      <td>90</td>\n",
       "      <td>Male</td>\n",
       "      <td>45</td>\n",
       "    </tr>\n",
       "    <tr>\n",
       "      <th>1</th>\n",
       "      <td>Ahmad</td>\n",
       "      <td>70</td>\n",
       "      <td>Male</td>\n",
       "      <td>35</td>\n",
       "    </tr>\n",
       "    <tr>\n",
       "      <th>2</th>\n",
       "      <td>Ayham</td>\n",
       "      <td>95</td>\n",
       "      <td>Male</td>\n",
       "      <td>47</td>\n",
       "    </tr>\n",
       "    <tr>\n",
       "      <th>3</th>\n",
       "      <td>Adam</td>\n",
       "      <td>80</td>\n",
       "      <td>Male</td>\n",
       "      <td>40</td>\n",
       "    </tr>\n",
       "    <tr>\n",
       "      <th>4</th>\n",
       "      <td>Ghassan</td>\n",
       "      <td>65</td>\n",
       "      <td>Male</td>\n",
       "      <td>32</td>\n",
       "    </tr>\n",
       "    <tr>\n",
       "      <th>5</th>\n",
       "      <td>Aman</td>\n",
       "      <td>60</td>\n",
       "      <td>Female</td>\n",
       "      <td>30</td>\n",
       "    </tr>\n",
       "    <tr>\n",
       "      <th>6</th>\n",
       "      <td>Islam</td>\n",
       "      <td>98</td>\n",
       "      <td>Male</td>\n",
       "      <td>49</td>\n",
       "    </tr>\n",
       "  </tbody>\n",
       "</table>\n",
       "</div>"
      ],
      "text/plain": [
       "      Name  Marks  Gender  Half_value\n",
       "0   Ashraf     90    Male          45\n",
       "1    Ahmad     70    Male          35\n",
       "2    Ayham     95    Male          47\n",
       "3     Adam     80    Male          40\n",
       "4  Ghassan     65    Male          32\n",
       "5     Aman     60  Female          30\n",
       "6    Islam     98    Male          49"
      ]
     },
     "execution_count": 54,
     "metadata": {},
     "output_type": "execute_result"
    }
   ],
   "source": [
    "df"
   ]
  },
  {
   "cell_type": "code",
   "execution_count": 55,
   "id": "0be64c2a",
   "metadata": {},
   "outputs": [
    {
     "data": {
      "text/plain": [
       "0    90%\n",
       "1    70%\n",
       "2    95%\n",
       "3    80%\n",
       "4    65%\n",
       "5    60%\n",
       "6    98%\n",
       "Name: Marks, dtype: object"
      ]
     },
     "execution_count": 55,
     "metadata": {},
     "output_type": "execute_result"
    }
   ],
   "source": [
    "df['Marks'].apply(lambda x: str(x)+\"%\") # lambda تقوم بتطبيق دالة في ذات السطر"
   ]
  },
  {
   "cell_type": "code",
   "execution_count": 56,
   "id": "5a68ff83",
   "metadata": {},
   "outputs": [],
   "source": [
    "df['Percent_value'] = df['Marks'].apply(lambda x: str(x)+\"%\") # إضافة عامود"
   ]
  },
  {
   "cell_type": "code",
   "execution_count": 57,
   "id": "617a3836",
   "metadata": {},
   "outputs": [
    {
     "data": {
      "text/html": [
       "<div>\n",
       "<style scoped>\n",
       "    .dataframe tbody tr th:only-of-type {\n",
       "        vertical-align: middle;\n",
       "    }\n",
       "\n",
       "    .dataframe tbody tr th {\n",
       "        vertical-align: top;\n",
       "    }\n",
       "\n",
       "    .dataframe thead th {\n",
       "        text-align: right;\n",
       "    }\n",
       "</style>\n",
       "<table border=\"1\" class=\"dataframe\">\n",
       "  <thead>\n",
       "    <tr style=\"text-align: right;\">\n",
       "      <th></th>\n",
       "      <th>Name</th>\n",
       "      <th>Marks</th>\n",
       "      <th>Gender</th>\n",
       "      <th>Half_value</th>\n",
       "      <th>Percent_value</th>\n",
       "    </tr>\n",
       "  </thead>\n",
       "  <tbody>\n",
       "    <tr>\n",
       "      <th>0</th>\n",
       "      <td>Ashraf</td>\n",
       "      <td>90</td>\n",
       "      <td>Male</td>\n",
       "      <td>45</td>\n",
       "      <td>90%</td>\n",
       "    </tr>\n",
       "    <tr>\n",
       "      <th>1</th>\n",
       "      <td>Ahmad</td>\n",
       "      <td>70</td>\n",
       "      <td>Male</td>\n",
       "      <td>35</td>\n",
       "      <td>70%</td>\n",
       "    </tr>\n",
       "    <tr>\n",
       "      <th>2</th>\n",
       "      <td>Ayham</td>\n",
       "      <td>95</td>\n",
       "      <td>Male</td>\n",
       "      <td>47</td>\n",
       "      <td>95%</td>\n",
       "    </tr>\n",
       "    <tr>\n",
       "      <th>3</th>\n",
       "      <td>Adam</td>\n",
       "      <td>80</td>\n",
       "      <td>Male</td>\n",
       "      <td>40</td>\n",
       "      <td>80%</td>\n",
       "    </tr>\n",
       "    <tr>\n",
       "      <th>4</th>\n",
       "      <td>Ghassan</td>\n",
       "      <td>65</td>\n",
       "      <td>Male</td>\n",
       "      <td>32</td>\n",
       "      <td>65%</td>\n",
       "    </tr>\n",
       "    <tr>\n",
       "      <th>5</th>\n",
       "      <td>Aman</td>\n",
       "      <td>60</td>\n",
       "      <td>Female</td>\n",
       "      <td>30</td>\n",
       "      <td>60%</td>\n",
       "    </tr>\n",
       "    <tr>\n",
       "      <th>6</th>\n",
       "      <td>Islam</td>\n",
       "      <td>98</td>\n",
       "      <td>Male</td>\n",
       "      <td>49</td>\n",
       "      <td>98%</td>\n",
       "    </tr>\n",
       "  </tbody>\n",
       "</table>\n",
       "</div>"
      ],
      "text/plain": [
       "      Name  Marks  Gender  Half_value Percent_value\n",
       "0   Ashraf     90    Male          45           90%\n",
       "1    Ahmad     70    Male          35           70%\n",
       "2    Ayham     95    Male          47           95%\n",
       "3     Adam     80    Male          40           80%\n",
       "4  Ghassan     65    Male          32           65%\n",
       "5     Aman     60  Female          30           60%\n",
       "6    Islam     98    Male          49           98%"
      ]
     },
     "execution_count": 57,
     "metadata": {},
     "output_type": "execute_result"
    }
   ],
   "source": [
    "df"
   ]
  },
  {
   "cell_type": "code",
   "execution_count": 58,
   "id": "2edb741b",
   "metadata": {},
   "outputs": [
    {
     "data": {
      "text/plain": [
       "0    ♂\n",
       "1    ♂\n",
       "2    ♂\n",
       "3    ♂\n",
       "4    ♂\n",
       "5    ♀\n",
       "6    ♂\n",
       "Name: Gender, dtype: object"
      ]
     },
     "execution_count": 58,
     "metadata": {},
     "output_type": "execute_result"
    }
   ],
   "source": [
    "df['Gender'].map({'Male':\"♂\",'Female':\"♀\"}) # رمز الجنس "
   ]
  },
  {
   "cell_type": "code",
   "execution_count": 59,
   "id": "85cdaa42",
   "metadata": {},
   "outputs": [],
   "source": [
    "df['Symbol_sex'] = df['Gender'].map({'Male':\"♂\",'Female':\"♀\"}) # إضافة عامود"
   ]
  },
  {
   "cell_type": "code",
   "execution_count": 61,
   "id": "c1e1961b",
   "metadata": {},
   "outputs": [
    {
     "data": {
      "text/html": [
       "<div>\n",
       "<style scoped>\n",
       "    .dataframe tbody tr th:only-of-type {\n",
       "        vertical-align: middle;\n",
       "    }\n",
       "\n",
       "    .dataframe tbody tr th {\n",
       "        vertical-align: top;\n",
       "    }\n",
       "\n",
       "    .dataframe thead th {\n",
       "        text-align: right;\n",
       "    }\n",
       "</style>\n",
       "<table border=\"1\" class=\"dataframe\">\n",
       "  <thead>\n",
       "    <tr style=\"text-align: right;\">\n",
       "      <th></th>\n",
       "      <th>Name</th>\n",
       "      <th>Marks</th>\n",
       "      <th>Gender</th>\n",
       "      <th>Half_value</th>\n",
       "      <th>Percent_value</th>\n",
       "      <th>Symbol_sex</th>\n",
       "    </tr>\n",
       "  </thead>\n",
       "  <tbody>\n",
       "    <tr>\n",
       "      <th>0</th>\n",
       "      <td>Ashraf</td>\n",
       "      <td>90</td>\n",
       "      <td>Male</td>\n",
       "      <td>45</td>\n",
       "      <td>90%</td>\n",
       "      <td>♂</td>\n",
       "    </tr>\n",
       "    <tr>\n",
       "      <th>1</th>\n",
       "      <td>Ahmad</td>\n",
       "      <td>70</td>\n",
       "      <td>Male</td>\n",
       "      <td>35</td>\n",
       "      <td>70%</td>\n",
       "      <td>♂</td>\n",
       "    </tr>\n",
       "    <tr>\n",
       "      <th>2</th>\n",
       "      <td>Ayham</td>\n",
       "      <td>95</td>\n",
       "      <td>Male</td>\n",
       "      <td>47</td>\n",
       "      <td>95%</td>\n",
       "      <td>♂</td>\n",
       "    </tr>\n",
       "    <tr>\n",
       "      <th>3</th>\n",
       "      <td>Adam</td>\n",
       "      <td>80</td>\n",
       "      <td>Male</td>\n",
       "      <td>40</td>\n",
       "      <td>80%</td>\n",
       "      <td>♂</td>\n",
       "    </tr>\n",
       "    <tr>\n",
       "      <th>4</th>\n",
       "      <td>Ghassan</td>\n",
       "      <td>65</td>\n",
       "      <td>Male</td>\n",
       "      <td>32</td>\n",
       "      <td>65%</td>\n",
       "      <td>♂</td>\n",
       "    </tr>\n",
       "    <tr>\n",
       "      <th>5</th>\n",
       "      <td>Aman</td>\n",
       "      <td>60</td>\n",
       "      <td>Female</td>\n",
       "      <td>30</td>\n",
       "      <td>60%</td>\n",
       "      <td>♀</td>\n",
       "    </tr>\n",
       "    <tr>\n",
       "      <th>6</th>\n",
       "      <td>Islam</td>\n",
       "      <td>98</td>\n",
       "      <td>Male</td>\n",
       "      <td>49</td>\n",
       "      <td>98%</td>\n",
       "      <td>♂</td>\n",
       "    </tr>\n",
       "  </tbody>\n",
       "</table>\n",
       "</div>"
      ],
      "text/plain": [
       "      Name  Marks  Gender  Half_value Percent_value Symbol_sex\n",
       "0   Ashraf     90    Male          45           90%          ♂\n",
       "1    Ahmad     70    Male          35           70%          ♂\n",
       "2    Ayham     95    Male          47           95%          ♂\n",
       "3     Adam     80    Male          40           80%          ♂\n",
       "4  Ghassan     65    Male          32           65%          ♂\n",
       "5     Aman     60  Female          30           60%          ♀\n",
       "6    Islam     98    Male          49           98%          ♂"
      ]
     },
     "execution_count": 61,
     "metadata": {},
     "output_type": "execute_result"
    }
   ],
   "source": [
    "df"
   ]
  },
  {
   "cell_type": "code",
   "execution_count": 62,
   "id": "18748877",
   "metadata": {},
   "outputs": [],
   "source": [
    "df.drop(['Half_value' ,'Percent_value'],axis = 1,inplace= True) # إسقاط أعمدة"
   ]
  },
  {
   "cell_type": "code",
   "execution_count": 63,
   "id": "b43db507",
   "metadata": {},
   "outputs": [
    {
     "data": {
      "text/html": [
       "<div>\n",
       "<style scoped>\n",
       "    .dataframe tbody tr th:only-of-type {\n",
       "        vertical-align: middle;\n",
       "    }\n",
       "\n",
       "    .dataframe tbody tr th {\n",
       "        vertical-align: top;\n",
       "    }\n",
       "\n",
       "    .dataframe thead th {\n",
       "        text-align: right;\n",
       "    }\n",
       "</style>\n",
       "<table border=\"1\" class=\"dataframe\">\n",
       "  <thead>\n",
       "    <tr style=\"text-align: right;\">\n",
       "      <th></th>\n",
       "      <th>Name</th>\n",
       "      <th>Marks</th>\n",
       "      <th>Gender</th>\n",
       "      <th>Symbol_sex</th>\n",
       "    </tr>\n",
       "  </thead>\n",
       "  <tbody>\n",
       "    <tr>\n",
       "      <th>0</th>\n",
       "      <td>Ashraf</td>\n",
       "      <td>90</td>\n",
       "      <td>Male</td>\n",
       "      <td>♂</td>\n",
       "    </tr>\n",
       "    <tr>\n",
       "      <th>1</th>\n",
       "      <td>Ahmad</td>\n",
       "      <td>70</td>\n",
       "      <td>Male</td>\n",
       "      <td>♂</td>\n",
       "    </tr>\n",
       "    <tr>\n",
       "      <th>2</th>\n",
       "      <td>Ayham</td>\n",
       "      <td>95</td>\n",
       "      <td>Male</td>\n",
       "      <td>♂</td>\n",
       "    </tr>\n",
       "    <tr>\n",
       "      <th>3</th>\n",
       "      <td>Adam</td>\n",
       "      <td>80</td>\n",
       "      <td>Male</td>\n",
       "      <td>♂</td>\n",
       "    </tr>\n",
       "    <tr>\n",
       "      <th>4</th>\n",
       "      <td>Ghassan</td>\n",
       "      <td>65</td>\n",
       "      <td>Male</td>\n",
       "      <td>♂</td>\n",
       "    </tr>\n",
       "    <tr>\n",
       "      <th>5</th>\n",
       "      <td>Aman</td>\n",
       "      <td>60</td>\n",
       "      <td>Female</td>\n",
       "      <td>♀</td>\n",
       "    </tr>\n",
       "    <tr>\n",
       "      <th>6</th>\n",
       "      <td>Islam</td>\n",
       "      <td>98</td>\n",
       "      <td>Male</td>\n",
       "      <td>♂</td>\n",
       "    </tr>\n",
       "  </tbody>\n",
       "</table>\n",
       "</div>"
      ],
      "text/plain": [
       "      Name  Marks  Gender Symbol_sex\n",
       "0   Ashraf     90    Male          ♂\n",
       "1    Ahmad     70    Male          ♂\n",
       "2    Ayham     95    Male          ♂\n",
       "3     Adam     80    Male          ♂\n",
       "4  Ghassan     65    Male          ♂\n",
       "5     Aman     60  Female          ♀\n",
       "6    Islam     98    Male          ♂"
      ]
     },
     "execution_count": 63,
     "metadata": {},
     "output_type": "execute_result"
    }
   ],
   "source": [
    "df"
   ]
  },
  {
   "cell_type": "code",
   "execution_count": 64,
   "id": "72edab32",
   "metadata": {},
   "outputs": [
    {
     "data": {
      "text/plain": [
       "Index(['Name', 'Marks', 'Gender', 'Symbol_sex'], dtype='object')"
      ]
     },
     "execution_count": 64,
     "metadata": {},
     "output_type": "execute_result"
    }
   ],
   "source": [
    "df.columns"
   ]
  },
  {
   "cell_type": "code",
   "execution_count": 65,
   "id": "47ba6ab6",
   "metadata": {},
   "outputs": [
    {
     "data": {
      "text/html": [
       "<div>\n",
       "<style scoped>\n",
       "    .dataframe tbody tr th:only-of-type {\n",
       "        vertical-align: middle;\n",
       "    }\n",
       "\n",
       "    .dataframe tbody tr th {\n",
       "        vertical-align: top;\n",
       "    }\n",
       "\n",
       "    .dataframe thead th {\n",
       "        text-align: right;\n",
       "    }\n",
       "</style>\n",
       "<table border=\"1\" class=\"dataframe\">\n",
       "  <thead>\n",
       "    <tr style=\"text-align: right;\">\n",
       "      <th></th>\n",
       "      <th>Name</th>\n",
       "      <th>Marks</th>\n",
       "      <th>Gender</th>\n",
       "      <th>Symbol_sex</th>\n",
       "    </tr>\n",
       "  </thead>\n",
       "  <tbody>\n",
       "    <tr>\n",
       "      <th>6</th>\n",
       "      <td>Islam</td>\n",
       "      <td>98</td>\n",
       "      <td>Male</td>\n",
       "      <td>♂</td>\n",
       "    </tr>\n",
       "    <tr>\n",
       "      <th>2</th>\n",
       "      <td>Ayham</td>\n",
       "      <td>95</td>\n",
       "      <td>Male</td>\n",
       "      <td>♂</td>\n",
       "    </tr>\n",
       "    <tr>\n",
       "      <th>0</th>\n",
       "      <td>Ashraf</td>\n",
       "      <td>90</td>\n",
       "      <td>Male</td>\n",
       "      <td>♂</td>\n",
       "    </tr>\n",
       "    <tr>\n",
       "      <th>3</th>\n",
       "      <td>Adam</td>\n",
       "      <td>80</td>\n",
       "      <td>Male</td>\n",
       "      <td>♂</td>\n",
       "    </tr>\n",
       "    <tr>\n",
       "      <th>1</th>\n",
       "      <td>Ahmad</td>\n",
       "      <td>70</td>\n",
       "      <td>Male</td>\n",
       "      <td>♂</td>\n",
       "    </tr>\n",
       "    <tr>\n",
       "      <th>4</th>\n",
       "      <td>Ghassan</td>\n",
       "      <td>65</td>\n",
       "      <td>Male</td>\n",
       "      <td>♂</td>\n",
       "    </tr>\n",
       "    <tr>\n",
       "      <th>5</th>\n",
       "      <td>Aman</td>\n",
       "      <td>60</td>\n",
       "      <td>Female</td>\n",
       "      <td>♀</td>\n",
       "    </tr>\n",
       "  </tbody>\n",
       "</table>\n",
       "</div>"
      ],
      "text/plain": [
       "      Name  Marks  Gender Symbol_sex\n",
       "6    Islam     98    Male          ♂\n",
       "2    Ayham     95    Male          ♂\n",
       "0   Ashraf     90    Male          ♂\n",
       "3     Adam     80    Male          ♂\n",
       "1    Ahmad     70    Male          ♂\n",
       "4  Ghassan     65    Male          ♂\n",
       "5     Aman     60  Female          ♀"
      ]
     },
     "execution_count": 65,
     "metadata": {},
     "output_type": "execute_result"
    }
   ],
   "source": [
    "df.sort_values(by = ['Marks','Name'],ascending=False) # ترتيب عناصر البيانات وفق أعمدة معينة"
   ]
  },
  {
   "cell_type": "code",
   "execution_count": 66,
   "id": "7a1ce619",
   "metadata": {},
   "outputs": [
    {
     "data": {
      "text/html": [
       "<div>\n",
       "<style scoped>\n",
       "    .dataframe tbody tr th:only-of-type {\n",
       "        vertical-align: middle;\n",
       "    }\n",
       "\n",
       "    .dataframe tbody tr th {\n",
       "        vertical-align: top;\n",
       "    }\n",
       "\n",
       "    .dataframe thead th {\n",
       "        text-align: right;\n",
       "    }\n",
       "</style>\n",
       "<table border=\"1\" class=\"dataframe\">\n",
       "  <thead>\n",
       "    <tr style=\"text-align: right;\">\n",
       "      <th></th>\n",
       "      <th>Name</th>\n",
       "      <th>Marks</th>\n",
       "      <th>Gender</th>\n",
       "      <th>Symbol_sex</th>\n",
       "    </tr>\n",
       "  </thead>\n",
       "  <tbody>\n",
       "    <tr>\n",
       "      <th>0</th>\n",
       "      <td>Ashraf</td>\n",
       "      <td>90</td>\n",
       "      <td>Male</td>\n",
       "      <td>♂</td>\n",
       "    </tr>\n",
       "  </tbody>\n",
       "</table>\n",
       "</div>"
      ],
      "text/plain": [
       "     Name  Marks Gender Symbol_sex\n",
       "0  Ashraf     90   Male          ♂"
      ]
     },
     "execution_count": 66,
     "metadata": {},
     "output_type": "execute_result"
    }
   ],
   "source": [
    "df[df['Name'].isin(['Ashraf'])] # إيجاد سطر محقق ل"
   ]
  },
  {
   "cell_type": "code",
   "execution_count": 67,
   "id": "f4809170",
   "metadata": {},
   "outputs": [
    {
     "data": {
      "text/html": [
       "<div>\n",
       "<style scoped>\n",
       "    .dataframe tbody tr th:only-of-type {\n",
       "        vertical-align: middle;\n",
       "    }\n",
       "\n",
       "    .dataframe tbody tr th {\n",
       "        vertical-align: top;\n",
       "    }\n",
       "\n",
       "    .dataframe thead th {\n",
       "        text-align: right;\n",
       "    }\n",
       "</style>\n",
       "<table border=\"1\" class=\"dataframe\">\n",
       "  <thead>\n",
       "    <tr style=\"text-align: right;\">\n",
       "      <th></th>\n",
       "      <th>Name</th>\n",
       "      <th>Marks</th>\n",
       "      <th>Gender</th>\n",
       "      <th>Symbol_sex</th>\n",
       "    </tr>\n",
       "  </thead>\n",
       "  <tbody>\n",
       "    <tr>\n",
       "      <th>0</th>\n",
       "      <td>Ashraf</td>\n",
       "      <td>90</td>\n",
       "      <td>Male</td>\n",
       "      <td>♂</td>\n",
       "    </tr>\n",
       "    <tr>\n",
       "      <th>2</th>\n",
       "      <td>Ayham</td>\n",
       "      <td>95</td>\n",
       "      <td>Male</td>\n",
       "      <td>♂</td>\n",
       "    </tr>\n",
       "    <tr>\n",
       "      <th>6</th>\n",
       "      <td>Islam</td>\n",
       "      <td>98</td>\n",
       "      <td>Male</td>\n",
       "      <td>♂</td>\n",
       "    </tr>\n",
       "  </tbody>\n",
       "</table>\n",
       "</div>"
      ],
      "text/plain": [
       "     Name  Marks Gender Symbol_sex\n",
       "0  Ashraf     90   Male          ♂\n",
       "2   Ayham     95   Male          ♂\n",
       "6   Islam     98   Male          ♂"
      ]
     },
     "execution_count": 67,
     "metadata": {},
     "output_type": "execute_result"
    }
   ],
   "source": [
    "df[df['Marks'] >=90 ]"
   ]
  },
  {
   "cell_type": "code",
   "execution_count": 68,
   "id": "04d436d2",
   "metadata": {},
   "outputs": [
    {
     "data": {
      "text/plain": [
       "False"
      ]
     },
     "execution_count": 68,
     "metadata": {},
     "output_type": "execute_result"
    }
   ],
   "source": [
    "df.iloc[0,1] > 90"
   ]
  },
  {
   "cell_type": "code",
   "execution_count": 69,
   "id": "861d71e4",
   "metadata": {},
   "outputs": [
    {
     "data": {
      "text/plain": [
       "True"
      ]
     },
     "execution_count": 69,
     "metadata": {},
     "output_type": "execute_result"
    }
   ],
   "source": [
    "len(df.loc[6,\"Name\"]) > 4"
   ]
  },
  {
   "cell_type": "code",
   "execution_count": null,
   "id": "ffbd464b",
   "metadata": {},
   "outputs": [],
   "source": []
  }
 ],
 "metadata": {
  "kernelspec": {
   "display_name": "Python 3 (ipykernel)",
   "language": "python",
   "name": "python3"
  },
  "language_info": {
   "codemirror_mode": {
    "name": "ipython",
    "version": 3
   },
   "file_extension": ".py",
   "mimetype": "text/x-python",
   "name": "python",
   "nbconvert_exporter": "python",
   "pygments_lexer": "ipython3",
   "version": "3.9.12"
  }
 },
 "nbformat": 4,
 "nbformat_minor": 5
}
