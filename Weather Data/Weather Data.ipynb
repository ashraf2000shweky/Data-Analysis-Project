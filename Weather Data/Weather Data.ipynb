{
 "cells": [
  {
   "cell_type": "code",
   "execution_count": null,
   "id": "60766fa2",
   "metadata": {},
   "outputs": [],
   "source": [
    "import pandas as pd"
   ]
  },
  {
   "cell_type": "code",
   "execution_count": null,
   "id": "3d4b702e",
   "metadata": {},
   "outputs": [],
   "source": [
    "data = pd.read_csv('1. Weather Data.csv')"
   ]
  },
  {
   "cell_type": "code",
   "execution_count": null,
   "id": "d67f208a",
   "metadata": {},
   "outputs": [],
   "source": [
    "data.head() "
   ]
  },
  {
   "cell_type": "code",
   "execution_count": null,
   "id": "22d5705d",
   "metadata": {},
   "outputs": [],
   "source": [
    "data.shape"
   ]
  },
  {
   "cell_type": "code",
   "execution_count": null,
   "id": "83f17c43",
   "metadata": {},
   "outputs": [],
   "source": [
    "data.index"
   ]
  },
  {
   "cell_type": "code",
   "execution_count": null,
   "id": "9576927f",
   "metadata": {},
   "outputs": [],
   "source": [
    "data.columns"
   ]
  },
  {
   "cell_type": "code",
   "execution_count": null,
   "id": "4953f0b2",
   "metadata": {},
   "outputs": [],
   "source": [
    "data.dtypes"
   ]
  },
  {
   "cell_type": "code",
   "execution_count": null,
   "id": "66c929b3",
   "metadata": {},
   "outputs": [],
   "source": [
    "data['Date/Time']  =  data['Date/Time'].astype('datetime64')"
   ]
  },
  {
   "cell_type": "code",
   "execution_count": null,
   "id": "6820f740",
   "metadata": {},
   "outputs": [],
   "source": [
    "data.info()"
   ]
  },
  {
   "cell_type": "code",
   "execution_count": null,
   "id": "eb45e15d",
   "metadata": {},
   "outputs": [],
   "source": [
    "data['Weather'].unique() # العناصر المكون منها العامود"
   ]
  },
  {
   "cell_type": "code",
   "execution_count": null,
   "id": "553c97ab",
   "metadata": {},
   "outputs": [],
   "source": [
    "data['Weather'].nunique() # عدد العناصر المكون منها العامود"
   ]
  },
  {
   "cell_type": "code",
   "execution_count": null,
   "id": "2aff37c3",
   "metadata": {},
   "outputs": [],
   "source": [
    "data['Weather'].value_counts() # تكرار العناصر المشكل منها العامود "
   ]
  },
  {
   "cell_type": "code",
   "execution_count": null,
   "id": "61547878",
   "metadata": {},
   "outputs": [],
   "source": [
    "data.head(2)"
   ]
  },
  {
   "cell_type": "code",
   "execution_count": null,
   "id": "482bccf1",
   "metadata": {},
   "outputs": [],
   "source": [
    "data['Wind Speed_km/h'].unique() # العناصر المكون منها العامود"
   ]
  },
  {
   "cell_type": "code",
   "execution_count": null,
   "id": "f7f970e8",
   "metadata": {},
   "outputs": [],
   "source": [
    "data['Weather'].value_counts()  # تكرار العناصر المشكل منها العامود "
   ]
  },
  {
   "cell_type": "code",
   "execution_count": null,
   "id": "fbd2bdd1",
   "metadata": {},
   "outputs": [],
   "source": [
    "(data['Wind Speed_km/h']==4).sum() # تصفية البيانات "
   ]
  },
  {
   "cell_type": "code",
   "execution_count": null,
   "id": "bb4fa9ae",
   "metadata": {},
   "outputs": [],
   "source": [
    "data.isnull().sum()"
   ]
  },
  {
   "cell_type": "code",
   "execution_count": null,
   "id": "9154d38a",
   "metadata": {},
   "outputs": [],
   "source": [
    "data.rename(columns = {'Weather':'Weather_Condition'},inplace = True) # تغير أسم العامود "
   ]
  },
  {
   "cell_type": "code",
   "execution_count": null,
   "id": "793867a9",
   "metadata": {},
   "outputs": [],
   "source": [
    "data.head(2)"
   ]
  },
  {
   "cell_type": "code",
   "execution_count": null,
   "id": "5b6d2bc1",
   "metadata": {},
   "outputs": [],
   "source": [
    "data['Visibility_km'].mean() # متوسط المسافة التى تدل على القدرة الشخص الرؤية على طولها "
   ]
  },
  {
   "cell_type": "code",
   "execution_count": null,
   "id": "b14ab155",
   "metadata": {},
   "outputs": [],
   "source": [
    "data['Visibility_km'].std() # الإنحراف المعياري للمسافة التى تدل على القدرة الشخص الرؤية على طولها "
   ]
  },
  {
   "cell_type": "code",
   "execution_count": null,
   "id": "ca0eff68",
   "metadata": {},
   "outputs": [],
   "source": [
    "data['Weather_Condition'].str.contains('Snow').sum() # معرفة تكرار حالة الطقس المثلجة "
   ]
  },
  {
   "cell_type": "code",
   "execution_count": null,
   "id": "c6022ce8",
   "metadata": {},
   "outputs": [],
   "source": [
    "# معرفة تكرار حالة الطقس بظروف معينة \n",
    "len(data[(data['Wind Speed_km/h'] > 24) & (data['Visibility_km'] == 25 )])"
   ]
  },
  {
   "cell_type": "code",
   "execution_count": null,
   "id": "21bfcac9",
   "metadata": {},
   "outputs": [],
   "source": [
    "data.groupby('Weather_Condition')['Temp_C'].mean() # متوسط درجة الحرارة في جالات الطقس "
   ]
  },
  {
   "cell_type": "code",
   "execution_count": null,
   "id": "cebadf7f",
   "metadata": {},
   "outputs": [],
   "source": [
    "data.groupby('Weather_Condition')[['Dew Point Temp_C','Wind Speed_km/h']].min()"
   ]
  },
  {
   "cell_type": "code",
   "execution_count": null,
   "id": "e8483e60",
   "metadata": {},
   "outputs": [],
   "source": [
    "data.groupby('Weather_Condition')[['Dew Point Temp_C','Wind Speed_km/h']].max()"
   ]
  },
  {
   "cell_type": "code",
   "execution_count": null,
   "id": "8c08717e",
   "metadata": {},
   "outputs": [],
   "source": [
    "# أستخلاص نوع محدد موجود في العامود \n",
    "data.groupby('Weather_Condition').get_group('Fog')"
   ]
  },
  {
   "cell_type": "code",
   "execution_count": null,
   "id": "0cfc5b3c",
   "metadata": {},
   "outputs": [],
   "source": [
    "# أستخلاص نوع محدد موجود في العامود \n",
    "data.groupby('Weather_Condition').get_group('Rain')"
   ]
  },
  {
   "cell_type": "code",
   "execution_count": null,
   "id": "4a4b2c1d",
   "metadata": {},
   "outputs": [],
   "source": [
    "# تصفية البيانات\n",
    "data[(data['Visibility_km'] > 40) | (data['Weather_Condition'] == 'Clear')]"
   ]
  },
  {
   "cell_type": "code",
   "execution_count": null,
   "id": "25aaec8e",
   "metadata": {},
   "outputs": [],
   "source": [
    "# تصفية البيانات \n",
    "data[(data['Weather_Condition'] == 'Clear')&(data['Rel Hum_%'] > 50)|(data['Visibility_km'] > 40)]"
   ]
  },
  {
   "cell_type": "code",
   "execution_count": null,
   "id": "93d400ad",
   "metadata": {},
   "outputs": [],
   "source": [
    "data['Date/Time'].max()"
   ]
  },
  {
   "cell_type": "code",
   "execution_count": null,
   "id": "6245836e",
   "metadata": {},
   "outputs": [],
   "source": [
    "data['Date/Time'].min()"
   ]
  },
  {
   "cell_type": "code",
   "execution_count": null,
   "id": "e04fac3b",
   "metadata": {},
   "outputs": [],
   "source": [
    "data"
   ]
  },
  {
   "cell_type": "code",
   "execution_count": null,
   "id": "4b7c3fd8",
   "metadata": {},
   "outputs": [],
   "source": [
    "data.describe()"
   ]
  },
  {
   "cell_type": "code",
   "execution_count": null,
   "id": "b0fede35",
   "metadata": {},
   "outputs": [],
   "source": [
    "import datetime as dt"
   ]
  },
  {
   "cell_type": "code",
   "execution_count": null,
   "id": "e0a57e65",
   "metadata": {},
   "outputs": [],
   "source": [
    "# متوسط الحرارة في كل شهر \n",
    "data.groupby(data['Date/Time'].dt.month)['Temp_C'].mean()"
   ]
  },
  {
   "cell_type": "code",
   "execution_count": null,
   "id": "b53cec4f",
   "metadata": {},
   "outputs": [],
   "source": [
    "import matplotlib.pyplot as plt\n",
    "import seaborn as sn\n",
    "import numpy as np"
   ]
  },
  {
   "cell_type": "code",
   "execution_count": null,
   "id": "b0a8626c",
   "metadata": {},
   "outputs": [],
   "source": [
    "plt.figure(figsize=(15,8))\n",
    "sn.barplot(x=data['Date/Time'].dt.month_name(),y=data['Temp_C'])"
   ]
  },
  {
   "cell_type": "code",
   "execution_count": null,
   "id": "20fc4973",
   "metadata": {},
   "outputs": [],
   "source": [
    "plt.figure(figsize=(15,8))\n",
    "sn.barplot(x=data['Date/Time'].dt.month_name(),y=data['Temp_C'],estimator=np.std)"
   ]
  },
  {
   "cell_type": "code",
   "execution_count": null,
   "id": "bbe03f01",
   "metadata": {},
   "outputs": [],
   "source": [
    "plt.figure(figsize=(15,8))\n",
    "sn.barplot(x=data['Date/Time'].dt.month_name(),y=data['Temp_C'],estimator=np.max)"
   ]
  },
  {
   "cell_type": "code",
   "execution_count": null,
   "id": "fc42886f",
   "metadata": {},
   "outputs": [],
   "source": [
    "plt.figure(figsize=(15,8))\n",
    "sn.barplot(x = data['Date/Time'].dt.month_name() , y = data['Temp_C'] , estimator=np.min)"
   ]
  },
  {
   "cell_type": "code",
   "execution_count": null,
   "id": "2123ba52",
   "metadata": {},
   "outputs": [],
   "source": [
    "plt.figure(figsize=(15,8))\n",
    "sn.barplot(x=data['Date/Time'].dt.month_name(),y=data['Wind Speed_km/h'])"
   ]
  },
  {
   "cell_type": "code",
   "execution_count": null,
   "id": "6c2dfe8a",
   "metadata": {},
   "outputs": [],
   "source": [
    "plt.figure(figsize=(15,8))\n",
    "sn.barplot(x=data['Date/Time'].dt.month_name(),y=data['Visibility_km'])"
   ]
  },
  {
   "cell_type": "code",
   "execution_count": null,
   "id": "ce308981",
   "metadata": {},
   "outputs": [],
   "source": [
    "data.groupby(data['Date/Time'].dt.month)[['Temp_C','Visibility_km']].describe()"
   ]
  },
  {
   "cell_type": "code",
   "execution_count": null,
   "id": "7c75ac7a",
   "metadata": {},
   "outputs": [],
   "source": []
  }
 ],
 "metadata": {
  "kernelspec": {
   "display_name": "Python 3 (ipykernel)",
   "language": "python",
   "name": "python3"
  },
  "language_info": {
   "codemirror_mode": {
    "name": "ipython",
    "version": 3
   },
   "file_extension": ".py",
   "mimetype": "text/x-python",
   "name": "python",
   "nbconvert_exporter": "python",
   "pygments_lexer": "ipython3",
   "version": "3.9.12"
  }
 },
 "nbformat": 4,
 "nbformat_minor": 5
}
