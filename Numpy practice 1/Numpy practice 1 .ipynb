{
 "cells": [
  {
   "cell_type": "code",
   "execution_count": 1,
   "id": "6bc26ba2",
   "metadata": {},
   "outputs": [],
   "source": [
    "import numpy as np"
   ]
  },
  {
   "cell_type": "code",
   "execution_count": 2,
   "id": "6fa23b1c",
   "metadata": {},
   "outputs": [
    {
     "data": {
      "text/plain": [
       "array([0., 0., 0., 0., 0., 0., 0., 0., 0., 0.])"
      ]
     },
     "execution_count": 2,
     "metadata": {},
     "output_type": "execute_result"
    }
   ],
   "source": [
    "# إنشاء متحه صفري بعشرة مساقط\n",
    "vector = np.zeros(10)\n",
    "vector"
   ]
  },
  {
   "cell_type": "code",
   "execution_count": 3,
   "id": "3dace27b",
   "metadata": {},
   "outputs": [
    {
     "data": {
      "text/plain": [
       "array([[0., 0.],\n",
       "       [0., 0.],\n",
       "       [0., 0.],\n",
       "       [0., 0.],\n",
       "       [0., 0.],\n",
       "       [0., 0.],\n",
       "       [0., 0.],\n",
       "       [0., 0.],\n",
       "       [0., 0.],\n",
       "       [0., 0.]])"
      ]
     },
     "execution_count": 3,
     "metadata": {},
     "output_type": "execute_result"
    }
   ],
   "source": [
    "# إنشاء مصفوفة صفرية بعدها(10،2)\n",
    "matrix= np.zeros((10,2))\n",
    "matrix"
   ]
  },
  {
   "cell_type": "code",
   "execution_count": 4,
   "id": "8a1f2877",
   "metadata": {},
   "outputs": [
    {
     "data": {
      "text/plain": [
       "array([1., 1., 1., 1., 1., 1., 1., 1., 1., 1.])"
      ]
     },
     "execution_count": 4,
     "metadata": {},
     "output_type": "execute_result"
    }
   ],
   "source": [
    "# إنشاء متحه عناصره 1 بعشرة مساقط\n",
    "vector = np.ones(10)\n",
    "vector"
   ]
  },
  {
   "cell_type": "code",
   "execution_count": 5,
   "id": "691eb0f3",
   "metadata": {},
   "outputs": [
    {
     "data": {
      "text/plain": [
       "array([[1., 1.],\n",
       "       [1., 1.],\n",
       "       [1., 1.],\n",
       "       [1., 1.],\n",
       "       [1., 1.],\n",
       "       [1., 1.],\n",
       "       [1., 1.],\n",
       "       [1., 1.],\n",
       "       [1., 1.],\n",
       "       [1., 1.]])"
      ]
     },
     "execution_count": 5,
     "metadata": {},
     "output_type": "execute_result"
    }
   ],
   "source": [
    "# إنشاء مصفوفة عناصرها 1 بعدها(10،2)\n",
    "matrix= np.ones((10,2))\n",
    "matrix"
   ]
  },
  {
   "cell_type": "code",
   "execution_count": 6,
   "id": "647253f8",
   "metadata": {},
   "outputs": [
    {
     "data": {
      "text/plain": [
       "array([nan, nan, nan, nan, nan, nan, nan, nan, nan, nan])"
      ]
     },
     "execution_count": 6,
     "metadata": {},
     "output_type": "execute_result"
    }
   ],
   "source": [
    "# empty يأخذ عناصره من الذاكرة العشوائية أي ليس لقيمه معنى\n",
    "# إستفدنا من ذلك بإنشاء متجه قيم مفقودة\n",
    "nan1d = np.empty(10)\n",
    "nan1d[:] = np.nan\n",
    "nan1d"
   ]
  },
  {
   "cell_type": "code",
   "execution_count": 7,
   "id": "b94903ea",
   "metadata": {},
   "outputs": [
    {
     "data": {
      "text/plain": [
       "array([[nan, nan],\n",
       "       [nan, nan],\n",
       "       [nan, nan],\n",
       "       [nan, nan],\n",
       "       [nan, nan],\n",
       "       [nan, nan],\n",
       "       [nan, nan],\n",
       "       [nan, nan],\n",
       "       [nan, nan],\n",
       "       [nan, nan]])"
      ]
     },
     "execution_count": 7,
     "metadata": {},
     "output_type": "execute_result"
    }
   ],
   "source": [
    "# إنشاء مصفوفة قيم مفقودة\n",
    "nan2d = np.empty((10,2))\n",
    "nan2d[:] = np.nan\n",
    "nan2d"
   ]
  },
  {
   "cell_type": "code",
   "execution_count": 8,
   "id": "8d0ea0be",
   "metadata": {},
   "outputs": [
    {
     "data": {
      "text/plain": [
       "array([1, 2, 3, 4, 5, 6, 7, 8, 9])"
      ]
     },
     "execution_count": 8,
     "metadata": {},
     "output_type": "execute_result"
    }
   ],
   "source": [
    "#إنشاء متجه بنطاق معين   \n",
    "vector = np.arange(1,10)\n",
    "vector"
   ]
  },
  {
   "cell_type": "code",
   "execution_count": null,
   "id": "eec6094e",
   "metadata": {},
   "outputs": [],
   "source": [
    "#إنشاء متجه بنطاق معين \n",
    "vector = np.arange(1,20,2)\n",
    "vector"
   ]
  },
  {
   "cell_type": "code",
   "execution_count": 9,
   "id": "c1701650",
   "metadata": {},
   "outputs": [
    {
     "data": {
      "text/plain": [
       "array([19, 17, 15, 13, 11,  9,  7,  5,  3,  1])"
      ]
     },
     "execution_count": 9,
     "metadata": {},
     "output_type": "execute_result"
    }
   ],
   "source": [
    "# عكس ترتيب قيم هذا المتجه\n",
    "vector = np.arange(1,20,2)\n",
    "vector = vector[::-1]\n",
    "vector"
   ]
  },
  {
   "cell_type": "code",
   "execution_count": 10,
   "id": "3e465f08",
   "metadata": {},
   "outputs": [
    {
     "data": {
      "text/plain": [
       "array([[0, 1],\n",
       "       [2, 3]])"
      ]
     },
     "execution_count": 10,
     "metadata": {},
     "output_type": "execute_result"
    }
   ],
   "source": [
    "# إنشاء مصفوفة بشكل معين \n",
    "matrix = np.arange(4).reshape((2,2))\n",
    "matrix"
   ]
  },
  {
   "cell_type": "code",
   "execution_count": null,
   "id": "085b8779",
   "metadata": {},
   "outputs": [],
   "source": [
    "# إنشاء مصفوفة بشكل معين \n",
    "matrix = np.arange(9).reshape((3,3))\n",
    "matrix"
   ]
  },
  {
   "cell_type": "code",
   "execution_count": 11,
   "id": "5b4b00ca",
   "metadata": {},
   "outputs": [
    {
     "data": {
      "text/plain": [
       "(array([0, 1, 2, 4, 5, 6], dtype=int64),)"
      ]
     },
     "execution_count": 11,
     "metadata": {},
     "output_type": "execute_result"
    }
   ],
   "source": [
    "# معرفة موضع العناصر غير الصفرية\n",
    "numbers = [1,4,5,0,8,4,5,0]\n",
    "zerosindices = np.nonzero(numbers)\n",
    "zerosindices"
   ]
  },
  {
   "cell_type": "code",
   "execution_count": 12,
   "id": "f0021e25",
   "metadata": {},
   "outputs": [
    {
     "data": {
      "text/plain": [
       "array([[1., 0., 0.],\n",
       "       [0., 1., 0.],\n",
       "       [0., 0., 1.]])"
      ]
     },
     "execution_count": 12,
     "metadata": {},
     "output_type": "execute_result"
    }
   ],
   "source": [
    "# إنشاء مصفوفة واحدية\n",
    "id1 = np.eye(3)\n",
    "id1"
   ]
  },
  {
   "cell_type": "code",
   "execution_count": 13,
   "id": "435cbbd2",
   "metadata": {},
   "outputs": [
    {
     "data": {
      "text/plain": [
       "array([[1., 0., 0., 0., 0., 0., 0., 0., 0., 0.],\n",
       "       [0., 1., 0., 0., 0., 0., 0., 0., 0., 0.],\n",
       "       [0., 0., 1., 0., 0., 0., 0., 0., 0., 0.],\n",
       "       [0., 0., 0., 1., 0., 0., 0., 0., 0., 0.],\n",
       "       [0., 0., 0., 0., 1., 0., 0., 0., 0., 0.],\n",
       "       [0., 0., 0., 0., 0., 1., 0., 0., 0., 0.],\n",
       "       [0., 0., 0., 0., 0., 0., 1., 0., 0., 0.],\n",
       "       [0., 0., 0., 0., 0., 0., 0., 1., 0., 0.],\n",
       "       [0., 0., 0., 0., 0., 0., 0., 0., 1., 0.],\n",
       "       [0., 0., 0., 0., 0., 0., 0., 0., 0., 1.]])"
      ]
     },
     "execution_count": 13,
     "metadata": {},
     "output_type": "execute_result"
    }
   ],
   "source": [
    "# إنشاء مصفوفة واحدية\n",
    "id1 = np.eye(10)\n",
    "id1"
   ]
  },
  {
   "cell_type": "code",
   "execution_count": 14,
   "id": "d6cf6782",
   "metadata": {},
   "outputs": [
    {
     "data": {
      "text/plain": [
       "array([0.22303427, 0.1945504 , 0.35556919, 0.24879442, 0.58544403])"
      ]
     },
     "execution_count": 14,
     "metadata": {},
     "output_type": "execute_result"
    }
   ],
   "source": [
    "# إنشاء متجه بعناصر عشوائية\n",
    "array = np.random.random((5))\n",
    "array"
   ]
  },
  {
   "cell_type": "code",
   "execution_count": 16,
   "id": "4afade98",
   "metadata": {},
   "outputs": [
    {
     "data": {
      "text/plain": [
       "array([[0.90045886, 0.128074  , 0.27722704],\n",
       "       [0.10215981, 0.31137768, 0.02402705],\n",
       "       [0.79647567, 0.52107853, 0.08001731],\n",
       "       [0.8146785 , 0.71956441, 0.41316524],\n",
       "       [0.21342001, 0.33571699, 0.2053948 ]])"
      ]
     },
     "execution_count": 16,
     "metadata": {},
     "output_type": "execute_result"
    }
   ],
   "source": [
    "# إنشاء مصفوفة بعناصر عشوائية\n",
    "matrix = np.random.random((5,3))\n",
    "matrix"
   ]
  },
  {
   "cell_type": "code",
   "execution_count": 17,
   "id": "8a1854e8",
   "metadata": {},
   "outputs": [
    {
     "name": "stdout",
     "output_type": "stream",
     "text": [
      "[[0.48545303 0.80545996 0.60415119 0.31132744 0.80895944]\n",
      " [0.13009234 0.40889065 0.79080335 0.32724134 0.28820267]\n",
      " [0.64295453 0.09105086 0.22755967 0.63873301 0.90156096]\n",
      " [0.10297099 0.89292915 0.74986991 0.67570531 0.15927295]\n",
      " [0.65208552 0.00904423 0.45443025 0.32238464 0.90271431]]\n",
      "\n",
      "min = 0.00904423125030629\n",
      "max = 0.902714311632011\n"
     ]
    }
   ],
   "source": [
    "# معرفة أكبر و أصفر قيم في المصفوفة\n",
    "matrix = np.random.random((5,5))\n",
    "print(matrix)\n",
    "print()\n",
    "min, max = matrix.min(), matrix.max()\n",
    "print('min =',min)\n",
    "print('max =',max)"
   ]
  },
  {
   "cell_type": "code",
   "execution_count": 18,
   "id": "f68a6407",
   "metadata": {},
   "outputs": [
    {
     "name": "stdout",
     "output_type": "stream",
     "text": [
      "mean of vector=  5.0\n"
     ]
    }
   ],
   "source": [
    "# إيجاد متوسط قيم المتجه\n",
    "vector = np.arange(1,10)\n",
    "print('mean of vector= ',vector.mean())\n"
   ]
  },
  {
   "cell_type": "code",
   "execution_count": 19,
   "id": "544f30cc",
   "metadata": {},
   "outputs": [
    {
     "name": "stdout",
     "output_type": "stream",
     "text": [
      "(2, 3, 3)\n"
     ]
    },
    {
     "data": {
      "text/plain": [
       "array([[[ 1,  2,  3],\n",
       "        [ 4,  5,  6],\n",
       "        [ 7,  8,  9]],\n",
       "\n",
       "       [[10, 11, 12],\n",
       "        [13, 14, 15],\n",
       "        [16, 17, 18]]])"
      ]
     },
     "execution_count": 19,
     "metadata": {},
     "output_type": "execute_result"
    }
   ],
   "source": [
    "# معرفة شكل المتجه\n",
    "array = np.array([[[1,2,3],[4,5,6],[7,8,9]],[[10,11,12],[13,14,15],[16,17,18]]])\n",
    "print(array.shape)\n",
    "array"
   ]
  },
  {
   "cell_type": "code",
   "execution_count": 20,
   "id": "d34b464f",
   "metadata": {},
   "outputs": [
    {
     "data": {
      "text/plain": [
       "array([[[ 1,  2,  3],\n",
       "        [ 4,  5,  6],\n",
       "        [ 7,  8,  9]],\n",
       "\n",
       "       [[10, 11, 12],\n",
       "        [13, 14, 15],\n",
       "        [16, 17, 18]]])"
      ]
     },
     "execution_count": 20,
     "metadata": {},
     "output_type": "execute_result"
    }
   ],
   "source": [
    "# إنشاء مصفوفة بشكل معين\n",
    "array1 = np.arange(1,19).reshape((2,3,3))\n",
    "array1"
   ]
  },
  {
   "cell_type": "code",
   "execution_count": 21,
   "id": "b72af564",
   "metadata": {},
   "outputs": [
    {
     "data": {
      "text/plain": [
       "array([[[5, 3, 8],\n",
       "        [5, 3, 3],\n",
       "        [5, 0, 9]],\n",
       "\n",
       "       [[5, 2, 3],\n",
       "        [3, 5, 6],\n",
       "        [0, 6, 0]]])"
      ]
     },
     "execution_count": 21,
     "metadata": {},
     "output_type": "execute_result"
    }
   ],
   "source": [
    "#  متجه عشوائي بشكل معين بعناصر صحيحة\n",
    "array1 = np.random.randint(10,size=(2,3,3))\n",
    "array1"
   ]
  },
  {
   "cell_type": "code",
   "execution_count": 23,
   "id": "ef0bb9f1",
   "metadata": {},
   "outputs": [
    {
     "data": {
      "text/plain": [
       "array([[5, 5, 5],\n",
       "       [5, 5, 5],\n",
       "       [5, 5, 5]])"
      ]
     },
     "execution_count": 23,
     "metadata": {},
     "output_type": "execute_result"
    }
   ],
   "source": [
    "# إنشاء متجه بعنصر محدد \n",
    "matrix = np.full((3,3),5)\n",
    "matrix"
   ]
  },
  {
   "cell_type": "code",
   "execution_count": 24,
   "id": "4ac897f8",
   "metadata": {},
   "outputs": [
    {
     "data": {
      "text/plain": [
       "array([[1., 1., 1., 1.],\n",
       "       [0., 0., 0., 0.],\n",
       "       [0., 0., 0., 0.],\n",
       "       [1., 1., 1., 1.]])"
      ]
     },
     "execution_count": 24,
     "metadata": {},
     "output_type": "execute_result"
    }
   ],
   "source": [
    "# تلاعب بعناصر المصفوفة\n",
    "matrix = np.ones((4,4))\n",
    "matrix[1:3] = 0\n",
    "matrix"
   ]
  },
  {
   "cell_type": "code",
   "execution_count": 25,
   "id": "54ee75c3",
   "metadata": {},
   "outputs": [
    {
     "data": {
      "text/plain": [
       "array([[1., 1., 1., 1.],\n",
       "       [0., 0., 0., 0.],\n",
       "       [0., 0., 0., 0.],\n",
       "       [1., 1., 1., 1.]])"
      ]
     },
     "execution_count": 25,
     "metadata": {},
     "output_type": "execute_result"
    }
   ],
   "source": [
    "# تلاعب بعناصر المصفوفة\n",
    "matrix = np.ones((4,4))\n",
    "matrix[1:-1] = 0\n",
    "matrix"
   ]
  },
  {
   "cell_type": "code",
   "execution_count": 26,
   "id": "cac8adc8",
   "metadata": {},
   "outputs": [
    {
     "data": {
      "text/plain": [
       "array([[1., 0., 0., 1.],\n",
       "       [1., 0., 0., 1.],\n",
       "       [1., 0., 0., 1.],\n",
       "       [1., 0., 0., 1.]])"
      ]
     },
     "execution_count": 26,
     "metadata": {},
     "output_type": "execute_result"
    }
   ],
   "source": [
    "# تلاعب بعناصر المصفوفة\n",
    "matrix = np.ones((4,4))\n",
    "matrix[:,1:-1] = 0\n",
    "matrix"
   ]
  },
  {
   "cell_type": "code",
   "execution_count": 27,
   "id": "f496a764",
   "metadata": {},
   "outputs": [
    {
     "data": {
      "text/plain": [
       "array([[1., 1., 1., 1.],\n",
       "       [1., 0., 0., 1.],\n",
       "       [1., 0., 0., 1.],\n",
       "       [1., 1., 1., 1.]])"
      ]
     },
     "execution_count": 27,
     "metadata": {},
     "output_type": "execute_result"
    }
   ],
   "source": [
    "# تلاعب بعناصر المصفوفة\n",
    "matrix = np.ones((4,4))\n",
    "matrix[1:-1,1:-1] = 0\n",
    "matrix"
   ]
  },
  {
   "cell_type": "code",
   "execution_count": 28,
   "id": "e74ba4ff",
   "metadata": {},
   "outputs": [
    {
     "data": {
      "text/plain": [
       "array([[1., 0., 0., 1.],\n",
       "       [0., 0., 0., 0.],\n",
       "       [0., 0., 0., 0.],\n",
       "       [1., 0., 0., 1.]])"
      ]
     },
     "execution_count": 28,
     "metadata": {},
     "output_type": "execute_result"
    }
   ],
   "source": [
    "# تلاعب بعناصر المصفوفة\n",
    "matrix = np.ones((4,4))\n",
    "matrix[1:-1,:] = 0\n",
    "matrix[:,1:-1] = 0 \n",
    "matrix"
   ]
  },
  {
   "cell_type": "code",
   "execution_count": 29,
   "id": "aca4d647",
   "metadata": {},
   "outputs": [
    {
     "data": {
      "text/plain": [
       "array([[1., 0., 0., 1.],\n",
       "       [0., 0., 0., 0.],\n",
       "       [0., 0., 0., 0.],\n",
       "       [1., 0., 0., 1.]])"
      ]
     },
     "execution_count": 29,
     "metadata": {},
     "output_type": "execute_result"
    }
   ],
   "source": [
    "# تلاعب بعناصر المصفوفة\n",
    "matrix = np.ones((4,4))\n",
    "matrix[:,1:-1] = 0\n",
    "matrix[1:-1,] = 0 \n",
    "matrix"
   ]
  },
  {
   "cell_type": "code",
   "execution_count": 30,
   "id": "e1dd0d8c",
   "metadata": {},
   "outputs": [
    {
     "data": {
      "text/plain": [
       "array([[3, 3, 3, 3, 3],\n",
       "       [3, 2, 2, 2, 3],\n",
       "       [3, 2, 1, 2, 3],\n",
       "       [3, 2, 2, 2, 3],\n",
       "       [3, 3, 3, 3, 3]])"
      ]
     },
     "execution_count": 30,
     "metadata": {},
     "output_type": "execute_result"
    }
   ],
   "source": [
    "# تلاعب بعناصر المصفوفة\n",
    "matrix = np.full((5,5),3)\n",
    "matrix[1:-1,1:-1] = 2\n",
    "matrix[2:3,2:3] = 1\n",
    "matrix "
   ]
  },
  {
   "cell_type": "code",
   "execution_count": 31,
   "id": "a2b2edf7",
   "metadata": {},
   "outputs": [
    {
     "name": "stdout",
     "output_type": "stream",
     "text": [
      "[[3 3 3 3 3]\n",
      " [3 2 2 2 3]\n",
      " [3 2 1 2 3]\n",
      " [3 2 2 2 3]\n",
      " [3 3 3 3 3]]\n",
      "\n"
     ]
    },
    {
     "data": {
      "text/plain": [
       "array([[2, 2, 2],\n",
       "       [2, 1, 2],\n",
       "       [2, 2, 2]])"
      ]
     },
     "execution_count": 31,
     "metadata": {},
     "output_type": "execute_result"
    }
   ],
   "source": [
    "# تلاعب بعناصر المصفوفة\n",
    "matrix = np.full((5,5),3)\n",
    "matrix[1:-1,1:-1] = 2\n",
    "matrix[2:3,2:3] = 1\n",
    "print(matrix)\n",
    "print()\n",
    "inner_mat = matrix[1:-1,1:-1]\n",
    "inner_mat"
   ]
  },
  {
   "cell_type": "code",
   "execution_count": 34,
   "id": "073b2315",
   "metadata": {},
   "outputs": [
    {
     "name": "stdout",
     "output_type": "stream",
     "text": [
      "[[1 2 3]\n",
      " [4 5 6]\n",
      " [7 8 9]]\n",
      "\n"
     ]
    },
    {
     "data": {
      "text/plain": [
       "array([[3, 6, 9],\n",
       "       [2, 5, 8],\n",
       "       [1, 4, 7]])"
      ]
     },
     "execution_count": 34,
     "metadata": {},
     "output_type": "execute_result"
    }
   ],
   "source": [
    "# تدوير المصفوفة\n",
    "matrix = np.arange(1,3*3+1).reshape(3,3)\n",
    "print(matrix)\n",
    "print()\n",
    "rotate_matrix_left = np.rot90(matrix)\n",
    "rotate_matrix_left"
   ]
  },
  {
   "cell_type": "code",
   "execution_count": 36,
   "id": "a34112dd",
   "metadata": {},
   "outputs": [
    {
     "name": "stdout",
     "output_type": "stream",
     "text": [
      "[[1 2 3]\n",
      " [4 5 6]\n",
      " [7 8 9]]\n",
      "\n"
     ]
    },
    {
     "data": {
      "text/plain": [
       "array([[7, 4, 1],\n",
       "       [8, 5, 2],\n",
       "       [9, 6, 3]])"
      ]
     },
     "execution_count": 36,
     "metadata": {},
     "output_type": "execute_result"
    }
   ],
   "source": [
    "# تدوير المصفوفة\n",
    "matrix = np.arange(1,3*3+1).reshape(3,3)\n",
    "print(matrix)\n",
    "print()\n",
    "rotate_matrix_right = np.rot90(matrix,-1)\n",
    "rotate_matrix_right"
   ]
  },
  {
   "cell_type": "code",
   "execution_count": 41,
   "id": "dd228740",
   "metadata": {},
   "outputs": [
    {
     "data": {
      "text/plain": [
       "array([[7, 0, 0, 0],\n",
       "       [0, 7, 0, 0],\n",
       "       [0, 0, 7, 0],\n",
       "       [0, 0, 0, 7]])"
      ]
     },
     "execution_count": 41,
     "metadata": {},
     "output_type": "execute_result"
    }
   ],
   "source": [
    "# إنشاء مصفوفة قطرية من عناصر المتجه \n",
    "array = np.array([7,7,7,7])\n",
    "matrix = np.diag(array)\n",
    "matrix"
   ]
  },
  {
   "cell_type": "code",
   "execution_count": 42,
   "id": "117ccfe3",
   "metadata": {},
   "outputs": [
    {
     "name": "stdout",
     "output_type": "stream",
     "text": [
      "[[ 0  1  2  3]\n",
      " [ 4  5  6  7]\n",
      " [ 8  9 10 11]\n",
      " [12 13 14 15]]\n",
      "\n"
     ]
    },
    {
     "data": {
      "text/plain": [
       "array([ 0,  5, 10, 15])"
      ]
     },
     "execution_count": 42,
     "metadata": {},
     "output_type": "execute_result"
    }
   ],
   "source": [
    "# إستخلاص عناصر القطر الرئيسي للمصفوفة\n",
    "matrix = np.arange(4*4).reshape(4,4)\n",
    "print(matrix)\n",
    "print()\n",
    "digarr = np.diag(matrix)\n",
    "digarr "
   ]
  },
  {
   "cell_type": "code",
   "execution_count": 43,
   "id": "26dc302f",
   "metadata": {},
   "outputs": [
    {
     "name": "stdout",
     "output_type": "stream",
     "text": [
      "[[ 0  1  2  3]\n",
      " [ 4  5  6  7]\n",
      " [ 8  9 10 11]\n",
      " [12 13 14 15]]\n",
      "\n"
     ]
    },
    {
     "data": {
      "text/plain": [
       "array([ 4,  9, 14])"
      ]
     },
     "execution_count": 43,
     "metadata": {},
     "output_type": "execute_result"
    }
   ],
   "source": [
    "# إستخلاص عناصر ذات صفة قطرية للمصفوفة\n",
    "matrix = np.arange(4*4).reshape(4,4)\n",
    "print(matrix)\n",
    "print()\n",
    "digarr = np.diag(matrix,-1)\n",
    "digarr "
   ]
  },
  {
   "cell_type": "code",
   "execution_count": 45,
   "id": "3979cb21",
   "metadata": {},
   "outputs": [
    {
     "name": "stdout",
     "output_type": "stream",
     "text": [
      "[[ 0  1  2  3]\n",
      " [ 4  5  6  7]\n",
      " [ 8  9 10 11]\n",
      " [12 13 14 15]]\n",
      "\n"
     ]
    },
    {
     "data": {
      "text/plain": [
       "array([ 1,  6, 11])"
      ]
     },
     "execution_count": 45,
     "metadata": {},
     "output_type": "execute_result"
    }
   ],
   "source": [
    "# إستخلاص عناصر ذات صفة قطرية للمصفوفة\n",
    "matrix = np.arange(4*4).reshape(4,4)\n",
    "print(matrix)\n",
    "print()\n",
    "digarr = np.diag(matrix,+1)\n",
    "digarr "
   ]
  },
  {
   "cell_type": "code",
   "execution_count": 46,
   "id": "844b6a7c",
   "metadata": {},
   "outputs": [
    {
     "name": "stdout",
     "output_type": "stream",
     "text": [
      "[[ 0  1  2  3]\n",
      " [ 4  5  6  7]\n",
      " [ 8  9 10 11]\n",
      " [12 13 14 15]]\n",
      "\n"
     ]
    },
    {
     "data": {
      "text/plain": [
       "array([ 3,  6,  9, 12])"
      ]
     },
     "execution_count": 46,
     "metadata": {},
     "output_type": "execute_result"
    }
   ],
   "source": [
    "# إستخلاص القطر الثانوي للمصفوفة\n",
    "matrix = np.arange(4*4).reshape(4,4)\n",
    "print(matrix)\n",
    "print()\n",
    "digarr = np.diag(np.rot90(matrix))\n",
    "digarr "
   ]
  },
  {
   "cell_type": "code",
   "execution_count": 67,
   "id": "5f86d425",
   "metadata": {},
   "outputs": [
    {
     "data": {
      "text/plain": [
       "array([[ 0,  1,  2,  3,  4],\n",
       "       [ 5,  6,  7,  8,  9],\n",
       "       [10, 11, 12, 13, 14],\n",
       "       [15, 16, 17, 18, 19],\n",
       "       [20, 21, 22, 23, 24]])"
      ]
     },
     "execution_count": 67,
     "metadata": {},
     "output_type": "execute_result"
    }
   ],
   "source": [
    "# إنشاء مصفوفة\n",
    "matrix = np.arange(25).reshape(5,5)\n",
    "matrix"
   ]
  },
  {
   "cell_type": "code",
   "execution_count": 68,
   "id": "17454c4d",
   "metadata": {},
   "outputs": [],
   "source": [
    "import pandas as pd"
   ]
  },
  {
   "cell_type": "code",
   "execution_count": 69,
   "id": "b1fe61da",
   "metadata": {},
   "outputs": [
    {
     "data": {
      "text/html": [
       "<div>\n",
       "<style scoped>\n",
       "    .dataframe tbody tr th:only-of-type {\n",
       "        vertical-align: middle;\n",
       "    }\n",
       "\n",
       "    .dataframe tbody tr th {\n",
       "        vertical-align: top;\n",
       "    }\n",
       "\n",
       "    .dataframe thead th {\n",
       "        text-align: right;\n",
       "    }\n",
       "</style>\n",
       "<table border=\"1\" class=\"dataframe\">\n",
       "  <thead>\n",
       "    <tr style=\"text-align: right;\">\n",
       "      <th></th>\n",
       "      <th>0</th>\n",
       "      <th>1</th>\n",
       "      <th>2</th>\n",
       "      <th>3</th>\n",
       "      <th>4</th>\n",
       "    </tr>\n",
       "  </thead>\n",
       "  <tbody>\n",
       "    <tr>\n",
       "      <th>0</th>\n",
       "      <td>0</td>\n",
       "      <td>1</td>\n",
       "      <td>2</td>\n",
       "      <td>3</td>\n",
       "      <td>4</td>\n",
       "    </tr>\n",
       "    <tr>\n",
       "      <th>1</th>\n",
       "      <td>5</td>\n",
       "      <td>6</td>\n",
       "      <td>7</td>\n",
       "      <td>8</td>\n",
       "      <td>9</td>\n",
       "    </tr>\n",
       "    <tr>\n",
       "      <th>2</th>\n",
       "      <td>10</td>\n",
       "      <td>11</td>\n",
       "      <td>12</td>\n",
       "      <td>13</td>\n",
       "      <td>14</td>\n",
       "    </tr>\n",
       "    <tr>\n",
       "      <th>3</th>\n",
       "      <td>15</td>\n",
       "      <td>16</td>\n",
       "      <td>17</td>\n",
       "      <td>18</td>\n",
       "      <td>19</td>\n",
       "    </tr>\n",
       "    <tr>\n",
       "      <th>4</th>\n",
       "      <td>20</td>\n",
       "      <td>21</td>\n",
       "      <td>22</td>\n",
       "      <td>23</td>\n",
       "      <td>24</td>\n",
       "    </tr>\n",
       "  </tbody>\n",
       "</table>\n",
       "</div>"
      ],
      "text/plain": [
       "    0   1   2   3   4\n",
       "0   0   1   2   3   4\n",
       "1   5   6   7   8   9\n",
       "2  10  11  12  13  14\n",
       "3  15  16  17  18  19\n",
       "4  20  21  22  23  24"
      ]
     },
     "execution_count": 69,
     "metadata": {},
     "output_type": "execute_result"
    }
   ],
   "source": [
    "# نسطيع الإشارة الى عنصر في المصفوفة بطريقتين\n",
    "# liner_index ذكر العنصر بذاته\n",
    "# عن طريق ثنائية تدل على موقعه\n",
    "# سوف ندرس العنصر 17\n",
    "pd.DataFrame(matrix)"
   ]
  },
  {
   "cell_type": "code",
   "execution_count": 70,
   "id": "5f79c049",
   "metadata": {},
   "outputs": [],
   "source": [
    "# إيجاد موقع 17 في المصفوفة ذات الشكل المذكور \n",
    "liner_index = 17\n",
    "non_liner_index = np.unravel_index(liner_index,(5,5))"
   ]
  },
  {
   "cell_type": "code",
   "execution_count": 73,
   "id": "3230d2c9",
   "metadata": {},
   "outputs": [
    {
     "data": {
      "text/plain": [
       "(17, (3, 2))"
      ]
     },
     "execution_count": 73,
     "metadata": {},
     "output_type": "execute_result"
    }
   ],
   "source": [
    "liner_index , non_liner_index"
   ]
  },
  {
   "cell_type": "code",
   "execution_count": 74,
   "id": "839fa2df",
   "metadata": {},
   "outputs": [],
   "source": [
    "liner_index = 13\n",
    "non_liner_index = np.unravel_index(liner_index,(5,5))"
   ]
  },
  {
   "cell_type": "code",
   "execution_count": 75,
   "id": "17764165",
   "metadata": {},
   "outputs": [
    {
     "data": {
      "text/plain": [
       "(13, (2, 3))"
      ]
     },
     "execution_count": 75,
     "metadata": {},
     "output_type": "execute_result"
    }
   ],
   "source": [
    "liner_index ,non_liner_index"
   ]
  },
  {
   "cell_type": "code",
   "execution_count": 76,
   "id": "78ac7e40",
   "metadata": {},
   "outputs": [],
   "source": [
    "liner_index = 11\n",
    "non_liner_index = np.unravel_index(liner_index,(5,5))"
   ]
  },
  {
   "cell_type": "code",
   "execution_count": 77,
   "id": "24d6e8da",
   "metadata": {},
   "outputs": [
    {
     "data": {
      "text/plain": [
       "(11, (2, 1))"
      ]
     },
     "execution_count": 77,
     "metadata": {},
     "output_type": "execute_result"
    }
   ],
   "source": [
    "liner_index,non_liner_index "
   ]
  },
  {
   "cell_type": "code",
   "execution_count": 83,
   "id": "0e3aae88",
   "metadata": {},
   "outputs": [],
   "source": [
    "# إيجاد العنصر ذا الموقع المذكور\n",
    "non_liner_index = (3,4)\n",
    "liner_index = np.ravel_multi_index(non_liner_index,(5,5))"
   ]
  },
  {
   "cell_type": "code",
   "execution_count": 84,
   "id": "0653dec1",
   "metadata": {},
   "outputs": [
    {
     "data": {
      "text/plain": [
       "((3, 4), 19)"
      ]
     },
     "execution_count": 84,
     "metadata": {},
     "output_type": "execute_result"
    }
   ],
   "source": [
    "non_liner_index ,liner_index"
   ]
  },
  {
   "cell_type": "code",
   "execution_count": 86,
   "id": "60ae1cdc",
   "metadata": {},
   "outputs": [
    {
     "data": {
      "text/plain": [
       "array([[1, 2, 3],\n",
       "       [4, 5, 6]])"
      ]
     },
     "execution_count": 86,
     "metadata": {},
     "output_type": "execute_result"
    }
   ],
   "source": [
    "matrixA = np.arange(1,7).reshape(2,3)\n",
    "matrixA"
   ]
  },
  {
   "cell_type": "code",
   "execution_count": 87,
   "id": "1bb7e127",
   "metadata": {},
   "outputs": [
    {
     "data": {
      "text/plain": [
       "array([[ 7,  8],\n",
       "       [ 9, 10],\n",
       "       [11, 12]])"
      ]
     },
     "execution_count": 87,
     "metadata": {},
     "output_type": "execute_result"
    }
   ],
   "source": [
    "matrixB = np.arange(7,13).reshape(3,2)\n",
    "matrixB"
   ]
  },
  {
   "cell_type": "code",
   "execution_count": 88,
   "id": "3cc27525",
   "metadata": {},
   "outputs": [
    {
     "data": {
      "text/plain": [
       "array([[ 58,  64],\n",
       "       [139, 154]])"
      ]
     },
     "execution_count": 88,
     "metadata": {},
     "output_type": "execute_result"
    }
   ],
   "source": [
    "# جداء لمصفوفتين حيث عدد أعمدة الأولى يساوي عدد أسطر الثانية\n",
    "product_mat = np.dot(matrixA,matrixB)\n",
    "product_mat"
   ]
  },
  {
   "cell_type": "code",
   "execution_count": 89,
   "id": "7096a707",
   "metadata": {},
   "outputs": [
    {
     "data": {
      "text/plain": [
       "array([  0,  -1,  -2,  -3,  -4,  -5,  -6,  -7,  -8,  -9, -10])"
      ]
     },
     "execution_count": 89,
     "metadata": {},
     "output_type": "execute_result"
    }
   ],
   "source": [
    "# عكس إشارة متجه\n",
    "array = np.arange(11)\n",
    "array[:] *= -1\n",
    "array"
   ]
  },
  {
   "cell_type": "code",
   "execution_count": 90,
   "id": "a6a2f89c",
   "metadata": {},
   "outputs": [
    {
     "data": {
      "text/plain": [
       "array([ 3.79517308,  7.64005886,  5.8877347 , -2.789472  , -6.64111846,\n",
       "       -3.56613774, -8.2521364 , -7.42764984,  6.33584845,  6.91198949])"
      ]
     },
     "execution_count": 90,
     "metadata": {},
     "output_type": "execute_result"
    }
   ],
   "source": [
    "# إنشاء متجه بعناصر عشوائية بسياق معين\n",
    "array = np.random.uniform(low= -10,high= 10,size= 10)\n",
    "array"
   ]
  },
  {
   "cell_type": "code",
   "execution_count": 91,
   "id": "3b570370",
   "metadata": {},
   "outputs": [
    {
     "data": {
      "text/plain": [
       "array([ 4.,  8.,  6., -2., -6., -3., -8., -7.,  7.,  7.])"
      ]
     },
     "execution_count": 91,
     "metadata": {},
     "output_type": "execute_result"
    }
   ],
   "source": [
    "# تقريب الى الأعلى\n",
    "np.ceil(array)"
   ]
  },
  {
   "cell_type": "code",
   "execution_count": 95,
   "id": "2de1fd13",
   "metadata": {},
   "outputs": [
    {
     "data": {
      "text/plain": [
       "array([ 3.,  7.,  5., -3., -7., -4., -9., -8.,  6.,  6.])"
      ]
     },
     "execution_count": 95,
     "metadata": {},
     "output_type": "execute_result"
    }
   ],
   "source": [
    "# تقريب الى الأدنى\n",
    "np.floor(array)"
   ]
  },
  {
   "cell_type": "code",
   "execution_count": 93,
   "id": "ab0bf34c",
   "metadata": {},
   "outputs": [
    {
     "data": {
      "text/plain": [
       "array([ 4.,  8.,  6., -3., -7., -4., -8., -7.,  6.,  7.])"
      ]
     },
     "execution_count": 93,
     "metadata": {},
     "output_type": "execute_result"
    }
   ],
   "source": [
    "# تقريب عددي \n",
    "np.round(array)"
   ]
  },
  {
   "cell_type": "code",
   "execution_count": 96,
   "id": "c6831315",
   "metadata": {},
   "outputs": [
    {
     "data": {
      "text/plain": [
       "array([[1., 2., 3., 4., 5.],\n",
       "       [1., 2., 3., 4., 5.],\n",
       "       [1., 2., 3., 4., 5.],\n",
       "       [1., 2., 3., 4., 5.],\n",
       "       [1., 2., 3., 4., 5.]])"
      ]
     },
     "execution_count": 96,
     "metadata": {},
     "output_type": "execute_result"
    }
   ],
   "source": [
    "#  جمع عناصر متجه الى مصفوفة على المحور 0  \n",
    "matrix = np.ones((5,5))\n",
    "matrix +=np.arange(5)\n",
    "matrix"
   ]
  },
  {
   "cell_type": "code",
   "execution_count": 99,
   "id": "eee8d488",
   "metadata": {},
   "outputs": [
    {
     "data": {
      "text/plain": [
       "array([[1., 1., 1., 1., 1.],\n",
       "       [2., 2., 2., 2., 2.],\n",
       "       [3., 3., 3., 3., 3.],\n",
       "       [4., 4., 4., 4., 4.],\n",
       "       [5., 5., 5., 5., 5.]])"
      ]
     },
     "execution_count": 99,
     "metadata": {},
     "output_type": "execute_result"
    }
   ],
   "source": [
    "# جمع عناصر متجه الى مصفوفة على المحور 1 \n",
    "matrix = np.ones((5,5))\n",
    "matrix +=np.arange(5).reshape((5,1))\n",
    "matrix"
   ]
  },
  {
   "cell_type": "code",
   "execution_count": 100,
   "id": "b6ba93f5",
   "metadata": {},
   "outputs": [
    {
     "data": {
      "text/plain": [
       "array([[0, 1, 2, 3, 4],\n",
       "       [5, 6, 7, 8, 9]])"
      ]
     },
     "execution_count": 100,
     "metadata": {},
     "output_type": "execute_result"
    }
   ],
   "source": [
    "matrix = np.arange(10).reshape(2,5)\n",
    "matrix"
   ]
  },
  {
   "cell_type": "code",
   "execution_count": 101,
   "id": "d4d374df",
   "metadata": {},
   "outputs": [
    {
     "data": {
      "text/plain": [
       "array([[0, 5],\n",
       "       [1, 6],\n",
       "       [2, 7],\n",
       "       [3, 8],\n",
       "       [4, 9]])"
      ]
     },
     "execution_count": 101,
     "metadata": {},
     "output_type": "execute_result"
    }
   ],
   "source": [
    "# منقول مصفوفة\n",
    "matrix.T"
   ]
  },
  {
   "cell_type": "code",
   "execution_count": 102,
   "id": "ec6aae64",
   "metadata": {},
   "outputs": [
    {
     "data": {
      "text/plain": [
       "array([[10, 11, 12, 13, 14],\n",
       "       [15, 16, 17, 18, 19]])"
      ]
     },
     "execution_count": 102,
     "metadata": {},
     "output_type": "execute_result"
    }
   ],
   "source": [
    "matrix = np.arange(10,20).reshape(2,5)\n",
    "matrix"
   ]
  },
  {
   "cell_type": "code",
   "execution_count": 103,
   "id": "4771f92d",
   "metadata": {},
   "outputs": [
    {
     "data": {
      "text/plain": [
       "array([[10, 15],\n",
       "       [11, 16],\n",
       "       [12, 17],\n",
       "       [13, 18],\n",
       "       [14, 19]])"
      ]
     },
     "execution_count": 103,
     "metadata": {},
     "output_type": "execute_result"
    }
   ],
   "source": [
    "# منقول مصفوفة\n",
    "np.transpose(matrix)"
   ]
  },
  {
   "cell_type": "code",
   "execution_count": 104,
   "id": "5d9dc624",
   "metadata": {},
   "outputs": [
    {
     "data": {
      "text/plain": [
       "array([1, 2, 3, 4, 5, 6])"
      ]
     },
     "execution_count": 104,
     "metadata": {},
     "output_type": "execute_result"
    }
   ],
   "source": [
    "# تمديد بطريقة محددة\n",
    "arr1 = np.array([1,2,3])\n",
    "arr2 = np.array([4,5,6])\n",
    "arr3 = np.append(arr1,arr2)\n",
    "arr3"
   ]
  },
  {
   "cell_type": "code",
   "execution_count": 124,
   "id": "4729decb",
   "metadata": {},
   "outputs": [],
   "source": [
    "# تمديد بطريقة محددة\n",
    "# وجب ان يكون البعد الذي تم التمديد عليه متساوي  \n",
    "matrix = np.array([[1,2],[3,4]])\n",
    "array = np.array([5,6]).reshape(2,1)"
   ]
  },
  {
   "cell_type": "code",
   "execution_count": 125,
   "id": "ea4c6b63",
   "metadata": {},
   "outputs": [
    {
     "name": "stdout",
     "output_type": "stream",
     "text": [
      "(2, 1) \n",
      "\n"
     ]
    },
    {
     "data": {
      "text/plain": [
       "(2, 2)"
      ]
     },
     "execution_count": 125,
     "metadata": {},
     "output_type": "execute_result"
    }
   ],
   "source": [
    "print(array.shape,'\\n')\n",
    "matrix.shape"
   ]
  },
  {
   "cell_type": "code",
   "execution_count": 126,
   "id": "dcda1408",
   "metadata": {},
   "outputs": [
    {
     "name": "stdout",
     "output_type": "stream",
     "text": [
      "[[5]\n",
      " [6]] \n",
      "\n"
     ]
    },
    {
     "data": {
      "text/plain": [
       "array([[1, 2],\n",
       "       [3, 4]])"
      ]
     },
     "execution_count": 126,
     "metadata": {},
     "output_type": "execute_result"
    }
   ],
   "source": [
    "print(array,'\\n')\n",
    "matrix"
   ]
  },
  {
   "cell_type": "code",
   "execution_count": 127,
   "id": "05b43a30",
   "metadata": {},
   "outputs": [
    {
     "data": {
      "text/plain": [
       "array([[1, 2, 5],\n",
       "       [3, 4, 6]])"
      ]
     },
     "execution_count": 127,
     "metadata": {},
     "output_type": "execute_result"
    }
   ],
   "source": [
    "arr = np.append(matrix,array,axis=1)\n",
    "arr"
   ]
  },
  {
   "cell_type": "code",
   "execution_count": 128,
   "id": "e0f0bab9",
   "metadata": {},
   "outputs": [],
   "source": [
    "# إنتبه الى المحور الذي نجري عليه التمديد\n",
    "matrix = np.array([[1,2],[3,4]])\n",
    "array = np.array([5,6]).reshape(1,2)"
   ]
  },
  {
   "cell_type": "code",
   "execution_count": 130,
   "id": "17d1c0b0",
   "metadata": {},
   "outputs": [
    {
     "data": {
      "text/plain": [
       "array([[1, 2],\n",
       "       [3, 4],\n",
       "       [5, 6]])"
      ]
     },
     "execution_count": 130,
     "metadata": {},
     "output_type": "execute_result"
    }
   ],
   "source": [
    "arr = np.append(matrix,array,axis=0)\n",
    "arr"
   ]
  },
  {
   "cell_type": "code",
   "execution_count": 131,
   "id": "58034f46",
   "metadata": {},
   "outputs": [],
   "source": [
    "# هنا جميع الأبعاد متساوية فلا يوجد مشكلة \n",
    "matrix = np.array([[1,2],[3,4]])\n",
    "array = np.array([[5,6],[7,8]])"
   ]
  },
  {
   "cell_type": "code",
   "execution_count": 132,
   "id": "2559cc0e",
   "metadata": {},
   "outputs": [
    {
     "data": {
      "text/plain": [
       "array([[1, 2],\n",
       "       [3, 4],\n",
       "       [5, 6],\n",
       "       [7, 8]])"
      ]
     },
     "execution_count": 132,
     "metadata": {},
     "output_type": "execute_result"
    }
   ],
   "source": [
    "arr = np.append(matrix,array,axis=0)\n",
    "arr"
   ]
  },
  {
   "cell_type": "code",
   "execution_count": 133,
   "id": "3c28411f",
   "metadata": {},
   "outputs": [
    {
     "data": {
      "text/plain": [
       "array([[1, 2, 5, 6],\n",
       "       [3, 4, 7, 8]])"
      ]
     },
     "execution_count": 133,
     "metadata": {},
     "output_type": "execute_result"
    }
   ],
   "source": [
    "arr = np.append(matrix,array,axis=1)\n",
    "arr"
   ]
  },
  {
   "cell_type": "code",
   "execution_count": null,
   "id": "599c5b07",
   "metadata": {},
   "outputs": [],
   "source": []
  },
  {
   "cell_type": "code",
   "execution_count": null,
   "id": "fbf77daa",
   "metadata": {},
   "outputs": [],
   "source": []
  }
 ],
 "metadata": {
  "kernelspec": {
   "display_name": "Python 3 (ipykernel)",
   "language": "python",
   "name": "python3"
  },
  "language_info": {
   "codemirror_mode": {
    "name": "ipython",
    "version": 3
   },
   "file_extension": ".py",
   "mimetype": "text/x-python",
   "name": "python",
   "nbconvert_exporter": "python",
   "pygments_lexer": "ipython3",
   "version": "3.9.12"
  }
 },
 "nbformat": 4,
 "nbformat_minor": 5
}
