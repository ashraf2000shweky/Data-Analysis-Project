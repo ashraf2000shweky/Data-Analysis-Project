{
 "cells": [
  {
   "cell_type": "code",
   "execution_count": 4,
   "id": "1c9c606f",
   "metadata": {},
   "outputs": [],
   "source": [
    "import pandas as pd\n",
    "import numpy as np\n",
    "import matplotlib.pyplot as plt\n",
    "import seaborn as sn"
   ]
  },
  {
   "cell_type": "code",
   "execution_count": 5,
   "id": "499a4dfe",
   "metadata": {},
   "outputs": [
    {
     "data": {
      "text/html": [
       "<div>\n",
       "<style scoped>\n",
       "    .dataframe tbody tr th:only-of-type {\n",
       "        vertical-align: middle;\n",
       "    }\n",
       "\n",
       "    .dataframe tbody tr th {\n",
       "        vertical-align: top;\n",
       "    }\n",
       "\n",
       "    .dataframe thead th {\n",
       "        text-align: right;\n",
       "    }\n",
       "</style>\n",
       "<table border=\"1\" class=\"dataframe\">\n",
       "  <thead>\n",
       "    <tr style=\"text-align: right;\">\n",
       "      <th></th>\n",
       "      <th>stop_date</th>\n",
       "      <th>stop_time</th>\n",
       "      <th>country_name</th>\n",
       "      <th>driver_gender</th>\n",
       "      <th>driver_age_raw</th>\n",
       "      <th>driver_age</th>\n",
       "      <th>driver_race</th>\n",
       "      <th>violation_raw</th>\n",
       "      <th>violation</th>\n",
       "      <th>search_conducted</th>\n",
       "      <th>search_type</th>\n",
       "      <th>stop_outcome</th>\n",
       "      <th>is_arrested</th>\n",
       "      <th>stop_duration</th>\n",
       "      <th>drugs_related_stop</th>\n",
       "    </tr>\n",
       "  </thead>\n",
       "  <tbody>\n",
       "    <tr>\n",
       "      <th>0</th>\n",
       "      <td>1/2/2005</td>\n",
       "      <td>1:55</td>\n",
       "      <td>NaN</td>\n",
       "      <td>M</td>\n",
       "      <td>1985.0</td>\n",
       "      <td>20.0</td>\n",
       "      <td>White</td>\n",
       "      <td>Speeding</td>\n",
       "      <td>Speeding</td>\n",
       "      <td>False</td>\n",
       "      <td>NaN</td>\n",
       "      <td>Citation</td>\n",
       "      <td>False</td>\n",
       "      <td>0-15 Min</td>\n",
       "      <td>False</td>\n",
       "    </tr>\n",
       "    <tr>\n",
       "      <th>1</th>\n",
       "      <td>1/18/2005</td>\n",
       "      <td>8:15</td>\n",
       "      <td>NaN</td>\n",
       "      <td>M</td>\n",
       "      <td>1965.0</td>\n",
       "      <td>40.0</td>\n",
       "      <td>White</td>\n",
       "      <td>Speeding</td>\n",
       "      <td>Speeding</td>\n",
       "      <td>False</td>\n",
       "      <td>NaN</td>\n",
       "      <td>Citation</td>\n",
       "      <td>False</td>\n",
       "      <td>0-15 Min</td>\n",
       "      <td>False</td>\n",
       "    </tr>\n",
       "    <tr>\n",
       "      <th>2</th>\n",
       "      <td>1/23/2005</td>\n",
       "      <td>23:15</td>\n",
       "      <td>NaN</td>\n",
       "      <td>M</td>\n",
       "      <td>1972.0</td>\n",
       "      <td>33.0</td>\n",
       "      <td>White</td>\n",
       "      <td>Speeding</td>\n",
       "      <td>Speeding</td>\n",
       "      <td>False</td>\n",
       "      <td>NaN</td>\n",
       "      <td>Citation</td>\n",
       "      <td>False</td>\n",
       "      <td>0-15 Min</td>\n",
       "      <td>False</td>\n",
       "    </tr>\n",
       "    <tr>\n",
       "      <th>3</th>\n",
       "      <td>2/20/2005</td>\n",
       "      <td>17:15</td>\n",
       "      <td>NaN</td>\n",
       "      <td>M</td>\n",
       "      <td>1986.0</td>\n",
       "      <td>19.0</td>\n",
       "      <td>White</td>\n",
       "      <td>Call for Service</td>\n",
       "      <td>Other</td>\n",
       "      <td>False</td>\n",
       "      <td>NaN</td>\n",
       "      <td>Arrest Driver</td>\n",
       "      <td>True</td>\n",
       "      <td>16-30 Min</td>\n",
       "      <td>False</td>\n",
       "    </tr>\n",
       "    <tr>\n",
       "      <th>4</th>\n",
       "      <td>3/14/2005</td>\n",
       "      <td>10:00</td>\n",
       "      <td>NaN</td>\n",
       "      <td>F</td>\n",
       "      <td>1984.0</td>\n",
       "      <td>21.0</td>\n",
       "      <td>White</td>\n",
       "      <td>Speeding</td>\n",
       "      <td>Speeding</td>\n",
       "      <td>False</td>\n",
       "      <td>NaN</td>\n",
       "      <td>Citation</td>\n",
       "      <td>False</td>\n",
       "      <td>0-15 Min</td>\n",
       "      <td>False</td>\n",
       "    </tr>\n",
       "    <tr>\n",
       "      <th>...</th>\n",
       "      <td>...</td>\n",
       "      <td>...</td>\n",
       "      <td>...</td>\n",
       "      <td>...</td>\n",
       "      <td>...</td>\n",
       "      <td>...</td>\n",
       "      <td>...</td>\n",
       "      <td>...</td>\n",
       "      <td>...</td>\n",
       "      <td>...</td>\n",
       "      <td>...</td>\n",
       "      <td>...</td>\n",
       "      <td>...</td>\n",
       "      <td>...</td>\n",
       "      <td>...</td>\n",
       "    </tr>\n",
       "    <tr>\n",
       "      <th>65530</th>\n",
       "      <td>12/6/2012</td>\n",
       "      <td>17:54</td>\n",
       "      <td>NaN</td>\n",
       "      <td>F</td>\n",
       "      <td>1987.0</td>\n",
       "      <td>25.0</td>\n",
       "      <td>White</td>\n",
       "      <td>Speeding</td>\n",
       "      <td>Speeding</td>\n",
       "      <td>False</td>\n",
       "      <td>NaN</td>\n",
       "      <td>Citation</td>\n",
       "      <td>False</td>\n",
       "      <td>0-15 Min</td>\n",
       "      <td>False</td>\n",
       "    </tr>\n",
       "    <tr>\n",
       "      <th>65531</th>\n",
       "      <td>12/6/2012</td>\n",
       "      <td>22:22</td>\n",
       "      <td>NaN</td>\n",
       "      <td>M</td>\n",
       "      <td>1954.0</td>\n",
       "      <td>58.0</td>\n",
       "      <td>White</td>\n",
       "      <td>Speeding</td>\n",
       "      <td>Speeding</td>\n",
       "      <td>False</td>\n",
       "      <td>NaN</td>\n",
       "      <td>Warning</td>\n",
       "      <td>False</td>\n",
       "      <td>0-15 Min</td>\n",
       "      <td>False</td>\n",
       "    </tr>\n",
       "    <tr>\n",
       "      <th>65532</th>\n",
       "      <td>12/6/2012</td>\n",
       "      <td>23:20</td>\n",
       "      <td>NaN</td>\n",
       "      <td>M</td>\n",
       "      <td>1985.0</td>\n",
       "      <td>27.0</td>\n",
       "      <td>Black</td>\n",
       "      <td>Equipment/Inspection Violation</td>\n",
       "      <td>Equipment</td>\n",
       "      <td>False</td>\n",
       "      <td>NaN</td>\n",
       "      <td>Citation</td>\n",
       "      <td>False</td>\n",
       "      <td>0-15 Min</td>\n",
       "      <td>False</td>\n",
       "    </tr>\n",
       "    <tr>\n",
       "      <th>65533</th>\n",
       "      <td>12/7/2012</td>\n",
       "      <td>0:23</td>\n",
       "      <td>NaN</td>\n",
       "      <td>NaN</td>\n",
       "      <td>NaN</td>\n",
       "      <td>NaN</td>\n",
       "      <td>NaN</td>\n",
       "      <td>NaN</td>\n",
       "      <td>NaN</td>\n",
       "      <td>False</td>\n",
       "      <td>NaN</td>\n",
       "      <td>NaN</td>\n",
       "      <td>NaN</td>\n",
       "      <td>NaN</td>\n",
       "      <td>False</td>\n",
       "    </tr>\n",
       "    <tr>\n",
       "      <th>65534</th>\n",
       "      <td>12/7/2012</td>\n",
       "      <td>0:30</td>\n",
       "      <td>NaN</td>\n",
       "      <td>F</td>\n",
       "      <td>1985.0</td>\n",
       "      <td>27.0</td>\n",
       "      <td>White</td>\n",
       "      <td>Speeding</td>\n",
       "      <td>Speeding</td>\n",
       "      <td>False</td>\n",
       "      <td>NaN</td>\n",
       "      <td>Citation</td>\n",
       "      <td>False</td>\n",
       "      <td>0-15 Min</td>\n",
       "      <td>False</td>\n",
       "    </tr>\n",
       "  </tbody>\n",
       "</table>\n",
       "<p>65535 rows × 15 columns</p>\n",
       "</div>"
      ],
      "text/plain": [
       "       stop_date stop_time  country_name driver_gender  driver_age_raw  \\\n",
       "0       1/2/2005      1:55           NaN             M          1985.0   \n",
       "1      1/18/2005      8:15           NaN             M          1965.0   \n",
       "2      1/23/2005     23:15           NaN             M          1972.0   \n",
       "3      2/20/2005     17:15           NaN             M          1986.0   \n",
       "4      3/14/2005     10:00           NaN             F          1984.0   \n",
       "...          ...       ...           ...           ...             ...   \n",
       "65530  12/6/2012     17:54           NaN             F          1987.0   \n",
       "65531  12/6/2012     22:22           NaN             M          1954.0   \n",
       "65532  12/6/2012     23:20           NaN             M          1985.0   \n",
       "65533  12/7/2012      0:23           NaN           NaN             NaN   \n",
       "65534  12/7/2012      0:30           NaN             F          1985.0   \n",
       "\n",
       "       driver_age driver_race                   violation_raw  violation  \\\n",
       "0            20.0       White                        Speeding   Speeding   \n",
       "1            40.0       White                        Speeding   Speeding   \n",
       "2            33.0       White                        Speeding   Speeding   \n",
       "3            19.0       White                Call for Service      Other   \n",
       "4            21.0       White                        Speeding   Speeding   \n",
       "...           ...         ...                             ...        ...   \n",
       "65530        25.0       White                        Speeding   Speeding   \n",
       "65531        58.0       White                        Speeding   Speeding   \n",
       "65532        27.0       Black  Equipment/Inspection Violation  Equipment   \n",
       "65533         NaN         NaN                             NaN        NaN   \n",
       "65534        27.0       White                        Speeding   Speeding   \n",
       "\n",
       "       search_conducted search_type   stop_outcome is_arrested stop_duration  \\\n",
       "0                 False         NaN       Citation       False      0-15 Min   \n",
       "1                 False         NaN       Citation       False      0-15 Min   \n",
       "2                 False         NaN       Citation       False      0-15 Min   \n",
       "3                 False         NaN  Arrest Driver        True     16-30 Min   \n",
       "4                 False         NaN       Citation       False      0-15 Min   \n",
       "...                 ...         ...            ...         ...           ...   \n",
       "65530             False         NaN       Citation       False      0-15 Min   \n",
       "65531             False         NaN        Warning       False      0-15 Min   \n",
       "65532             False         NaN       Citation       False      0-15 Min   \n",
       "65533             False         NaN            NaN         NaN           NaN   \n",
       "65534             False         NaN       Citation       False      0-15 Min   \n",
       "\n",
       "       drugs_related_stop  \n",
       "0                   False  \n",
       "1                   False  \n",
       "2                   False  \n",
       "3                   False  \n",
       "4                   False  \n",
       "...                   ...  \n",
       "65530               False  \n",
       "65531               False  \n",
       "65532               False  \n",
       "65533               False  \n",
       "65534               False  \n",
       "\n",
       "[65535 rows x 15 columns]"
      ]
     },
     "execution_count": 5,
     "metadata": {},
     "output_type": "execute_result"
    }
   ],
   "source": [
    "data = pd.read_csv('Police.csv')\n",
    "data"
   ]
  },
  {
   "cell_type": "code",
   "execution_count": 6,
   "id": "f3218adc",
   "metadata": {},
   "outputs": [
    {
     "data": {
      "text/plain": [
       "stop_date                 0\n",
       "stop_time                 0\n",
       "country_name          65535\n",
       "driver_gender          4061\n",
       "driver_age_raw         4054\n",
       "driver_age             4307\n",
       "driver_race            4060\n",
       "violation_raw          4060\n",
       "violation              4060\n",
       "search_conducted          0\n",
       "search_type           63056\n",
       "stop_outcome           4060\n",
       "is_arrested            4060\n",
       "stop_duration          4060\n",
       "drugs_related_stop        0\n",
       "dtype: int64"
      ]
     },
     "execution_count": 6,
     "metadata": {},
     "output_type": "execute_result"
    }
   ],
   "source": [
    "data.isnull().sum() # عدد القيم الفقودة في كل عامود "
   ]
  },
  {
   "cell_type": "code",
   "execution_count": null,
   "id": "70542c58",
   "metadata": {},
   "outputs": [],
   "source": [
    "# إسقاط الأعمدة التى الغبر مفيدة \n",
    "data.drop(columns =['search_type','country_name'],inplace = True )"
   ]
  },
  {
   "cell_type": "markdown",
   "id": "6695ef29",
   "metadata": {},
   "source": [
    "<h3>\n",
    "الخطوات التالية هي ملئ القيم الفققودة في البيانات \n",
    "</h3>"
   ]
  },
  {
   "cell_type": "code",
   "execution_count": 12,
   "id": "e4d039f9",
   "metadata": {},
   "outputs": [
    {
     "data": {
      "text/plain": [
       "M      45164\n",
       "F      16310\n",
       "NaN     4061\n",
       "Name: driver_gender, dtype: int64"
      ]
     },
     "execution_count": 12,
     "metadata": {},
     "output_type": "execute_result"
    }
   ],
   "source": [
    "data['driver_gender'].value_counts(dropna=False)"
   ]
  },
  {
   "cell_type": "code",
   "execution_count": 13,
   "id": "79a94c56",
   "metadata": {},
   "outputs": [],
   "source": [
    "data['driver_gender'].fillna(value='M',limit=3010,inplace=True)"
   ]
  },
  {
   "cell_type": "code",
   "execution_count": 14,
   "id": "d99cec0a",
   "metadata": {},
   "outputs": [],
   "source": [
    "data['driver_gender'].fillna(value='F',inplace=True)"
   ]
  },
  {
   "cell_type": "code",
   "execution_count": 15,
   "id": "56bf688c",
   "metadata": {},
   "outputs": [
    {
     "data": {
      "text/plain": [
       "M    48174\n",
       "F    17361\n",
       "Name: driver_gender, dtype: int64"
      ]
     },
     "execution_count": 15,
     "metadata": {},
     "output_type": "execute_result"
    }
   ],
   "source": [
    "data['driver_gender'].value_counts(dropna=False)"
   ]
  },
  {
   "cell_type": "code",
   "execution_count": 16,
   "id": "ac98e837",
   "metadata": {},
   "outputs": [
    {
     "data": {
      "text/plain": [
       "1978.0"
      ]
     },
     "execution_count": 16,
     "metadata": {},
     "output_type": "execute_result"
    }
   ],
   "source": [
    "data['driver_age_raw'].median()"
   ]
  },
  {
   "cell_type": "code",
   "execution_count": 17,
   "id": "34acf116",
   "metadata": {},
   "outputs": [],
   "source": [
    "data['driver_age_raw'].fillna(1978.0,inplace=True)"
   ]
  },
  {
   "cell_type": "code",
   "execution_count": 18,
   "id": "56af4d87",
   "metadata": {},
   "outputs": [
    {
     "data": {
      "text/plain": [
       "False"
      ]
     },
     "execution_count": 18,
     "metadata": {},
     "output_type": "execute_result"
    }
   ],
   "source": [
    "data['driver_age_raw'].isnull().any()"
   ]
  },
  {
   "cell_type": "code",
   "execution_count": 19,
   "id": "19e40766",
   "metadata": {},
   "outputs": [
    {
     "data": {
      "text/plain": [
       "34.14898412491017"
      ]
     },
     "execution_count": 19,
     "metadata": {},
     "output_type": "execute_result"
    }
   ],
   "source": [
    "data['driver_age'].mean()"
   ]
  },
  {
   "cell_type": "code",
   "execution_count": 20,
   "id": "532f9d25",
   "metadata": {},
   "outputs": [],
   "source": [
    "data['driver_age'].fillna(34,inplace=True)"
   ]
  },
  {
   "cell_type": "code",
   "execution_count": 21,
   "id": "b70dd4dd",
   "metadata": {},
   "outputs": [
    {
     "data": {
      "text/plain": [
       "False"
      ]
     },
     "execution_count": 21,
     "metadata": {},
     "output_type": "execute_result"
    }
   ],
   "source": [
    "data['driver_age'].isnull().any()"
   ]
  },
  {
   "cell_type": "code",
   "execution_count": 22,
   "id": "eaedd775",
   "metadata": {
    "scrolled": true
   },
   "outputs": [
    {
     "data": {
      "text/plain": [
       "White       45747\n",
       "Black        8267\n",
       "Hispanic     5611\n",
       "NaN          4060\n",
       "Asian        1639\n",
       "Other         211\n",
       "Name: driver_race, dtype: int64"
      ]
     },
     "execution_count": 22,
     "metadata": {},
     "output_type": "execute_result"
    }
   ],
   "source": [
    "data['driver_race'].value_counts(dropna=False)"
   ]
  },
  {
   "cell_type": "code",
   "execution_count": 23,
   "id": "96d518f4",
   "metadata": {},
   "outputs": [],
   "source": [
    "data['driver_race'].fillna('White',limit=2000,inplace=True)"
   ]
  },
  {
   "cell_type": "code",
   "execution_count": 24,
   "id": "7d84ffd1",
   "metadata": {},
   "outputs": [],
   "source": [
    "data['driver_race'].fillna('Black',limit=700,inplace=True)"
   ]
  },
  {
   "cell_type": "code",
   "execution_count": 25,
   "id": "40a81117",
   "metadata": {},
   "outputs": [],
   "source": [
    "data['driver_race'].fillna('Hispanic',limit=500,inplace=True)"
   ]
  },
  {
   "cell_type": "code",
   "execution_count": 26,
   "id": "11500c3d",
   "metadata": {},
   "outputs": [],
   "source": [
    "data['driver_race'].fillna('Asian',limit=300,inplace=True)"
   ]
  },
  {
   "cell_type": "code",
   "execution_count": 27,
   "id": "e18a8443",
   "metadata": {},
   "outputs": [],
   "source": [
    "data['driver_race'].fillna('Other',inplace=True)"
   ]
  },
  {
   "cell_type": "code",
   "execution_count": 28,
   "id": "4b43e871",
   "metadata": {},
   "outputs": [
    {
     "data": {
      "text/plain": [
       "False"
      ]
     },
     "execution_count": 28,
     "metadata": {},
     "output_type": "execute_result"
    }
   ],
   "source": [
    "data['driver_race'].isnull().any()"
   ]
  },
  {
   "cell_type": "code",
   "execution_count": 29,
   "id": "8d059385",
   "metadata": {},
   "outputs": [
    {
     "data": {
      "text/plain": [
       "White       47747\n",
       "Black        8967\n",
       "Hispanic     6111\n",
       "Asian        1939\n",
       "Other         771\n",
       "Name: driver_race, dtype: int64"
      ]
     },
     "execution_count": 29,
     "metadata": {},
     "output_type": "execute_result"
    }
   ],
   "source": [
    "data['driver_race'].value_counts(dropna=False)"
   ]
  },
  {
   "cell_type": "code",
   "execution_count": 30,
   "id": "ae80f1db",
   "metadata": {},
   "outputs": [
    {
     "data": {
      "text/plain": [
       "0    Speeding\n",
       "Name: violation_raw, dtype: object"
      ]
     },
     "execution_count": 30,
     "metadata": {},
     "output_type": "execute_result"
    }
   ],
   "source": [
    "data['violation_raw'].mode()"
   ]
  },
  {
   "cell_type": "code",
   "execution_count": 31,
   "id": "37e5ee7a",
   "metadata": {},
   "outputs": [
    {
     "data": {
      "text/plain": [
       "0    Speeding\n",
       "Name: violation, dtype: object"
      ]
     },
     "execution_count": 31,
     "metadata": {},
     "output_type": "execute_result"
    }
   ],
   "source": [
    "data['violation'].mode()"
   ]
  },
  {
   "cell_type": "code",
   "execution_count": 32,
   "id": "65d4b915",
   "metadata": {},
   "outputs": [],
   "source": [
    "data['violation_raw'].fillna('Speeding',inplace=True)"
   ]
  },
  {
   "cell_type": "code",
   "execution_count": 33,
   "id": "3e9fdf8f",
   "metadata": {},
   "outputs": [],
   "source": [
    "data['violation'].fillna('Speeding',inplace=True)"
   ]
  },
  {
   "cell_type": "code",
   "execution_count": 34,
   "id": "65eb90f3",
   "metadata": {},
   "outputs": [
    {
     "data": {
      "text/plain": [
       "Citation            56564\n",
       "NaN                  4060\n",
       "Arrest Driver        2009\n",
       "Warning              1889\n",
       "N/D                   423\n",
       "No Action             339\n",
       "Arrest Passenger      251\n",
       "Name: stop_outcome, dtype: int64"
      ]
     },
     "execution_count": 34,
     "metadata": {},
     "output_type": "execute_result"
    }
   ],
   "source": [
    "data['stop_outcome'].value_counts(dropna=False)"
   ]
  },
  {
   "cell_type": "code",
   "execution_count": 35,
   "id": "9324c11a",
   "metadata": {},
   "outputs": [],
   "source": [
    "data['stop_outcome'].fillna('Citation',inplace=True)"
   ]
  },
  {
   "cell_type": "code",
   "execution_count": 36,
   "id": "a4a5d00c",
   "metadata": {},
   "outputs": [
    {
     "data": {
      "text/plain": [
       "False    59215\n",
       "NaN       4060\n",
       "True      2260\n",
       "Name: is_arrested, dtype: int64"
      ]
     },
     "execution_count": 36,
     "metadata": {},
     "output_type": "execute_result"
    }
   ],
   "source": [
    "data['is_arrested'].value_counts(dropna=False)"
   ]
  },
  {
   "cell_type": "code",
   "execution_count": 37,
   "id": "86c88dd9",
   "metadata": {},
   "outputs": [],
   "source": [
    "data['is_arrested'].fillna('False',inplace=True)"
   ]
  },
  {
   "cell_type": "code",
   "execution_count": 38,
   "id": "d49252c2",
   "metadata": {},
   "outputs": [
    {
     "data": {
      "text/plain": [
       "0-15 Min     47379\n",
       "16-30 Min    11448\n",
       "NaN           4060\n",
       "30+ Min       2647\n",
       "2                1\n",
       "Name: stop_duration, dtype: int64"
      ]
     },
     "execution_count": 38,
     "metadata": {},
     "output_type": "execute_result"
    }
   ],
   "source": [
    "data['stop_duration'].value_counts(dropna=False)"
   ]
  },
  {
   "cell_type": "code",
   "execution_count": 39,
   "id": "2e06c728",
   "metadata": {},
   "outputs": [],
   "source": [
    "data['stop_duration'].fillna('0-15 Min',inplace=True)"
   ]
  },
  {
   "cell_type": "code",
   "execution_count": 40,
   "id": "eeff99e4",
   "metadata": {},
   "outputs": [
    {
     "data": {
      "text/plain": [
       "stop_date             0\n",
       "stop_time             0\n",
       "driver_gender         0\n",
       "driver_age_raw        0\n",
       "driver_age            0\n",
       "driver_race           0\n",
       "violation_raw         0\n",
       "violation             0\n",
       "search_conducted      0\n",
       "stop_outcome          0\n",
       "is_arrested           0\n",
       "stop_duration         0\n",
       "drugs_related_stop    0\n",
       "dtype: int64"
      ]
     },
     "execution_count": 40,
     "metadata": {},
     "output_type": "execute_result"
    }
   ],
   "source": [
    "data.isnull().sum()"
   ]
  },
  {
   "cell_type": "code",
   "execution_count": null,
   "id": "b5df6993",
   "metadata": {},
   "outputs": [],
   "source": []
  },
  {
   "cell_type": "code",
   "execution_count": 41,
   "id": "944a15e9",
   "metadata": {},
   "outputs": [
    {
     "data": {
      "text/html": [
       "<div>\n",
       "<style scoped>\n",
       "    .dataframe tbody tr th:only-of-type {\n",
       "        vertical-align: middle;\n",
       "    }\n",
       "\n",
       "    .dataframe tbody tr th {\n",
       "        vertical-align: top;\n",
       "    }\n",
       "\n",
       "    .dataframe thead th {\n",
       "        text-align: right;\n",
       "    }\n",
       "</style>\n",
       "<table border=\"1\" class=\"dataframe\">\n",
       "  <thead>\n",
       "    <tr style=\"text-align: right;\">\n",
       "      <th></th>\n",
       "      <th>stop_date</th>\n",
       "      <th>stop_time</th>\n",
       "      <th>driver_gender</th>\n",
       "      <th>driver_age_raw</th>\n",
       "      <th>driver_age</th>\n",
       "      <th>driver_race</th>\n",
       "      <th>violation_raw</th>\n",
       "      <th>violation</th>\n",
       "      <th>search_conducted</th>\n",
       "      <th>stop_outcome</th>\n",
       "      <th>is_arrested</th>\n",
       "      <th>stop_duration</th>\n",
       "      <th>drugs_related_stop</th>\n",
       "    </tr>\n",
       "  </thead>\n",
       "  <tbody>\n",
       "    <tr>\n",
       "      <th>0</th>\n",
       "      <td>1/2/2005</td>\n",
       "      <td>1:55</td>\n",
       "      <td>M</td>\n",
       "      <td>1985.0</td>\n",
       "      <td>20.0</td>\n",
       "      <td>White</td>\n",
       "      <td>Speeding</td>\n",
       "      <td>Speeding</td>\n",
       "      <td>False</td>\n",
       "      <td>Citation</td>\n",
       "      <td>False</td>\n",
       "      <td>0-15 Min</td>\n",
       "      <td>False</td>\n",
       "    </tr>\n",
       "    <tr>\n",
       "      <th>1</th>\n",
       "      <td>1/18/2005</td>\n",
       "      <td>8:15</td>\n",
       "      <td>M</td>\n",
       "      <td>1965.0</td>\n",
       "      <td>40.0</td>\n",
       "      <td>White</td>\n",
       "      <td>Speeding</td>\n",
       "      <td>Speeding</td>\n",
       "      <td>False</td>\n",
       "      <td>Citation</td>\n",
       "      <td>False</td>\n",
       "      <td>0-15 Min</td>\n",
       "      <td>False</td>\n",
       "    </tr>\n",
       "    <tr>\n",
       "      <th>2</th>\n",
       "      <td>1/23/2005</td>\n",
       "      <td>23:15</td>\n",
       "      <td>M</td>\n",
       "      <td>1972.0</td>\n",
       "      <td>33.0</td>\n",
       "      <td>White</td>\n",
       "      <td>Speeding</td>\n",
       "      <td>Speeding</td>\n",
       "      <td>False</td>\n",
       "      <td>Citation</td>\n",
       "      <td>False</td>\n",
       "      <td>0-15 Min</td>\n",
       "      <td>False</td>\n",
       "    </tr>\n",
       "    <tr>\n",
       "      <th>3</th>\n",
       "      <td>2/20/2005</td>\n",
       "      <td>17:15</td>\n",
       "      <td>M</td>\n",
       "      <td>1986.0</td>\n",
       "      <td>19.0</td>\n",
       "      <td>White</td>\n",
       "      <td>Call for Service</td>\n",
       "      <td>Other</td>\n",
       "      <td>False</td>\n",
       "      <td>Arrest Driver</td>\n",
       "      <td>True</td>\n",
       "      <td>16-30 Min</td>\n",
       "      <td>False</td>\n",
       "    </tr>\n",
       "    <tr>\n",
       "      <th>4</th>\n",
       "      <td>3/14/2005</td>\n",
       "      <td>10:00</td>\n",
       "      <td>F</td>\n",
       "      <td>1984.0</td>\n",
       "      <td>21.0</td>\n",
       "      <td>White</td>\n",
       "      <td>Speeding</td>\n",
       "      <td>Speeding</td>\n",
       "      <td>False</td>\n",
       "      <td>Citation</td>\n",
       "      <td>False</td>\n",
       "      <td>0-15 Min</td>\n",
       "      <td>False</td>\n",
       "    </tr>\n",
       "  </tbody>\n",
       "</table>\n",
       "</div>"
      ],
      "text/plain": [
       "   stop_date stop_time driver_gender  driver_age_raw  driver_age driver_race  \\\n",
       "0   1/2/2005      1:55             M          1985.0        20.0       White   \n",
       "1  1/18/2005      8:15             M          1965.0        40.0       White   \n",
       "2  1/23/2005     23:15             M          1972.0        33.0       White   \n",
       "3  2/20/2005     17:15             M          1986.0        19.0       White   \n",
       "4  3/14/2005     10:00             F          1984.0        21.0       White   \n",
       "\n",
       "      violation_raw violation  search_conducted   stop_outcome is_arrested  \\\n",
       "0          Speeding  Speeding             False       Citation       False   \n",
       "1          Speeding  Speeding             False       Citation       False   \n",
       "2          Speeding  Speeding             False       Citation       False   \n",
       "3  Call for Service     Other             False  Arrest Driver        True   \n",
       "4          Speeding  Speeding             False       Citation       False   \n",
       "\n",
       "  stop_duration  drugs_related_stop  \n",
       "0      0-15 Min               False  \n",
       "1      0-15 Min               False  \n",
       "2      0-15 Min               False  \n",
       "3     16-30 Min               False  \n",
       "4      0-15 Min               False  "
      ]
     },
     "execution_count": 41,
     "metadata": {},
     "output_type": "execute_result"
    }
   ],
   "source": [
    "data.head() "
   ]
  },
  {
   "cell_type": "code",
   "execution_count": 46,
   "id": "3de4d5dd",
   "metadata": {},
   "outputs": [
    {
     "data": {
      "text/plain": [
       "driver_gender\n",
       "F    32.515581\n",
       "M    34.724312\n",
       "Name: driver_age, dtype: float64"
      ]
     },
     "execution_count": 46,
     "metadata": {},
     "output_type": "execute_result"
    }
   ],
   "source": [
    "data.groupby('driver_gender')['driver_age'].mean()"
   ]
  },
  {
   "cell_type": "code",
   "execution_count": 73,
   "id": "78683bbb",
   "metadata": {},
   "outputs": [
    {
     "data": {
      "text/plain": [
       "<AxesSubplot:xlabel='driver_gender', ylabel='driver_age'>"
      ]
     },
     "execution_count": 73,
     "metadata": {},
     "output_type": "execute_result"
    },
    {
     "data": {
      "image/png": "[encoded data removed]",
      "text/plain": [
       "<Figure size 432x288 with 1 Axes>"
      ]
     },
     "metadata": {
      "needs_background": "light"
     },
     "output_type": "display_data"
    }
   ],
   "source": [
    "sn.barplot(data=data,x='driver_gender',y='driver_age')"
   ]
  },
  {
   "cell_type": "code",
   "execution_count": 47,
   "id": "4cb98b73",
   "metadata": {},
   "outputs": [
    {
     "data": {
      "text/plain": [
       "stop_duration\n",
       "0-15 Min     34.019538\n",
       "16-30 Min    34.119322\n",
       "2            52.000000\n",
       "30+ Min      36.543634\n",
       "Name: driver_age, dtype: float64"
      ]
     },
     "execution_count": 47,
     "metadata": {},
     "output_type": "execute_result"
    }
   ],
   "source": [
    "data.groupby('stop_duration')['driver_age'].mean()"
   ]
  },
  {
   "cell_type": "code",
   "execution_count": 74,
   "id": "4b22d3d0",
   "metadata": {},
   "outputs": [
    {
     "data": {
      "text/plain": [
       "<AxesSubplot:xlabel='stop_duration', ylabel='driver_age'>"
      ]
     },
     "execution_count": 74,
     "metadata": {},
     "output_type": "execute_result"
    },
    {
     "data": {
      "image/png": "[encoded data removed]",
      "text/plain": [
       "<Figure size 432x288 with 1 Axes>"
      ]
     },
     "metadata": {
      "needs_background": "light"
     },
     "output_type": "display_data"
    }
   ],
   "source": [
    "sn.barplot(data=data,x='stop_duration',y='driver_age')"
   ]
  },
  {
   "cell_type": "code",
   "execution_count": 52,
   "id": "bd32da52",
   "metadata": {},
   "outputs": [
    {
     "data": {
      "text/plain": [
       "violation_raw\n",
       "APB                                 11.432702\n",
       "Call for Service                    13.095601\n",
       "Equipment/Inspection Violation      11.373133\n",
       "Motorist Assist/Courtesy            11.921674\n",
       "Other Traffic Violation             13.231707\n",
       "Registration Violation              11.143425\n",
       "Seatbelt Violation                  10.214369\n",
       "Special Detail/Directed Patrol      11.363469\n",
       "Speeding                            11.968036\n",
       "Suspicious Person                   12.399927\n",
       "Violation of City/Town Ordinance    12.532674\n",
       "Warrant                             13.489090\n",
       "Name: driver_age, dtype: float64"
      ]
     },
     "execution_count": 52,
     "metadata": {},
     "output_type": "execute_result"
    }
   ],
   "source": [
    "data.groupby('violation_raw')['driver_age'].std()"
   ]
  },
  {
   "cell_type": "code",
   "execution_count": 93,
   "id": "130d8a9c",
   "metadata": {},
   "outputs": [
    {
     "data": {
      "image/png": "[encoded data removed]",
      "text/plain": [
       "<Figure size 1080x576 with 1 Axes>"
      ]
     },
     "metadata": {
      "needs_background": "light"
     },
     "output_type": "display_data"
    }
   ],
   "source": [
    "plt.figure(figsize=(15,8))\n",
    "sn.barplot(data=data,x='violation_raw',y='driver_age',estimator=np.std)\n",
    "plt.xlabel('violation_raw',fontdict={'fontsize':15},labelpad=30)\n",
    "plt.ylabel('driver_age',rotation=0,fontdict={'fontsize':15},labelpad=50)\n",
    "plt.xticks(rotation=60)\n",
    "plt.show()"
   ]
  },
  {
   "cell_type": "code",
   "execution_count": 51,
   "id": "7f54cb07",
   "metadata": {},
   "outputs": [
    {
     "data": {
      "text/plain": [
       "driver_race\n",
       "Asian       10.552480\n",
       "Black       11.313031\n",
       "Hispanic    10.313578\n",
       "Other        6.220063\n",
       "White       12.859620\n",
       "Name: driver_age, dtype: float64"
      ]
     },
     "execution_count": 51,
     "metadata": {},
     "output_type": "execute_result"
    }
   ],
   "source": [
    "data.groupby('driver_race')['driver_age'].std()"
   ]
  },
  {
   "cell_type": "code",
   "execution_count": 94,
   "id": "43762584",
   "metadata": {},
   "outputs": [
    {
     "data": {
      "image/png": "[encoded data removed]",
      "text/plain": [
       "<Figure size 720x360 with 1 Axes>"
      ]
     },
     "metadata": {
      "needs_background": "light"
     },
     "output_type": "display_data"
    }
   ],
   "source": [
    "plt.figure(figsize=(10,5))\n",
    "sn.barplot(data=data,x='driver_race',y='driver_age',estimator=np.std)\n",
    "plt.xlabel('driver_race',fontdict={'fontsize':15},labelpad=30)\n",
    "plt.ylabel('driver_age',rotation=0,fontdict={'fontsize':15},labelpad=50)\n",
    "plt.xticks(rotation=60)\n",
    "plt.show()"
   ]
  },
  {
   "cell_type": "code",
   "execution_count": 53,
   "id": "f53a9bbe",
   "metadata": {},
   "outputs": [
    {
     "data": {
      "text/plain": [
       "0-15 Min     51439\n",
       "16-30 Min    11448\n",
       "30+ Min       2647\n",
       "2                1\n",
       "Name: stop_duration, dtype: int64"
      ]
     },
     "execution_count": 53,
     "metadata": {},
     "output_type": "execute_result"
    }
   ],
   "source": [
    "data['stop_duration'].value_counts()"
   ]
  },
  {
   "cell_type": "code",
   "execution_count": 54,
   "id": "e2fea55c",
   "metadata": {},
   "outputs": [],
   "source": [
    "# تغير قيم العامود بالمتوسط\n",
    "data['stop_duration']=data['stop_duration'].map({'0-15 Min': 7.5,'16-30 Min':24,'30+ Min':45})"
   ]
  },
  {
   "cell_type": "code",
   "execution_count": 56,
   "id": "808a3ba3",
   "metadata": {},
   "outputs": [
    {
     "data": {
      "text/plain": [
       "11.897022919400616"
      ]
     },
     "execution_count": 56,
     "metadata": {},
     "output_type": "execute_result"
    }
   ],
   "source": [
    "data['stop_duration'].mean()"
   ]
  },
  {
   "cell_type": "code",
   "execution_count": 57,
   "id": "73d081a9",
   "metadata": {},
   "outputs": [
    {
     "data": {
      "text/html": [
       "<div>\n",
       "<style scoped>\n",
       "    .dataframe tbody tr th:only-of-type {\n",
       "        vertical-align: middle;\n",
       "    }\n",
       "\n",
       "    .dataframe tbody tr th {\n",
       "        vertical-align: top;\n",
       "    }\n",
       "\n",
       "    .dataframe thead th {\n",
       "        text-align: right;\n",
       "    }\n",
       "</style>\n",
       "<table border=\"1\" class=\"dataframe\">\n",
       "  <thead>\n",
       "    <tr style=\"text-align: right;\">\n",
       "      <th></th>\n",
       "      <th>count</th>\n",
       "      <th>mean</th>\n",
       "      <th>std</th>\n",
       "      <th>min</th>\n",
       "      <th>25%</th>\n",
       "      <th>50%</th>\n",
       "      <th>75%</th>\n",
       "      <th>max</th>\n",
       "    </tr>\n",
       "    <tr>\n",
       "      <th>violation</th>\n",
       "      <th></th>\n",
       "      <th></th>\n",
       "      <th></th>\n",
       "      <th></th>\n",
       "      <th></th>\n",
       "      <th></th>\n",
       "      <th></th>\n",
       "      <th></th>\n",
       "    </tr>\n",
       "  </thead>\n",
       "  <tbody>\n",
       "    <tr>\n",
       "      <th>Equipment</th>\n",
       "      <td>6516.0</td>\n",
       "      <td>31.686157</td>\n",
       "      <td>11.373133</td>\n",
       "      <td>16.0</td>\n",
       "      <td>23.0</td>\n",
       "      <td>28.0</td>\n",
       "      <td>39.0</td>\n",
       "      <td>81.0</td>\n",
       "    </tr>\n",
       "    <tr>\n",
       "      <th>Moving violation</th>\n",
       "      <td>11926.0</td>\n",
       "      <td>36.724971</td>\n",
       "      <td>13.231707</td>\n",
       "      <td>15.0</td>\n",
       "      <td>25.0</td>\n",
       "      <td>35.0</td>\n",
       "      <td>46.0</td>\n",
       "      <td>86.0</td>\n",
       "    </tr>\n",
       "    <tr>\n",
       "      <th>Other</th>\n",
       "      <td>3583.0</td>\n",
       "      <td>40.174156</td>\n",
       "      <td>12.610465</td>\n",
       "      <td>16.0</td>\n",
       "      <td>30.0</td>\n",
       "      <td>40.0</td>\n",
       "      <td>49.5</td>\n",
       "      <td>86.0</td>\n",
       "    </tr>\n",
       "    <tr>\n",
       "      <th>Registration/plates</th>\n",
       "      <td>2243.0</td>\n",
       "      <td>32.658493</td>\n",
       "      <td>11.143425</td>\n",
       "      <td>16.0</td>\n",
       "      <td>24.0</td>\n",
       "      <td>30.0</td>\n",
       "      <td>40.0</td>\n",
       "      <td>74.0</td>\n",
       "    </tr>\n",
       "    <tr>\n",
       "      <th>Seat belt</th>\n",
       "      <td>3.0</td>\n",
       "      <td>30.333333</td>\n",
       "      <td>10.214369</td>\n",
       "      <td>23.0</td>\n",
       "      <td>24.5</td>\n",
       "      <td>26.0</td>\n",
       "      <td>34.0</td>\n",
       "      <td>42.0</td>\n",
       "    </tr>\n",
       "    <tr>\n",
       "      <th>Speeding</th>\n",
       "      <td>41264.0</td>\n",
       "      <td>33.335959</td>\n",
       "      <td>11.968036</td>\n",
       "      <td>15.0</td>\n",
       "      <td>23.0</td>\n",
       "      <td>32.0</td>\n",
       "      <td>40.0</td>\n",
       "      <td>88.0</td>\n",
       "    </tr>\n",
       "  </tbody>\n",
       "</table>\n",
       "</div>"
      ],
      "text/plain": [
       "                       count       mean        std   min   25%   50%   75%  \\\n",
       "violation                                                                    \n",
       "Equipment             6516.0  31.686157  11.373133  16.0  23.0  28.0  39.0   \n",
       "Moving violation     11926.0  36.724971  13.231707  15.0  25.0  35.0  46.0   \n",
       "Other                 3583.0  40.174156  12.610465  16.0  30.0  40.0  49.5   \n",
       "Registration/plates   2243.0  32.658493  11.143425  16.0  24.0  30.0  40.0   \n",
       "Seat belt                3.0  30.333333  10.214369  23.0  24.5  26.0  34.0   \n",
       "Speeding             41264.0  33.335959  11.968036  15.0  23.0  32.0  40.0   \n",
       "\n",
       "                      max  \n",
       "violation                  \n",
       "Equipment            81.0  \n",
       "Moving violation     86.0  \n",
       "Other                86.0  \n",
       "Registration/plates  74.0  \n",
       "Seat belt            42.0  \n",
       "Speeding             88.0  "
      ]
     },
     "execution_count": 57,
     "metadata": {},
     "output_type": "execute_result"
    }
   ],
   "source": [
    "# جميل جدا\n",
    "data.groupby('violation')['driver_age'].describe()"
   ]
  },
  {
   "cell_type": "code",
   "execution_count": 71,
   "id": "d6969e80",
   "metadata": {},
   "outputs": [
    {
     "data": {
      "text/html": [
       "<div>\n",
       "<style scoped>\n",
       "    .dataframe tbody tr th:only-of-type {\n",
       "        vertical-align: middle;\n",
       "    }\n",
       "\n",
       "    .dataframe tbody tr th {\n",
       "        vertical-align: top;\n",
       "    }\n",
       "\n",
       "    .dataframe thead th {\n",
       "        text-align: right;\n",
       "    }\n",
       "</style>\n",
       "<table border=\"1\" class=\"dataframe\">\n",
       "  <thead>\n",
       "    <tr style=\"text-align: right;\">\n",
       "      <th>driver_race</th>\n",
       "      <th>Asian</th>\n",
       "      <th>Black</th>\n",
       "      <th>Hispanic</th>\n",
       "      <th>Other</th>\n",
       "      <th>White</th>\n",
       "    </tr>\n",
       "    <tr>\n",
       "      <th>violation_raw</th>\n",
       "      <th></th>\n",
       "      <th></th>\n",
       "      <th></th>\n",
       "      <th></th>\n",
       "      <th></th>\n",
       "    </tr>\n",
       "  </thead>\n",
       "  <tbody>\n",
       "    <tr>\n",
       "      <th>APB</th>\n",
       "      <td>NaN</td>\n",
       "      <td>33.333333</td>\n",
       "      <td>36.875000</td>\n",
       "      <td>NaN</td>\n",
       "      <td>35.324324</td>\n",
       "    </tr>\n",
       "    <tr>\n",
       "      <th>Call for Service</th>\n",
       "      <td>32.058824</td>\n",
       "      <td>32.463918</td>\n",
       "      <td>31.809917</td>\n",
       "      <td>35.800000</td>\n",
       "      <td>34.390597</td>\n",
       "    </tr>\n",
       "    <tr>\n",
       "      <th>Equipment/Inspection Violation</th>\n",
       "      <td>31.200000</td>\n",
       "      <td>29.706022</td>\n",
       "      <td>29.589336</td>\n",
       "      <td>33.600000</td>\n",
       "      <td>32.868069</td>\n",
       "    </tr>\n",
       "    <tr>\n",
       "      <th>Motorist Assist/Courtesy</th>\n",
       "      <td>44.000000</td>\n",
       "      <td>31.720000</td>\n",
       "      <td>34.333333</td>\n",
       "      <td>30.000000</td>\n",
       "      <td>36.275510</td>\n",
       "    </tr>\n",
       "    <tr>\n",
       "      <th>Other Traffic Violation</th>\n",
       "      <td>37.231405</td>\n",
       "      <td>36.444605</td>\n",
       "      <td>34.307194</td>\n",
       "      <td>36.775510</td>\n",
       "      <td>37.247380</td>\n",
       "    </tr>\n",
       "    <tr>\n",
       "      <th>Registration Violation</th>\n",
       "      <td>34.000000</td>\n",
       "      <td>30.922465</td>\n",
       "      <td>30.740899</td>\n",
       "      <td>44.000000</td>\n",
       "      <td>34.041030</td>\n",
       "    </tr>\n",
       "    <tr>\n",
       "      <th>Seatbelt Violation</th>\n",
       "      <td>NaN</td>\n",
       "      <td>42.000000</td>\n",
       "      <td>23.000000</td>\n",
       "      <td>NaN</td>\n",
       "      <td>26.000000</td>\n",
       "    </tr>\n",
       "    <tr>\n",
       "      <th>Special Detail/Directed Patrol</th>\n",
       "      <td>39.977778</td>\n",
       "      <td>43.074627</td>\n",
       "      <td>40.219672</td>\n",
       "      <td>41.133333</td>\n",
       "      <td>44.035336</td>\n",
       "    </tr>\n",
       "    <tr>\n",
       "      <th>Speeding</th>\n",
       "      <td>33.048880</td>\n",
       "      <td>32.696650</td>\n",
       "      <td>31.291179</td>\n",
       "      <td>33.908029</td>\n",
       "      <td>33.586249</td>\n",
       "    </tr>\n",
       "    <tr>\n",
       "      <th>Suspicious Person</th>\n",
       "      <td>NaN</td>\n",
       "      <td>30.333333</td>\n",
       "      <td>22.200000</td>\n",
       "      <td>NaN</td>\n",
       "      <td>34.000000</td>\n",
       "    </tr>\n",
       "    <tr>\n",
       "      <th>Violation of City/Town Ordinance</th>\n",
       "      <td>29.000000</td>\n",
       "      <td>33.606061</td>\n",
       "      <td>31.812500</td>\n",
       "      <td>NaN</td>\n",
       "      <td>36.300000</td>\n",
       "    </tr>\n",
       "    <tr>\n",
       "      <th>Warrant</th>\n",
       "      <td>NaN</td>\n",
       "      <td>NaN</td>\n",
       "      <td>29.000000</td>\n",
       "      <td>NaN</td>\n",
       "      <td>34.250000</td>\n",
       "    </tr>\n",
       "  </tbody>\n",
       "</table>\n",
       "</div>"
      ],
      "text/plain": [
       "driver_race                           Asian      Black   Hispanic      Other  \\\n",
       "violation_raw                                                                  \n",
       "APB                                     NaN  33.333333  36.875000        NaN   \n",
       "Call for Service                  32.058824  32.463918  31.809917  35.800000   \n",
       "Equipment/Inspection Violation    31.200000  29.706022  29.589336  33.600000   \n",
       "Motorist Assist/Courtesy          44.000000  31.720000  34.333333  30.000000   \n",
       "Other Traffic Violation           37.231405  36.444605  34.307194  36.775510   \n",
       "Registration Violation            34.000000  30.922465  30.740899  44.000000   \n",
       "Seatbelt Violation                      NaN  42.000000  23.000000        NaN   \n",
       "Special Detail/Directed Patrol    39.977778  43.074627  40.219672  41.133333   \n",
       "Speeding                          33.048880  32.696650  31.291179  33.908029   \n",
       "Suspicious Person                       NaN  30.333333  22.200000        NaN   \n",
       "Violation of City/Town Ordinance  29.000000  33.606061  31.812500        NaN   \n",
       "Warrant                                 NaN        NaN  29.000000        NaN   \n",
       "\n",
       "driver_race                           White  \n",
       "violation_raw                                \n",
       "APB                               35.324324  \n",
       "Call for Service                  34.390597  \n",
       "Equipment/Inspection Violation    32.868069  \n",
       "Motorist Assist/Courtesy          36.275510  \n",
       "Other Traffic Violation           37.247380  \n",
       "Registration Violation            34.041030  \n",
       "Seatbelt Violation                26.000000  \n",
       "Special Detail/Directed Patrol    44.035336  \n",
       "Speeding                          33.586249  \n",
       "Suspicious Person                 34.000000  \n",
       "Violation of City/Town Ordinance  36.300000  \n",
       "Warrant                           34.250000  "
      ]
     },
     "execution_count": 71,
     "metadata": {},
     "output_type": "execute_result"
    }
   ],
   "source": [
    "# crosstab : pivot_table مشابه \n",
    "pd.crosstab(index=data['violation_raw'],columns=data['driver_race'],\n",
    "            values=data['driver_age'],aggfunc=np.mean)"
   ]
  },
  {
   "cell_type": "code",
   "execution_count": 98,
   "id": "e7b08900",
   "metadata": {},
   "outputs": [],
   "source": [
    "# تغير نوع العامود\n",
    "data['stop_date'] = data['stop_date'].astype('datetime64')"
   ]
  },
  {
   "cell_type": "code",
   "execution_count": 99,
   "id": "fcb441a4",
   "metadata": {},
   "outputs": [
    {
     "data": {
      "text/plain": [
       "Timestamp('2012-12-07 00:00:00')"
      ]
     },
     "execution_count": 99,
     "metadata": {},
     "output_type": "execute_result"
    }
   ],
   "source": [
    "data['stop_date'].max()"
   ]
  },
  {
   "cell_type": "code",
   "execution_count": 100,
   "id": "10f67d68",
   "metadata": {},
   "outputs": [
    {
     "data": {
      "text/plain": [
       "Timestamp('2005-01-02 00:00:00')"
      ]
     },
     "execution_count": 100,
     "metadata": {},
     "output_type": "execute_result"
    }
   ],
   "source": [
    "data['stop_date'].min()"
   ]
  },
  {
   "cell_type": "code",
   "execution_count": 101,
   "id": "4e1a5f75",
   "metadata": {},
   "outputs": [],
   "source": [
    "# إنشاء عامود للسنة\n",
    "data['Year'] = data['stop_date'].apply(lambda x:x.strftime('%Y'))"
   ]
  },
  {
   "cell_type": "code",
   "execution_count": 103,
   "id": "2085344f",
   "metadata": {},
   "outputs": [
    {
     "data": {
      "text/plain": [
       "2006    10639\n",
       "2012    10515\n",
       "2007     9476\n",
       "2008     8752\n",
       "2011     8126\n",
       "2009     7908\n",
       "2010     7561\n",
       "2005     2558\n",
       "Name: Year, dtype: int64"
      ]
     },
     "execution_count": 103,
     "metadata": {},
     "output_type": "execute_result"
    }
   ],
   "source": [
    "data['Year'].value_counts()"
   ]
  },
  {
   "cell_type": "code",
   "execution_count": 104,
   "id": "0bfd5381",
   "metadata": {},
   "outputs": [
    {
     "name": "stderr",
     "output_type": "stream",
     "text": [
      "C:\\Users\\Lenovo\\anaconda3\\lib\\site-packages\\seaborn\\_decorators.py:36: FutureWarning: Pass the following variable as a keyword arg: x. From version 0.12, the only valid positional argument will be `data`, and passing other arguments without an explicit keyword will result in an error or misinterpretation.\n",
      "  warnings.warn(\n"
     ]
    },
    {
     "data": {
      "text/plain": [
       "<AxesSubplot:xlabel='Year', ylabel='count'>"
      ]
     },
     "execution_count": 104,
     "metadata": {},
     "output_type": "execute_result"
    },
    {
     "data": {
      "image/png": "[encoded data removed]",
      "text/plain": [
       "<Figure size 432x288 with 1 Axes>"
      ]
     },
     "metadata": {
      "needs_background": "light"
     },
     "output_type": "display_data"
    }
   ],
   "source": [
    "sn.countplot(data['Year'])"
   ]
  },
  {
   "cell_type": "code",
   "execution_count": 111,
   "id": "8db31944",
   "metadata": {},
   "outputs": [
    {
     "data": {
      "text/html": [
       "<div>\n",
       "<style scoped>\n",
       "    .dataframe tbody tr th:only-of-type {\n",
       "        vertical-align: middle;\n",
       "    }\n",
       "\n",
       "    .dataframe tbody tr th {\n",
       "        vertical-align: top;\n",
       "    }\n",
       "\n",
       "    .dataframe thead th {\n",
       "        text-align: right;\n",
       "    }\n",
       "</style>\n",
       "<table border=\"1\" class=\"dataframe\">\n",
       "  <thead>\n",
       "    <tr style=\"text-align: right;\">\n",
       "      <th></th>\n",
       "      <th>driver_age</th>\n",
       "    </tr>\n",
       "    <tr>\n",
       "      <th>Year</th>\n",
       "      <th></th>\n",
       "    </tr>\n",
       "  </thead>\n",
       "  <tbody>\n",
       "    <tr>\n",
       "      <th>2005</th>\n",
       "      <td>32.755668</td>\n",
       "    </tr>\n",
       "    <tr>\n",
       "      <th>2006</th>\n",
       "      <td>32.962496</td>\n",
       "    </tr>\n",
       "    <tr>\n",
       "      <th>2007</th>\n",
       "      <td>33.273744</td>\n",
       "    </tr>\n",
       "    <tr>\n",
       "      <th>2008</th>\n",
       "      <td>34.551760</td>\n",
       "    </tr>\n",
       "    <tr>\n",
       "      <th>2009</th>\n",
       "      <td>35.032119</td>\n",
       "    </tr>\n",
       "    <tr>\n",
       "      <th>2010</th>\n",
       "      <td>35.234096</td>\n",
       "    </tr>\n",
       "    <tr>\n",
       "      <th>2011</th>\n",
       "      <td>34.861925</td>\n",
       "    </tr>\n",
       "    <tr>\n",
       "      <th>2012</th>\n",
       "      <td>34.085497</td>\n",
       "    </tr>\n",
       "  </tbody>\n",
       "</table>\n",
       "</div>"
      ],
      "text/plain": [
       "      driver_age\n",
       "Year            \n",
       "2005   32.755668\n",
       "2006   32.962496\n",
       "2007   33.273744\n",
       "2008   34.551760\n",
       "2009   35.032119\n",
       "2010   35.234096\n",
       "2011   34.861925\n",
       "2012   34.085497"
      ]
     },
     "execution_count": 111,
     "metadata": {},
     "output_type": "execute_result"
    }
   ],
   "source": [
    "data.groupby('Year')['driver_age'].mean().to_frame()"
   ]
  },
  {
   "cell_type": "code",
   "execution_count": 112,
   "id": "3c802bb8",
   "metadata": {},
   "outputs": [
    {
     "data": {
      "text/html": [
       "<div>\n",
       "<style scoped>\n",
       "    .dataframe tbody tr th:only-of-type {\n",
       "        vertical-align: middle;\n",
       "    }\n",
       "\n",
       "    .dataframe tbody tr th {\n",
       "        vertical-align: top;\n",
       "    }\n",
       "\n",
       "    .dataframe thead th {\n",
       "        text-align: right;\n",
       "    }\n",
       "</style>\n",
       "<table border=\"1\" class=\"dataframe\">\n",
       "  <thead>\n",
       "    <tr style=\"text-align: right;\">\n",
       "      <th>Year</th>\n",
       "      <th>2005</th>\n",
       "      <th>2006</th>\n",
       "      <th>2007</th>\n",
       "      <th>2008</th>\n",
       "      <th>2009</th>\n",
       "      <th>2010</th>\n",
       "      <th>2011</th>\n",
       "      <th>2012</th>\n",
       "    </tr>\n",
       "    <tr>\n",
       "      <th>violation_raw</th>\n",
       "      <th></th>\n",
       "      <th></th>\n",
       "      <th></th>\n",
       "      <th></th>\n",
       "      <th></th>\n",
       "      <th></th>\n",
       "      <th></th>\n",
       "      <th></th>\n",
       "    </tr>\n",
       "  </thead>\n",
       "  <tbody>\n",
       "    <tr>\n",
       "      <th>APB</th>\n",
       "      <td>6.855655</td>\n",
       "      <td>15.171145</td>\n",
       "      <td>9.669540</td>\n",
       "      <td>14.463748</td>\n",
       "      <td>11.175867</td>\n",
       "      <td>11.015141</td>\n",
       "      <td>9.036961</td>\n",
       "      <td>11.900380</td>\n",
       "    </tr>\n",
       "    <tr>\n",
       "      <th>Call for Service</th>\n",
       "      <td>14.382468</td>\n",
       "      <td>11.575862</td>\n",
       "      <td>11.938619</td>\n",
       "      <td>14.474101</td>\n",
       "      <td>13.173242</td>\n",
       "      <td>11.551877</td>\n",
       "      <td>14.391548</td>\n",
       "      <td>13.763085</td>\n",
       "    </tr>\n",
       "    <tr>\n",
       "      <th>Equipment/Inspection Violation</th>\n",
       "      <td>11.112631</td>\n",
       "      <td>10.973876</td>\n",
       "      <td>11.356923</td>\n",
       "      <td>12.001403</td>\n",
       "      <td>10.980750</td>\n",
       "      <td>10.814086</td>\n",
       "      <td>11.438303</td>\n",
       "      <td>11.628738</td>\n",
       "    </tr>\n",
       "    <tr>\n",
       "      <th>Motorist Assist/Courtesy</th>\n",
       "      <td>13.403858</td>\n",
       "      <td>11.733599</td>\n",
       "      <td>10.547581</td>\n",
       "      <td>12.784539</td>\n",
       "      <td>11.721022</td>\n",
       "      <td>14.494252</td>\n",
       "      <td>10.094043</td>\n",
       "      <td>11.518846</td>\n",
       "    </tr>\n",
       "    <tr>\n",
       "      <th>Other Traffic Violation</th>\n",
       "      <td>12.854643</td>\n",
       "      <td>12.542680</td>\n",
       "      <td>13.097908</td>\n",
       "      <td>12.806761</td>\n",
       "      <td>13.069580</td>\n",
       "      <td>13.453185</td>\n",
       "      <td>13.790372</td>\n",
       "      <td>12.682721</td>\n",
       "    </tr>\n",
       "    <tr>\n",
       "      <th>Registration Violation</th>\n",
       "      <td>10.548135</td>\n",
       "      <td>10.065884</td>\n",
       "      <td>10.678741</td>\n",
       "      <td>10.771777</td>\n",
       "      <td>11.430935</td>\n",
       "      <td>11.395416</td>\n",
       "      <td>10.939619</td>\n",
       "      <td>12.086279</td>\n",
       "    </tr>\n",
       "    <tr>\n",
       "      <th>Seatbelt Violation</th>\n",
       "      <td>NaN</td>\n",
       "      <td>NaN</td>\n",
       "      <td>NaN</td>\n",
       "      <td>NaN</td>\n",
       "      <td>NaN</td>\n",
       "      <td>NaN</td>\n",
       "      <td>NaN</td>\n",
       "      <td>10.214369</td>\n",
       "    </tr>\n",
       "    <tr>\n",
       "      <th>Special Detail/Directed Patrol</th>\n",
       "      <td>11.040833</td>\n",
       "      <td>9.192388</td>\n",
       "      <td>10.949864</td>\n",
       "      <td>10.382530</td>\n",
       "      <td>11.142494</td>\n",
       "      <td>10.938463</td>\n",
       "      <td>11.629627</td>\n",
       "      <td>12.555022</td>\n",
       "    </tr>\n",
       "    <tr>\n",
       "      <th>Speeding</th>\n",
       "      <td>12.115501</td>\n",
       "      <td>12.011642</td>\n",
       "      <td>11.953324</td>\n",
       "      <td>11.989441</td>\n",
       "      <td>11.520991</td>\n",
       "      <td>11.859172</td>\n",
       "      <td>12.021551</td>\n",
       "      <td>12.250116</td>\n",
       "    </tr>\n",
       "    <tr>\n",
       "      <th>Suspicious Person</th>\n",
       "      <td>NaN</td>\n",
       "      <td>13.240091</td>\n",
       "      <td>12.055428</td>\n",
       "      <td>12.798437</td>\n",
       "      <td>16.254230</td>\n",
       "      <td>9.107384</td>\n",
       "      <td>8.426150</td>\n",
       "      <td>18.712741</td>\n",
       "    </tr>\n",
       "    <tr>\n",
       "      <th>Violation of City/Town Ordinance</th>\n",
       "      <td>NaN</td>\n",
       "      <td>9.662587</td>\n",
       "      <td>11.523795</td>\n",
       "      <td>14.801208</td>\n",
       "      <td>13.816328</td>\n",
       "      <td>13.224678</td>\n",
       "      <td>12.758265</td>\n",
       "      <td>11.743461</td>\n",
       "    </tr>\n",
       "    <tr>\n",
       "      <th>Warrant</th>\n",
       "      <td>NaN</td>\n",
       "      <td>2.121320</td>\n",
       "      <td>14.525839</td>\n",
       "      <td>6.363961</td>\n",
       "      <td>NaN</td>\n",
       "      <td>NaN</td>\n",
       "      <td>NaN</td>\n",
       "      <td>NaN</td>\n",
       "    </tr>\n",
       "  </tbody>\n",
       "</table>\n",
       "</div>"
      ],
      "text/plain": [
       "Year                                   2005       2006       2007       2008  \\\n",
       "violation_raw                                                                  \n",
       "APB                                6.855655  15.171145   9.669540  14.463748   \n",
       "Call for Service                  14.382468  11.575862  11.938619  14.474101   \n",
       "Equipment/Inspection Violation    11.112631  10.973876  11.356923  12.001403   \n",
       "Motorist Assist/Courtesy          13.403858  11.733599  10.547581  12.784539   \n",
       "Other Traffic Violation           12.854643  12.542680  13.097908  12.806761   \n",
       "Registration Violation            10.548135  10.065884  10.678741  10.771777   \n",
       "Seatbelt Violation                      NaN        NaN        NaN        NaN   \n",
       "Special Detail/Directed Patrol    11.040833   9.192388  10.949864  10.382530   \n",
       "Speeding                          12.115501  12.011642  11.953324  11.989441   \n",
       "Suspicious Person                       NaN  13.240091  12.055428  12.798437   \n",
       "Violation of City/Town Ordinance        NaN   9.662587  11.523795  14.801208   \n",
       "Warrant                                 NaN   2.121320  14.525839   6.363961   \n",
       "\n",
       "Year                                   2009       2010       2011       2012  \n",
       "violation_raw                                                                 \n",
       "APB                               11.175867  11.015141   9.036961  11.900380  \n",
       "Call for Service                  13.173242  11.551877  14.391548  13.763085  \n",
       "Equipment/Inspection Violation    10.980750  10.814086  11.438303  11.628738  \n",
       "Motorist Assist/Courtesy          11.721022  14.494252  10.094043  11.518846  \n",
       "Other Traffic Violation           13.069580  13.453185  13.790372  12.682721  \n",
       "Registration Violation            11.430935  11.395416  10.939619  12.086279  \n",
       "Seatbelt Violation                      NaN        NaN        NaN  10.214369  \n",
       "Special Detail/Directed Patrol    11.142494  10.938463  11.629627  12.555022  \n",
       "Speeding                          11.520991  11.859172  12.021551  12.250116  \n",
       "Suspicious Person                 16.254230   9.107384   8.426150  18.712741  \n",
       "Violation of City/Town Ordinance  13.816328  13.224678  12.758265  11.743461  \n",
       "Warrant                                 NaN        NaN        NaN        NaN  "
      ]
     },
     "execution_count": 112,
     "metadata": {},
     "output_type": "execute_result"
    }
   ],
   "source": [
    "pd.crosstab(index=data['violation_raw'],columns=data['Year'],\n",
    "            values=data['driver_age'],aggfunc=np.std)"
   ]
  },
  {
   "cell_type": "code",
   "execution_count": null,
   "id": "b2734ad0",
   "metadata": {},
   "outputs": [],
   "source": []
  }
 ],
 "metadata": {
  "kernelspec": {
   "display_name": "Python 3 (ipykernel)",
   "language": "python",
   "name": "python3"
  },
  "language_info": {
   "codemirror_mode": {
    "name": "ipython",
    "version": 3
   },
   "file_extension": ".py",
   "mimetype": "text/x-python",
   "name": "python",
   "nbconvert_exporter": "python",
   "pygments_lexer": "ipython3",
   "version": "3.9.12"
  }
 },
 "nbformat": 4,
 "nbformat_minor": 5
}
