{
 "cells": [
  {
   "cell_type": "code",
   "execution_count": null,
   "id": "6b13f46d",
   "metadata": {},
   "outputs": [],
   "source": [
    "import pandas as pd\n",
    "import seaborn as sns\n",
    "import numpy as np"
   ]
  },
  {
   "cell_type": "code",
   "execution_count": null,
   "id": "db864d36",
   "metadata": {},
   "outputs": [],
   "source": [
    "data = pd.read_csv('top-5000-youtube-channels.csv')"
   ]
  },
  {
   "cell_type": "code",
   "execution_count": null,
   "id": "3abe715c",
   "metadata": {},
   "outputs": [],
   "source": [
    "data.head(-5) # إخفاء اخر خمسة أعمدة"
   ]
  },
  {
   "cell_type": "code",
   "execution_count": null,
   "id": "57bd5e62",
   "metadata": {},
   "outputs": [],
   "source": [
    "data.tail(-5) # إخفاء أول خمسة أعمدة "
   ]
  },
  {
   "cell_type": "code",
   "execution_count": null,
   "id": "2c6fd48a",
   "metadata": {},
   "outputs": [],
   "source": [
    "data.shape # شكل البيانات "
   ]
  },
  {
   "cell_type": "code",
   "execution_count": null,
   "id": "8a090f02",
   "metadata": {},
   "outputs": [],
   "source": [
    "pd.options.display.float_format = '{:.2f}'.format\n",
    "data.describe()"
   ]
  },
  {
   "cell_type": "code",
   "execution_count": null,
   "id": "4a2b1161",
   "metadata": {},
   "outputs": [],
   "source": [
    "data"
   ]
  },
  {
   "cell_type": "code",
   "execution_count": null,
   "id": "512a21d5",
   "metadata": {},
   "outputs": [],
   "source": [
    "data.sample(100)"
   ]
  },
  {
   "cell_type": "code",
   "execution_count": null,
   "id": "7111e8ef",
   "metadata": {},
   "outputs": [],
   "source": [
    "# regex يغير السلسلة المدخلة الى نمط لنسطيع إستخراجها أياً كان موقعها \n",
    "# text mining تم دراسة النماط بشكل مفصل في مشروع  \n",
    "data = data.replace('--',np.nan,regex=True)  # إستبدال السلاسلة بقيم مفقودة "
   ]
  },
  {
   "cell_type": "code",
   "execution_count": null,
   "id": "8d18b087",
   "metadata": {},
   "outputs": [],
   "source": [
    "data.isnull().sum() # القيم الفقودة في كل عامود"
   ]
  },
  {
   "cell_type": "code",
   "execution_count": null,
   "id": "9e6951f7",
   "metadata": {},
   "outputs": [],
   "source": [
    "per_missing = data.isnull().sum() * 100 /len(data)"
   ]
  },
  {
   "cell_type": "code",
   "execution_count": null,
   "id": "d4dc8d94",
   "metadata": {},
   "outputs": [],
   "source": [
    "per_missing # النسبة المئوية للقيم الفققودة في كل عامود"
   ]
  },
  {
   "cell_type": "code",
   "execution_count": null,
   "id": "1bdc52fa",
   "metadata": {},
   "outputs": [],
   "source": [
    "sns.heatmap(data.isnull())"
   ]
  },
  {
   "cell_type": "code",
   "execution_count": null,
   "id": "090016c5",
   "metadata": {},
   "outputs": [],
   "source": [
    "data.dropna(inplace=True) # إسقاط هذه القيم"
   ]
  },
  {
   "cell_type": "code",
   "execution_count": null,
   "id": "6ac113c7",
   "metadata": {},
   "outputs": [],
   "source": [
    "data.isnull().sum()"
   ]
  },
  {
   "cell_type": "code",
   "execution_count": null,
   "id": "cb94e632",
   "metadata": {},
   "outputs": [],
   "source": [
    "data['Rank'].dtype"
   ]
  },
  {
   "cell_type": "code",
   "execution_count": null,
   "id": "0dd44983",
   "metadata": {},
   "outputs": [],
   "source": [
    "data['Rank']=data['Rank'].str[0:-2] # تقطيع العامود حسب الحاجة \n",
    "data['Rank']"
   ]
  },
  {
   "cell_type": "code",
   "execution_count": null,
   "id": "c76a42de",
   "metadata": {},
   "outputs": [],
   "source": [
    "data['Rank']=data['Rank'].str.replace(',','.') # إستبدال الفاصلة غير العشرية بفاصلة عشرية"
   ]
  },
  {
   "cell_type": "code",
   "execution_count": null,
   "id": "bca66d97",
   "metadata": {},
   "outputs": [],
   "source": [
    "data['Rank']=data['Rank'].astype('float') # تغير نوع العامود"
   ]
  },
  {
   "cell_type": "code",
   "execution_count": null,
   "id": "21b096bf",
   "metadata": {},
   "outputs": [],
   "source": [
    "data.dtypes"
   ]
  },
  {
   "cell_type": "code",
   "execution_count": null,
   "id": "01424d1b",
   "metadata": {},
   "outputs": [],
   "source": [
    "data['Subscribers'] = data['Subscribers'].astype(int) # تغير نوع العامود"
   ]
  },
  {
   "cell_type": "code",
   "execution_count": null,
   "id": "3930f84d",
   "metadata": {},
   "outputs": [],
   "source": [
    "data['Video Uploads']=data['Video Uploads'].astype(int) # تغير نوع العامود"
   ]
  },
  {
   "cell_type": "code",
   "execution_count": null,
   "id": "c072e61b",
   "metadata": {},
   "outputs": [],
   "source": [
    "data.dtypes"
   ]
  },
  {
   "cell_type": "code",
   "execution_count": null,
   "id": "8dc5fba2",
   "metadata": {},
   "outputs": [],
   "source": [
    "data['Grade'].unique() # معرفة قيم العامود المتكررة "
   ]
  },
  {
   "cell_type": "code",
   "execution_count": null,
   "id": "877fc431",
   "metadata": {},
   "outputs": [],
   "source": [
    "# هنا قد تغير النوع لوحده بإستبدال القيم\n",
    "data['Grade']=data['Grade'].map({'A++ ':5,'A+ ':4,'A ':3,'A- ':2,'B+ ':1})"
   ]
  },
  {
   "cell_type": "code",
   "execution_count": null,
   "id": "d5847875",
   "metadata": {},
   "outputs": [],
   "source": [
    "data.dtypes "
   ]
  },
  {
   "cell_type": "code",
   "execution_count": null,
   "id": "f1487117",
   "metadata": {},
   "outputs": [],
   "source": [
    "# كتوسط المشاهدات في كل قناة للفيديو الواحد\n",
    "data['Avr_views']=data['Video views']/data['Video Uploads']"
   ]
  },
  {
   "cell_type": "code",
   "execution_count": null,
   "id": "2dbe1e08",
   "metadata": {},
   "outputs": [],
   "source": [
    "data.head(1)"
   ]
  },
  {
   "cell_type": "code",
   "execution_count": null,
   "id": "7e6c2d78",
   "metadata": {},
   "outputs": [],
   "source": [
    "data.sort_values(by='Video Uploads',ascending= False).head() # ترتيب البيانات"
   ]
  },
  {
   "cell_type": "code",
   "execution_count": null,
   "id": "ea015bd0",
   "metadata": {},
   "outputs": [],
   "source": [
    "data.sort_values(by='Avr_views',ascending=False).head(10)"
   ]
  },
  {
   "cell_type": "code",
   "execution_count": null,
   "id": "1a9c1ab2",
   "metadata": {},
   "outputs": [],
   "source": [
    "sns.barplot(x='Grade',y='Video Uploads',data=data)"
   ]
  },
  {
   "cell_type": "code",
   "execution_count": null,
   "id": "7624afb6",
   "metadata": {},
   "outputs": [],
   "source": [
    "# estimator تسمح بطبيق دالة محدد على البيانات\n",
    "# mean هي الدالة الأفتراضية \n",
    "sns.barplot(x='Grade',y='Video Uploads',data=data,estimator=np.max)"
   ]
  },
  {
   "cell_type": "code",
   "execution_count": null,
   "id": "e0835ea3",
   "metadata": {},
   "outputs": [],
   "source": [
    "sns.barplot(x='Grade',y='Avr_views',data=data)"
   ]
  },
  {
   "cell_type": "code",
   "execution_count": null,
   "id": "4f15a3ae",
   "metadata": {},
   "outputs": [],
   "source": [
    "sns.barplot(x='Grade',y='Avr_views',data=data,estimator=np.median)"
   ]
  },
  {
   "cell_type": "code",
   "execution_count": null,
   "id": "f2fd100e",
   "metadata": {},
   "outputs": [],
   "source": [
    "sns.barplot(x='Grade',y='Subscribers',data=data)"
   ]
  },
  {
   "cell_type": "code",
   "execution_count": null,
   "id": "a0be673d",
   "metadata": {},
   "outputs": [],
   "source": [
    "sns.barplot(x='Grade',y='Subscribers',data=data,estimator=np.std)"
   ]
  },
  {
   "cell_type": "markdown",
   "id": "cc33a02f",
   "metadata": {},
   "source": [
    "<h2> groupby  </h2>\n",
    "<br>\n",
    " <b>\n",
    " أن العامود المختار لديه عناصر متكررة متواجدة في سطور مختلفة مرتبطة مع كامل السطر        \n",
    " وكل عنصر متكرر يكون مفتاح لبقية البيانات المرتبطة به المتواجدة في السطر ذاته\n",
    " تضع هذه الدالة البيانات ضمن مجموعات متصلة بكل مفتاح لننفذ عليها عمليات محدد كالمتوسط \n",
    "وطبعا كل عامود يتمتع بصفات معينة لذلك نستطيع تحديد العامود المطلوب لتنفيذ العملية عليه\n",
    "   "
   ]
  },
  {
   "cell_type": "code",
   "execution_count": null,
   "id": "7ca9f3be",
   "metadata": {},
   "outputs": [],
   "source": [
    "data.groupby('Grade')['Avr_views'].median().sort_values(ascending = False).head()"
   ]
  },
  {
   "cell_type": "code",
   "execution_count": null,
   "id": "429b5e77",
   "metadata": {},
   "outputs": [],
   "source": [
    "data.groupby('Grade')['Video views'].median().sort_values(ascending=False).head()"
   ]
  },
  {
   "cell_type": "code",
   "execution_count": null,
   "id": "9fda7ff3",
   "metadata": {},
   "outputs": [],
   "source": []
  }
 ],
 "metadata": {
  "kernelspec": {
   "display_name": "Python 3 (ipykernel)",
   "language": "python",
   "name": "python3"
  },
  "language_info": {
   "codemirror_mode": {
    "name": "ipython",
    "version": 3
   },
   "file_extension": ".py",
   "mimetype": "text/x-python",
   "name": "python",
   "nbconvert_exporter": "python",
   "pygments_lexer": "ipython3",
   "version": "3.9.12"
  }
 },
 "nbformat": 4,
 "nbformat_minor": 5
}
