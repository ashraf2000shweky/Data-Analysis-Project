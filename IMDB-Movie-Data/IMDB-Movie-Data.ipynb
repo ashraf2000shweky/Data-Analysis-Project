{
 "cells": [
  {
   "cell_type": "code",
   "execution_count": null,
   "id": "aa5f1f63",
   "metadata": {},
   "outputs": [],
   "source": [
    "import pandas as pd\n",
    "import matplotlib.pyplot as plt\n",
    "import seaborn as sns"
   ]
  },
  {
   "cell_type": "code",
   "execution_count": null,
   "id": "f2e0da87",
   "metadata": {},
   "outputs": [],
   "source": [
    "data  = pd.read_csv('IMDB-Movie-Data.csv')"
   ]
  },
  {
   "cell_type": "code",
   "execution_count": null,
   "id": "ec48eb0a",
   "metadata": {},
   "outputs": [],
   "source": [
    "data.head(10) # إظهار أول عشرة أسطر"
   ]
  },
  {
   "cell_type": "code",
   "execution_count": null,
   "id": "31779d68",
   "metadata": {},
   "outputs": [],
   "source": [
    "data.tail(10) # إظهار أخر عشر أسطر"
   ]
  },
  {
   "cell_type": "code",
   "execution_count": null,
   "id": "f3216717",
   "metadata": {},
   "outputs": [],
   "source": [
    "data.info() # معلومات عن البيانات"
   ]
  },
  {
   "cell_type": "code",
   "execution_count": null,
   "id": "48cb3222",
   "metadata": {},
   "outputs": [],
   "source": [
    "data.shape # شكل البيانات"
   ]
  },
  {
   "cell_type": "code",
   "execution_count": null,
   "id": "9872edfe",
   "metadata": {},
   "outputs": [],
   "source": [
    "data.isnull().sum() # القيم الفقودة في كل عامود"
   ]
  },
  {
   "cell_type": "code",
   "execution_count": null,
   "id": "f46477be",
   "metadata": {},
   "outputs": [],
   "source": [
    "plt.figure(figsize=(10,8))\n",
    "sns.heatmap(data.isnull())"
   ]
  },
  {
   "cell_type": "code",
   "execution_count": null,
   "id": "765c4ff6",
   "metadata": {},
   "outputs": [],
   "source": [
    "# نسبة القيم الفقودة الى بقية عناصر العامود\n",
    "per_missing = data.isnull().sum() *100 / len(data)"
   ]
  },
  {
   "cell_type": "code",
   "execution_count": null,
   "id": "073e308a",
   "metadata": {},
   "outputs": [],
   "source": [
    "per_missing"
   ]
  },
  {
   "cell_type": "code",
   "execution_count": null,
   "id": "c6c5a468",
   "metadata": {
    "scrolled": true
   },
   "outputs": [],
   "source": [
    "data.dropna()"
   ]
  },
  {
   "cell_type": "code",
   "execution_count": null,
   "id": "1af09380",
   "metadata": {},
   "outputs": [],
   "source": [
    "# هل يوجد سطور متكررة \n",
    "data.duplicated().any()"
   ]
  },
  {
   "cell_type": "code",
   "execution_count": null,
   "id": "1227584a",
   "metadata": {},
   "outputs": [],
   "source": [
    "data = data.drop_duplicates()"
   ]
  },
  {
   "cell_type": "code",
   "execution_count": null,
   "id": "b64e2052",
   "metadata": {},
   "outputs": [],
   "source": [
    "# هنا تم تغير شكل القيم العشرية \n",
    "pd.options.display.float_format = '{:.2f}'.format\n",
    "data.describe()"
   ]
  },
  {
   "cell_type": "code",
   "execution_count": null,
   "id": "2227177f",
   "metadata": {},
   "outputs": [],
   "source": [
    "data.columns"
   ]
  },
  {
   "cell_type": "code",
   "execution_count": null,
   "id": "89e140c0",
   "metadata": {},
   "outputs": [],
   "source": [
    "# أسماء الافلام التى مدتها أكثر من ساعتين\n",
    "data[data['Runtime (Minutes)'] >= 180]['Title']"
   ]
  },
  {
   "cell_type": "code",
   "execution_count": null,
   "id": "dafe4835",
   "metadata": {},
   "outputs": [],
   "source": [
    "#  متوسط التصويت في كل سنة\n",
    "data.groupby('Year')['Votes'].mean().sort_values(ascending =False)"
   ]
  },
  {
   "cell_type": "code",
   "execution_count": null,
   "id": "dbe48760",
   "metadata": {},
   "outputs": [],
   "source": [
    "# متوسط الإيرادات في كل سنة \n",
    "data.groupby('Year')['Revenue (Millions)'].mean().sort_values(ascending =False)"
   ]
  },
  {
   "cell_type": "code",
   "execution_count": null,
   "id": "c1f3f1f2",
   "metadata": {},
   "outputs": [],
   "source": [
    "# بعد sns ألم تدرس \n",
    "plt.figure(figsize=(10,8))\n",
    "sns.barplot(x='Year',y='Revenue (Millions)',data=data)\n",
    "plt.title('Revenue by year')\n",
    "plt.xticks(rotation = 60)\n",
    "plt.show()"
   ]
  },
  {
   "cell_type": "code",
   "execution_count": null,
   "id": "39653eed",
   "metadata": {},
   "outputs": [],
   "source": [
    "data.columns"
   ]
  },
  {
   "cell_type": "code",
   "execution_count": null,
   "id": "815f39eb",
   "metadata": {},
   "outputs": [],
   "source": [
    "# متوسط تقييم كل كاتب\n",
    "data.groupby('Director')['Rating'].mean().sort_values(ascending =False)"
   ]
  },
  {
   "cell_type": "code",
   "execution_count": null,
   "id": "0b4205c3",
   "metadata": {},
   "outputs": [],
   "source": [
    "# أطول عشر أفلام\n",
    "data.nlargest(10,'Runtime (Minutes)')"
   ]
  },
  {
   "cell_type": "code",
   "execution_count": null,
   "id": "c055c5de",
   "metadata": {},
   "outputs": [],
   "source": [
    "# أقصر عشر أفلام \n",
    "data.nsmallest(10,'Runtime (Minutes)')"
   ]
  },
  {
   "cell_type": "code",
   "execution_count": null,
   "id": "24aef42c",
   "metadata": {},
   "outputs": [],
   "source": [
    "top10_len = data.nlargest(10,'Runtime (Minutes)')[['Runtime (Minutes)','Title']]\\\n",
    ".set_index('Title')"
   ]
  },
  {
   "cell_type": "code",
   "execution_count": null,
   "id": "610e6f16",
   "metadata": {},
   "outputs": [],
   "source": [
    "top10_len"
   ]
  },
  {
   "cell_type": "code",
   "execution_count": null,
   "id": "883375b1",
   "metadata": {},
   "outputs": [],
   "source": [
    "down10_len = data.nsmallest(10,'Runtime (Minutes)')[['Runtime (Minutes)','Title']].\\\n",
    " set_index('Title')"
   ]
  },
  {
   "cell_type": "code",
   "execution_count": null,
   "id": "820c7608",
   "metadata": {},
   "outputs": [],
   "source": [
    "down10_len"
   ]
  },
  {
   "cell_type": "code",
   "execution_count": null,
   "id": "92ad60aa",
   "metadata": {},
   "outputs": [],
   "source": [
    "plt.figure(figsize=(15,10))\n",
    "sns.barplot(x='Runtime (Minutes)',y=top10_len.index,data=top10_len)\n",
    "plt.xlabel('(Minutes)',fontdict={'fontsize':30,'color':'r'},labelpad=40)\n",
    "plt.xticks(fontsize=20)\n",
    "plt.ylabel('Title',fontdict={'fontsize':30,'color':'r'},rotation =0)\n",
    "plt.yticks(fontsize=20)\n",
    "plt.show()"
   ]
  },
  {
   "cell_type": "code",
   "execution_count": null,
   "id": "313c9ed1",
   "metadata": {},
   "outputs": [],
   "source": [
    "plt.figure(figsize=(15,10))\n",
    "sns.barplot(data=down10_len,x='Runtime (Minutes)',y=down10_len.index)\n",
    "plt.xlabel('(Minutes)',fontdict={'fontsize':30,'color':'r'},labelpad=40)\n",
    "plt.xticks(fontsize=20)\n",
    "plt.ylabel('Title',fontdict={'fontsize':30,'color':'r'},rotation =0)\n",
    "plt.yticks(fontsize=20)\n",
    "plt.show()"
   ]
  },
  {
   "cell_type": "code",
   "execution_count": null,
   "id": "2e26301a",
   "metadata": {},
   "outputs": [],
   "source": [
    "# عدد الأفلام في كل سنة\n",
    "data['Year'].value_counts()"
   ]
  },
  {
   "cell_type": "code",
   "execution_count": null,
   "id": "5707da83",
   "metadata": {},
   "outputs": [],
   "source": [
    "plt.figure(figsize=(10,5))\n",
    "sns.countplot(x='Year',data=data)\n",
    "plt.title('number of movies per year')"
   ]
  },
  {
   "cell_type": "code",
   "execution_count": null,
   "id": "9ac42549",
   "metadata": {},
   "outputs": [],
   "source": [
    "# معرفة الفلم عن طريق قيمة محدد تدل عليه\n",
    "data[data['Revenue (Millions)'] == 936.63]['Title']"
   ]
  },
  {
   "cell_type": "code",
   "execution_count": null,
   "id": "7ada9c1d",
   "metadata": {},
   "outputs": [],
   "source": [
    "data.columns"
   ]
  },
  {
   "cell_type": "code",
   "execution_count": null,
   "id": "e9a4d104",
   "metadata": {},
   "outputs": [],
   "source": [
    "# أفضل عشر أفلام تقييم مع أسم الكاتب  \n",
    "top10_rating = data.nlargest(10,'Rating')[['Director','Title','Rating']]\\\n",
    ".set_index('Title')"
   ]
  },
  {
   "cell_type": "code",
   "execution_count": null,
   "id": "890f18da",
   "metadata": {},
   "outputs": [],
   "source": [
    "top10_rating"
   ]
  },
  {
   "cell_type": "code",
   "execution_count": null,
   "id": "3e6dacb0",
   "metadata": {},
   "outputs": [],
   "source": [
    "# أقل عشر أفلام تقييم \n",
    "down10_rating = data.nsmallest(10,'Rating')[['Director','Title','Rating']]\\\n",
    ".set_index('Title')\n",
    "down10_rating"
   ]
  },
  {
   "cell_type": "code",
   "execution_count": null,
   "id": "2df59c33",
   "metadata": {},
   "outputs": [],
   "source": [
    "plt.figure(figsize=(8,5))\n",
    "sns.barplot(x='Rating',y=top10_rating.index,data=top10_rating,hue='Director',dodge=False)\n",
    "plt.legend(bbox_to_anchor=(1.1,0.7),fontsize=15,markerscale=5)\n",
    "plt.xlabel('(Rating)',fontdict={'fontsize':30,'color':'r'},labelpad=40)\n",
    "plt.xticks(fontsize=20)\n",
    "plt.ylabel('Title',fontdict={'fontsize':30,'color':'r'},rotation =0)\n",
    "plt.yticks(fontsize=20)\n",
    "plt.show()"
   ]
  },
  {
   "cell_type": "code",
   "execution_count": null,
   "id": "c4adc056",
   "metadata": {},
   "outputs": [],
   "source": [
    "# أقل عشر أفلام إيرادات \n",
    "down_10 = data.nsmallest(10,'Revenue (Millions)')[['Title','Revenue (Millions)']].set_index('Title')\n",
    "down_10"
   ]
  },
  {
   "cell_type": "code",
   "execution_count": null,
   "id": "2f0c05f3",
   "metadata": {},
   "outputs": [],
   "source": [
    "# أكثر عشر أفلام إيرادات\n",
    "top_10 = data.nlargest(10,'Revenue (Millions)')[['Title','Revenue (Millions)']].set_index('Title')\n",
    "top_10"
   ]
  },
  {
   "cell_type": "code",
   "execution_count": null,
   "id": "26a5b331",
   "metadata": {},
   "outputs": [],
   "source": [
    "sns.barplot(x='Revenue (Millions)',y=top_10.index,data=top_10)\n",
    "plt.show\n",
    "plt.xlabel('Revenue',fontdict={'fontsize':20,'color':'r'},labelpad=40)\n",
    "plt.xticks(fontsize=15)\n",
    "plt.ylabel('Title',fontdict={'fontsize':25,'color':'r'},rotation =0,loc='bottom')\n",
    "plt.yticks(fontsize=15,rotation = 10)\n",
    "plt.xlim(0,1000)\n",
    "plt.show()"
   ]
  },
  {
   "cell_type": "code",
   "execution_count": null,
   "id": "9927760d",
   "metadata": {},
   "outputs": [],
   "source": [
    "sns.barplot(x='Revenue (Millions)',y=down_10.index,data=down_10)\n",
    "plt.show\n",
    "plt.xlabel('Revenue',fontdict={'fontsize':20,'color':'r'},labelpad=40)\n",
    "plt.xticks(fontsize=12,rotation=60)\n",
    "plt.ylabel('Title',fontdict={'fontsize':25,'color':'r'},rotation =0)\n",
    "plt.yticks(fontsize=15,rotation = 10)\n",
    "plt.show()"
   ]
  },
  {
   "cell_type": "code",
   "execution_count": null,
   "id": "280faaf4",
   "metadata": {},
   "outputs": [],
   "source": [
    "data.groupby('Year')['Rating'].mean()"
   ]
  },
  {
   "cell_type": "code",
   "execution_count": null,
   "id": "9348a9e3",
   "metadata": {},
   "outputs": [],
   "source": [
    "data.columns"
   ]
  },
  {
   "cell_type": "code",
   "execution_count": null,
   "id": "6186e59a",
   "metadata": {},
   "outputs": [],
   "source": [
    "# هذا النةع من المخططات إستخدامته بسيطة في تحليل البيانات\n",
    "# seaborn غير موجود في مشروع \n",
    "sns.scatterplot(data=data,x='Rating',y='Revenue (Millions)')"
   ]
  },
  {
   "cell_type": "code",
   "execution_count": null,
   "id": "d7b7acd0",
   "metadata": {},
   "outputs": [],
   "source": [
    "# دالة ترجع فئة للتقيم\n",
    "def rating(rating):\n",
    "    if rating >=7.0:\n",
    "        return 'Excellent'\n",
    "    elif rating >=5.0:\n",
    "        return 'Good'\n",
    "    elif rating >=3:\n",
    "        return 'Normal'\n",
    "    else :\n",
    "        return 'Bad'"
   ]
  },
  {
   "cell_type": "code",
   "execution_count": null,
   "id": "22ff0997",
   "metadata": {},
   "outputs": [],
   "source": [
    "# إضافة عامود موقعه أخر عامود\n",
    "data['rating_cat'] = data['Rating'].apply(rating)"
   ]
  },
  {
   "cell_type": "code",
   "execution_count": null,
   "id": "ecd8d955",
   "metadata": {},
   "outputs": [],
   "source": [
    "# إسقاط العامود الذي أضفناها\n",
    "data = data.drop(axis=1,columns='rating_cat')"
   ]
  },
  {
   "cell_type": "code",
   "execution_count": null,
   "id": "a29b8c0d",
   "metadata": {},
   "outputs": [],
   "source": [
    "# إضافة العامود في المكان المناسب\n",
    "data.insert(loc=8,column = 'Rating_cata',value=data['Rating'].apply(rating))"
   ]
  },
  {
   "cell_type": "code",
   "execution_count": null,
   "id": "45546bf4",
   "metadata": {},
   "outputs": [],
   "source": [
    "data.head()"
   ]
  },
  {
   "cell_type": "code",
   "execution_count": null,
   "id": "c2122259",
   "metadata": {},
   "outputs": [],
   "source": [
    "df = data['Rating_cata'].value_counts()\n",
    "df"
   ]
  },
  {
   "cell_type": "code",
   "execution_count": null,
   "id": "290c65c4",
   "metadata": {},
   "outputs": [],
   "source": [
    "sns.barplot(x=df.index,y=df.values)"
   ]
  },
  {
   "cell_type": "code",
   "execution_count": null,
   "id": "4e71029d",
   "metadata": {},
   "outputs": [],
   "source": [
    "data.columns"
   ]
  },
  {
   "cell_type": "code",
   "execution_count": null,
   "id": "5ba19a13",
   "metadata": {},
   "outputs": [],
   "source": [
    "# Action عدد الأفلام التى تحوى نوع \n",
    "data['Genre'].str.contains('Action',case=False).sum()"
   ]
  },
  {
   "cell_type": "code",
   "execution_count": null,
   "id": "ce8b32e4",
   "metadata": {},
   "outputs": [],
   "source": [
    "data['Genre']"
   ]
  },
  {
   "cell_type": "code",
   "execution_count": null,
   "id": "4bcdb375",
   "metadata": {},
   "outputs": [],
   "source": [
    "# فصل عناصر العامود\n",
    "list1 = []\n",
    "for value in data['Genre']:\n",
    "    list1.append(value.split(','))"
   ]
  },
  {
   "cell_type": "code",
   "execution_count": null,
   "id": "44d01cc8",
   "metadata": {
    "scrolled": true
   },
   "outputs": [],
   "source": [
    "list1"
   ]
  },
  {
   "cell_type": "code",
   "execution_count": null,
   "id": "15c7eefc",
   "metadata": {},
   "outputs": [],
   "source": [
    "# لفصل العناصر DataFrame تحويل القائمة السابقة الى \n",
    "df_l = pd.DataFrame(list1)\n",
    "df_2 = df_l[0].value_counts()\n",
    "df_3 = df_l[1].value_counts()\n",
    "df_4 = df_l[2].value_counts()\n",
    "df_2"
   ]
  },
  {
   "cell_type": "code",
   "execution_count": null,
   "id": "5c9fe3fa",
   "metadata": {},
   "outputs": [],
   "source": [
    "# تم أخذ العامود الأول لأنه النوع الفعلي للفلم \n",
    "plt.figure(figsize=(13,5))\n",
    "sns.barplot(x=df_2.index , y=df_2.values)"
   ]
  },
  {
   "cell_type": "code",
   "execution_count": null,
   "id": "b9c3054e",
   "metadata": {},
   "outputs": [],
   "source": [
    "# فصل بطريقة أخرى\n",
    "one_type = []\n",
    "for items in list1:\n",
    "    for item in items:\n",
    "        one_type.append(item)\n",
    "one_type "
   ]
  },
  {
   "cell_type": "code",
   "execution_count": null,
   "id": "d8a09d3b",
   "metadata": {},
   "outputs": [],
   "source": [
    "# تحويل القائمة الى سلسة لسهولة التعامل\n",
    "data1 = pd.Series(one_type)\n",
    "data1"
   ]
  },
  {
   "cell_type": "code",
   "execution_count": null,
   "id": "05d49ea2",
   "metadata": {},
   "outputs": [],
   "source": [
    "# كل الأنواع\n",
    "data1.unique()"
   ]
  },
  {
   "cell_type": "code",
   "execution_count": null,
   "id": "ac181486",
   "metadata": {},
   "outputs": [],
   "source": [
    "# عدد كل الأنواع \n",
    "data1.nunique()"
   ]
  },
  {
   "cell_type": "code",
   "execution_count": null,
   "id": "e5850f74",
   "metadata": {},
   "outputs": [],
   "source": []
  },
  {
   "cell_type": "code",
   "execution_count": null,
   "id": "94b30b7a",
   "metadata": {},
   "outputs": [],
   "source": []
  }
 ],
 "metadata": {
  "kernelspec": {
   "display_name": "Python 3 (ipykernel)",
   "language": "python",
   "name": "python3"
  },
  "language_info": {
   "codemirror_mode": {
    "name": "ipython",
    "version": 3
   },
   "file_extension": ".py",
   "mimetype": "text/x-python",
   "name": "python",
   "nbconvert_exporter": "python",
   "pygments_lexer": "ipython3",
   "version": "3.9.12"
  }
 },
 "nbformat": 4,
 "nbformat_minor": 5
}
