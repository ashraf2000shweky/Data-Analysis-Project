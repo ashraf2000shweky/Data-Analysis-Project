{
 "cells": [
  {
   "cell_type": "code",
   "execution_count": 1,
   "id": "93708fbb",
   "metadata": {},
   "outputs": [],
   "source": [
    "# الهدف هنا فهم الأنماط نسطيع التعامل مع النماط مباشرة في باندس \n",
    "import re # مكتبة التعامل مع الأنماط "
   ]
  },
  {
   "cell_type": "code",
   "execution_count": 2,
   "id": "55929925",
   "metadata": {},
   "outputs": [],
   "source": [
    "test_string = '123abc456789abc123ABC'"
   ]
  },
  {
   "cell_type": "code",
   "execution_count": 3,
   "id": "38321caa",
   "metadata": {},
   "outputs": [],
   "source": [
    "pattren = re.compile(r\"abc\") # تجميع نمط معين "
   ]
  },
  {
   "cell_type": "code",
   "execution_count": 4,
   "id": "e071e28e",
   "metadata": {},
   "outputs": [
    {
     "data": {
      "text/plain": [
       "<callable_iterator at 0x162e709cfa0>"
      ]
     },
     "execution_count": 4,
     "metadata": {},
     "output_type": "execute_result"
    }
   ],
   "source": [
    "matches  = pattren.finditer(test_string) # إيجاد هذا النمط\n",
    "matches #  لمعرفة القيم for وجب إستخدام حلقة  "
   ]
  },
  {
   "cell_type": "code",
   "execution_count": 5,
   "id": "db1710b1",
   "metadata": {},
   "outputs": [
    {
     "name": "stdout",
     "output_type": "stream",
     "text": [
      "<re.Match object; span=(3, 6), match='abc'>\n",
      "<re.Match object; span=(12, 15), match='abc'>\n"
     ]
    }
   ],
   "source": [
    "for match in matches: \n",
    "    print(match) # طباعة القيم "
   ]
  },
  {
   "cell_type": "code",
   "execution_count": 6,
   "id": "fcc23745",
   "metadata": {},
   "outputs": [
    {
     "data": {
      "text/plain": [
       "<callable_iterator at 0x162e71389a0>"
      ]
     },
     "execution_count": 6,
     "metadata": {},
     "output_type": "execute_result"
    }
   ],
   "source": [
    "# تطبيق لنمط من دون تجميعه\n",
    "matches = re.finditer(r\"abc\",test_string)\n",
    "matches"
   ]
  },
  {
   "cell_type": "code",
   "execution_count": 7,
   "id": "ecd4cfd3",
   "metadata": {},
   "outputs": [
    {
     "name": "stdout",
     "output_type": "stream",
     "text": [
      "<re.Match object; span=(3, 6), match='abc'>\n",
      "<re.Match object; span=(12, 15), match='abc'>\n"
     ]
    }
   ],
   "source": [
    "for match in matches:\n",
    "    print(match)"
   ]
  },
  {
   "cell_type": "code",
   "execution_count": 8,
   "id": "315214c2",
   "metadata": {},
   "outputs": [
    {
     "name": "stdout",
     "output_type": "stream",
     "text": [
      "\\tHello\n"
     ]
    }
   ],
   "source": [
    "a = r\"\\tHello\" # r تقوم بعرض النص كما قد كتب \n",
    "print(a)"
   ]
  },
  {
   "cell_type": "code",
   "execution_count": 9,
   "id": "fdcbde82",
   "metadata": {},
   "outputs": [
    {
     "name": "stdout",
     "output_type": "stream",
     "text": [
      "\tHello\n"
     ]
    }
   ],
   "source": [
    "a = \"\\tHello\"  \n",
    "print(a) # تم إظهار المسافة في البداية"
   ]
  },
  {
   "cell_type": "code",
   "execution_count": 10,
   "id": "96dd1328",
   "metadata": {},
   "outputs": [
    {
     "data": {
      "text/plain": [
       "['abc', 'abc']"
      ]
     },
     "execution_count": 10,
     "metadata": {},
     "output_type": "execute_result"
    }
   ],
   "source": [
    "# إستخلاص النمط \n",
    "matches  = pattren.findall(test_string)\n",
    "matches"
   ]
  },
  {
   "cell_type": "code",
   "execution_count": 11,
   "id": "de6791bb",
   "metadata": {},
   "outputs": [
    {
     "name": "stdout",
     "output_type": "stream",
     "text": [
      "<re.Match object; span=(0, 1), match=' '>\n",
      "<re.Match object; span=(1, 2), match=' '>\n",
      "<re.Match object; span=(2, 3), match='1'>\n",
      "<re.Match object; span=(3, 4), match='2'>\n",
      "<re.Match object; span=(4, 5), match='3'>\n",
      "<re.Match object; span=(5, 6), match='a'>\n",
      "<re.Match object; span=(6, 7), match='b'>\n",
      "<re.Match object; span=(7, 8), match='c'>\n",
      "<re.Match object; span=(8, 9), match='4'>\n",
      "<re.Match object; span=(9, 10), match='5'>\n",
      "<re.Match object; span=(10, 11), match='6'>\n",
      "<re.Match object; span=(11, 12), match='7'>\n",
      "<re.Match object; span=(12, 13), match='8'>\n",
      "<re.Match object; span=(13, 14), match='9'>\n",
      "<re.Match object; span=(14, 15), match='a'>\n",
      "<re.Match object; span=(15, 16), match='b'>\n",
      "<re.Match object; span=(16, 17), match='c'>\n",
      "<re.Match object; span=(17, 18), match=' '>\n",
      "<re.Match object; span=(18, 19), match='1'>\n",
      "<re.Match object; span=(19, 20), match='2'>\n",
      "<re.Match object; span=(20, 21), match='3'>\n",
      "<re.Match object; span=(21, 22), match='A'>\n",
      "<re.Match object; span=(22, 23), match='B'>\n",
      "<re.Match object; span=(23, 24), match='C'>\n"
     ]
    }
   ],
   "source": [
    "# . = إيجاد كل المحارف \n",
    "test_string = '  123abc456789abc 123ABC'\n",
    "pattren = re.compile(r\".\")\n",
    "matches  = pattren.finditer(test_string)\n",
    "matches \n",
    "for match in matches:\n",
    "    print(match)"
   ]
  },
  {
   "cell_type": "code",
   "execution_count": 12,
   "id": "31f8fc82",
   "metadata": {},
   "outputs": [
    {
     "name": "stdout",
     "output_type": "stream",
     "text": [
      "<re.Match object; span=(21, 22), match='.'>\n"
     ]
    }
   ],
   "source": [
    "# \\. = إيجاد . بذاتها\n",
    "test_string = '123abc456789abc123ABC.'\n",
    "pattren = re.compile(r\"\\.\")\n",
    "matches  = pattren.finditer(test_string)\n",
    "matches \n",
    "for match in matches:\n",
    "    print(match)"
   ]
  },
  {
   "cell_type": "code",
   "execution_count": 13,
   "id": "2a789852",
   "metadata": {},
   "outputs": [
    {
     "name": "stdout",
     "output_type": "stream",
     "text": [
      "<re.Match object; span=(0, 6), match='123abc'>\n"
     ]
    }
   ],
   "source": [
    "# ^ = إيجاد المحارف إذا كانت في البداية \n",
    "test_string = '123abc456789abc123ABC.'\n",
    "pattren = re.compile(r\"^123abc\")\n",
    "matches  = pattren.finditer(test_string)\n",
    "matches \n",
    "for match in matches:\n",
    "    print(match)"
   ]
  },
  {
   "cell_type": "code",
   "execution_count": 14,
   "id": "9ca6afa2",
   "metadata": {},
   "outputs": [
    {
     "name": "stdout",
     "output_type": "stream",
     "text": [
      "<re.Match object; span=(18, 22), match='ABC.'>\n"
     ]
    }
   ],
   "source": [
    "# $ = إيجاد المحارف إذا كانت في النهاية \n",
    "test_string = '123abc456789abc123ABC.'\n",
    "pattren = re.compile(r\"ABC.$\")\n",
    "matches  = pattren.finditer(test_string)\n",
    "matches \n",
    "for match in matches:\n",
    "    print(match)"
   ]
  },
  {
   "cell_type": "code",
   "execution_count": 15,
   "id": "96dd982f",
   "metadata": {},
   "outputs": [
    {
     "name": "stdout",
     "output_type": "stream",
     "text": [
      "<re.Match object; span=(6, 7), match='1'>\n",
      "<re.Match object; span=(7, 8), match='2'>\n",
      "<re.Match object; span=(8, 9), match='3'>\n"
     ]
    }
   ],
   "source": [
    "# \\d = إيجاد المحارف الرقمية \n",
    "test_string = 'hello 123_ heyho hohey'\n",
    "pattren = re.compile(r\"\\d\")\n",
    "matches  = pattren.finditer(test_string)\n",
    "matches \n",
    "for match in matches:\n",
    "    print(match)"
   ]
  },
  {
   "cell_type": "code",
   "execution_count": 16,
   "id": "faeaf33f",
   "metadata": {},
   "outputs": [
    {
     "name": "stdout",
     "output_type": "stream",
     "text": [
      "<re.Match object; span=(0, 1), match='h'>\n",
      "<re.Match object; span=(1, 2), match='e'>\n",
      "<re.Match object; span=(2, 3), match='l'>\n",
      "<re.Match object; span=(3, 4), match='l'>\n",
      "<re.Match object; span=(4, 5), match='o'>\n",
      "<re.Match object; span=(5, 6), match=' '>\n",
      "<re.Match object; span=(9, 10), match='_'>\n",
      "<re.Match object; span=(10, 11), match=' '>\n",
      "<re.Match object; span=(11, 12), match='h'>\n",
      "<re.Match object; span=(12, 13), match='e'>\n",
      "<re.Match object; span=(13, 14), match='y'>\n",
      "<re.Match object; span=(14, 15), match='h'>\n",
      "<re.Match object; span=(15, 16), match='o'>\n",
      "<re.Match object; span=(16, 17), match=' '>\n",
      "<re.Match object; span=(17, 18), match='h'>\n",
      "<re.Match object; span=(18, 19), match='o'>\n",
      "<re.Match object; span=(19, 20), match='h'>\n",
      "<re.Match object; span=(20, 21), match='e'>\n",
      "<re.Match object; span=(21, 22), match='y'>\n"
     ]
    }
   ],
   "source": [
    "# \\D = إيجاد المحارف غير الرقمية \n",
    "test_string = 'hello 123_ heyho hohey'\n",
    "pattren = re.compile(r\"\\D\")\n",
    "matches  = pattren.finditer(test_string)\n",
    "matches \n",
    "for match in matches:\n",
    "    print(match)"
   ]
  },
  {
   "cell_type": "code",
   "execution_count": 17,
   "id": "8954abbf",
   "metadata": {},
   "outputs": [
    {
     "name": "stdout",
     "output_type": "stream",
     "text": [
      "<re.Match object; span=(0, 1), match=' '>\n",
      "<re.Match object; span=(1, 2), match=' '>\n",
      "<re.Match object; span=(2, 3), match=' '>\n",
      "<re.Match object; span=(8, 9), match=' '>\n",
      "<re.Match object; span=(13, 14), match=' '>\n",
      "<re.Match object; span=(19, 20), match=' '>\n"
     ]
    }
   ],
   "source": [
    "# \\s = إيجاد المسافات \n",
    "test_string = '   hello 123_ heyho hohey'\n",
    "pattren = re.compile(r\"\\s\")\n",
    "matches  = pattren.finditer(test_string)\n",
    "matches \n",
    "for match in matches:\n",
    "    print(match)"
   ]
  },
  {
   "cell_type": "code",
   "execution_count": 18,
   "id": "42dd1e84",
   "metadata": {},
   "outputs": [
    {
     "name": "stdout",
     "output_type": "stream",
     "text": [
      "<re.Match object; span=(0, 1), match='h'>\n",
      "<re.Match object; span=(1, 2), match='e'>\n",
      "<re.Match object; span=(2, 3), match='l'>\n",
      "<re.Match object; span=(3, 4), match='l'>\n",
      "<re.Match object; span=(4, 5), match='o'>\n",
      "<re.Match object; span=(6, 7), match='1'>\n",
      "<re.Match object; span=(7, 8), match='2'>\n",
      "<re.Match object; span=(8, 9), match='3'>\n",
      "<re.Match object; span=(9, 10), match='_'>\n",
      "<re.Match object; span=(11, 12), match='h'>\n",
      "<re.Match object; span=(12, 13), match='e'>\n",
      "<re.Match object; span=(13, 14), match='y'>\n",
      "<re.Match object; span=(14, 15), match='h'>\n",
      "<re.Match object; span=(15, 16), match='o'>\n",
      "<re.Match object; span=(17, 18), match='h'>\n",
      "<re.Match object; span=(18, 19), match='o'>\n",
      "<re.Match object; span=(19, 20), match='h'>\n",
      "<re.Match object; span=(20, 21), match='e'>\n",
      "<re.Match object; span=(21, 22), match='y'>\n"
     ]
    }
   ],
   "source": [
    "# \\S = إيجاد جميع المحارف من دون المسافات\n",
    "test_string = 'hello 123_ heyho hohey'\n",
    "pattren = re.compile(r\"\\S\")\n",
    "matches  = pattren.finditer(test_string)\n",
    "matches \n",
    "for match in matches:\n",
    "    print(match)"
   ]
  },
  {
   "cell_type": "code",
   "execution_count": 19,
   "id": "cc71566a",
   "metadata": {},
   "outputs": [
    {
     "name": "stdout",
     "output_type": "stream",
     "text": [
      "<re.Match object; span=(2, 3), match='h'>\n",
      "<re.Match object; span=(3, 4), match='e'>\n",
      "<re.Match object; span=(4, 5), match='l'>\n",
      "<re.Match object; span=(5, 6), match='l'>\n",
      "<re.Match object; span=(6, 7), match='o'>\n",
      "<re.Match object; span=(8, 9), match='1'>\n",
      "<re.Match object; span=(9, 10), match='2'>\n",
      "<re.Match object; span=(10, 11), match='3'>\n",
      "<re.Match object; span=(11, 12), match='_'>\n",
      "<re.Match object; span=(13, 14), match='h'>\n",
      "<re.Match object; span=(14, 15), match='e'>\n",
      "<re.Match object; span=(15, 16), match='y'>\n",
      "<re.Match object; span=(16, 17), match='h'>\n",
      "<re.Match object; span=(17, 18), match='o'>\n",
      "<re.Match object; span=(19, 20), match='h'>\n",
      "<re.Match object; span=(20, 21), match='o'>\n",
      "<re.Match object; span=(21, 22), match='h'>\n",
      "<re.Match object; span=(22, 23), match='e'>\n",
      "<re.Match object; span=(23, 24), match='y'>\n"
     ]
    }
   ],
   "source": [
    "# \\w = جميع المحارف من دون المسافات البيضاء \n",
    "test_string = '  hello 123_ heyho hohey'\n",
    "pattren = re.compile(r\"\\w\")\n",
    "matches  = pattren.finditer(test_string)\n",
    "matches \n",
    "for match in matches:\n",
    "    print(match)"
   ]
  },
  {
   "cell_type": "code",
   "execution_count": 20,
   "id": "61b4da68",
   "metadata": {},
   "outputs": [
    {
     "name": "stdout",
     "output_type": "stream",
     "text": [
      "<re.Match object; span=(0, 1), match=' '>\n",
      "<re.Match object; span=(1, 2), match=' '>\n",
      "<re.Match object; span=(2, 3), match=' '>\n",
      "<re.Match object; span=(8, 9), match=' '>\n",
      "<re.Match object; span=(13, 14), match=' '>\n",
      "<re.Match object; span=(19, 20), match=' '>\n"
     ]
    }
   ],
   "source": [
    "# \\W = المسافات البيضاء \n",
    "test_string = '   hello 123_ heyho hohey'\n",
    "pattren = re.compile(r\"\\W\")\n",
    "matches  = pattren.finditer(test_string)\n",
    "matches \n",
    "for match in matches:\n",
    "    print(match)"
   ]
  },
  {
   "cell_type": "code",
   "execution_count": 21,
   "id": "59e3384e",
   "metadata": {},
   "outputs": [
    {
     "name": "stdout",
     "output_type": "stream",
     "text": [
      "<re.Match object; span=(11, 14), match='hey'>\n"
     ]
    }
   ],
   "source": [
    "# \\b = التي تبدا ب \n",
    "test_string = 'hello 123_ heyho hohey'\n",
    "pattren = re.compile(r\"\\bhey\")\n",
    "matches  = pattren.finditer(test_string)\n",
    "matches \n",
    "for match in matches:\n",
    "    print(match)"
   ]
  },
  {
   "cell_type": "code",
   "execution_count": 22,
   "id": "2714c198",
   "metadata": {},
   "outputs": [
    {
     "name": "stdout",
     "output_type": "stream",
     "text": [
      "<re.Match object; span=(19, 22), match='hey'>\n"
     ]
    }
   ],
   "source": [
    "# \\B =  التى تنتهي بي \n",
    "test_string = 'hello 123_ heyho hohey'\n",
    "pattren = re.compile(r\"\\Bhey\")\n",
    "matches  = pattren.finditer(test_string)\n",
    "matches \n",
    "for match in matches:\n",
    "    print(match)"
   ]
  },
  {
   "cell_type": "code",
   "execution_count": 23,
   "id": "76124893",
   "metadata": {},
   "outputs": [
    {
     "name": "stdout",
     "output_type": "stream",
     "text": [
      "<re.Match object; span=(2, 3), match='l'>\n",
      "<re.Match object; span=(3, 4), match='l'>\n",
      "<re.Match object; span=(4, 5), match='o'>\n"
     ]
    }
   ],
   "source": [
    "# [] = إيجاد المحارف التى داخلها \n",
    "test_string = 'hello 123_'\n",
    "pattren = re.compile(r\"[lo]\")\n",
    "matches  = pattren.finditer(test_string)\n",
    "matches \n",
    "for match in matches:\n",
    "    print(match)"
   ]
  },
  {
   "cell_type": "code",
   "execution_count": 24,
   "id": "8a021dee",
   "metadata": {},
   "outputs": [
    {
     "name": "stdout",
     "output_type": "stream",
     "text": [
      "<re.Match object; span=(0, 1), match='h'>\n",
      "<re.Match object; span=(1, 2), match='e'>\n",
      "<re.Match object; span=(2, 3), match='l'>\n",
      "<re.Match object; span=(3, 4), match='l'>\n",
      "<re.Match object; span=(4, 5), match='o'>\n"
     ]
    }
   ],
   "source": [
    "# [] = إيجاد المحارف التى داخلها \n",
    "test_string = 'hello 123_'\n",
    "pattren = re.compile(r\"[oehl]\")\n",
    "matches  = pattren.finditer(test_string)\n",
    "matches \n",
    "for match in matches:\n",
    "    print(match)"
   ]
  },
  {
   "cell_type": "code",
   "execution_count": 25,
   "id": "f281ada9",
   "metadata": {},
   "outputs": [
    {
     "name": "stdout",
     "output_type": "stream",
     "text": [
      "<re.Match object; span=(1, 2), match='e'>\n"
     ]
    }
   ],
   "source": [
    "# - = الأحرف بينها حسب الترتيب الأبجدي \n",
    "test_string = 'hello 123_'\n",
    "pattren = re.compile(r\"[a-e]\")\n",
    "matches  = pattren.finditer(test_string)\n",
    "matches \n",
    "for match in matches:\n",
    "    print(match)"
   ]
  },
  {
   "cell_type": "code",
   "execution_count": 26,
   "id": "9a3be0b3",
   "metadata": {},
   "outputs": [
    {
     "name": "stdout",
     "output_type": "stream",
     "text": [
      "<re.Match object; span=(0, 1), match='h'>\n",
      "<re.Match object; span=(1, 2), match='e'>\n",
      "<re.Match object; span=(2, 3), match='l'>\n",
      "<re.Match object; span=(3, 4), match='l'>\n",
      "<re.Match object; span=(4, 5), match='o'>\n"
     ]
    }
   ],
   "source": [
    "# - = الأحرف بينها حسب الترتيب الأبجدي \n",
    "test_string = 'hello 123_'\n",
    "pattren = re.compile(r\"[a-z]\")\n",
    "matches  = pattren.finditer(test_string)\n",
    "matches \n",
    "for match in matches:\n",
    "    print(match)"
   ]
  },
  {
   "cell_type": "code",
   "execution_count": 27,
   "id": "bf9a15f2",
   "metadata": {},
   "outputs": [
    {
     "name": "stdout",
     "output_type": "stream",
     "text": [
      "<re.Match object; span=(7, 8), match='2'>\n",
      "<re.Match object; span=(8, 9), match='3'>\n"
     ]
    }
   ],
   "source": [
    "# [] = إيجاد المحارف التى داخلها \n",
    "test_string = 'hello 123_'\n",
    "pattren = re.compile(r\"[23]\")\n",
    "matches  = pattren.finditer(test_string)\n",
    "matches \n",
    "for match in matches:\n",
    "    print(match)"
   ]
  },
  {
   "cell_type": "code",
   "execution_count": 28,
   "id": "1f441621",
   "metadata": {},
   "outputs": [
    {
     "name": "stdout",
     "output_type": "stream",
     "text": [
      "<re.Match object; span=(6, 7), match='1'>\n",
      "<re.Match object; span=(7, 8), match='2'>\n"
     ]
    }
   ],
   "source": [
    "# - = تتعامل أيضا مع الأرقام \n",
    "test_string = 'hello 123_'\n",
    "pattren = re.compile(r\"[1-2]\")\n",
    "matches  = pattren.finditer(test_string)\n",
    "matches \n",
    "for match in matches:\n",
    "    print(match)"
   ]
  },
  {
   "cell_type": "code",
   "execution_count": 29,
   "id": "c8271c92",
   "metadata": {},
   "outputs": [
    {
     "name": "stdout",
     "output_type": "stream",
     "text": [
      "<re.Match object; span=(6, 7), match='1'>\n",
      "<re.Match object; span=(7, 8), match='2'>\n",
      "<re.Match object; span=(9, 10), match='_'>\n"
     ]
    }
   ],
   "source": [
    "test_string = 'hello 123_'\n",
    "pattren = re.compile(r\"[1-2_]\")\n",
    "matches  = pattren.finditer(test_string)\n",
    "matches \n",
    "for match in matches:\n",
    "    print(match)"
   ]
  },
  {
   "cell_type": "code",
   "execution_count": 30,
   "id": "cc40bc45",
   "metadata": {},
   "outputs": [
    {
     "name": "stdout",
     "output_type": "stream",
     "text": [
      "<re.Match object; span=(0, 1), match='h'>\n",
      "<re.Match object; span=(1, 2), match='e'>\n",
      "<re.Match object; span=(2, 3), match='l'>\n",
      "<re.Match object; span=(3, 4), match='l'>\n",
      "<re.Match object; span=(4, 5), match='o'>\n"
     ]
    }
   ],
   "source": [
    "# [] = تراعي الأحرف الصغيرة والكبيرة \n",
    "test_string = 'helloHELLO 123_'\n",
    "pattren = re.compile(r\"[a-z]\")\n",
    "matches  = pattren.finditer(test_string)\n",
    "matches \n",
    "for match in matches:\n",
    "    print(match)"
   ]
  },
  {
   "cell_type": "code",
   "execution_count": 31,
   "id": "13a628ab",
   "metadata": {},
   "outputs": [
    {
     "name": "stdout",
     "output_type": "stream",
     "text": [
      "<re.Match object; span=(5, 6), match='H'>\n",
      "<re.Match object; span=(6, 7), match='E'>\n",
      "<re.Match object; span=(7, 8), match='L'>\n",
      "<re.Match object; span=(8, 9), match='L'>\n",
      "<re.Match object; span=(9, 10), match='O'>\n"
     ]
    }
   ],
   "source": [
    "test_string = 'helloHELLO 123_'\n",
    "pattren = re.compile(r\"[A-Z]\")\n",
    "matches  = pattren.finditer(test_string)\n",
    "matches \n",
    "for match in matches:\n",
    "    print(match)"
   ]
  },
  {
   "cell_type": "code",
   "execution_count": 32,
   "id": "86fc5f09",
   "metadata": {},
   "outputs": [
    {
     "name": "stdout",
     "output_type": "stream",
     "text": [
      "<re.Match object; span=(0, 1), match='h'>\n",
      "<re.Match object; span=(1, 2), match='e'>\n",
      "<re.Match object; span=(2, 3), match='l'>\n",
      "<re.Match object; span=(3, 4), match='l'>\n",
      "<re.Match object; span=(4, 5), match='o'>\n",
      "<re.Match object; span=(5, 6), match='H'>\n",
      "<re.Match object; span=(6, 7), match='E'>\n",
      "<re.Match object; span=(7, 8), match='L'>\n",
      "<re.Match object; span=(8, 9), match='L'>\n",
      "<re.Match object; span=(9, 10), match='O'>\n"
     ]
    }
   ],
   "source": [
    "test_string = 'helloHELLO 123_'\n",
    "pattren = re.compile(r\"[a-zA-Z]\")\n",
    "matches  = pattren.finditer(test_string)\n",
    "matches \n",
    "for match in matches:\n",
    "    print(match)"
   ]
  },
  {
   "cell_type": "code",
   "execution_count": 33,
   "id": "2ef003df",
   "metadata": {},
   "outputs": [
    {
     "name": "stdout",
     "output_type": "stream",
     "text": [
      "<re.Match object; span=(0, 1), match='h'>\n",
      "<re.Match object; span=(1, 2), match='e'>\n",
      "<re.Match object; span=(2, 3), match='l'>\n",
      "<re.Match object; span=(3, 4), match='l'>\n",
      "<re.Match object; span=(4, 5), match='o'>\n",
      "<re.Match object; span=(5, 6), match='H'>\n",
      "<re.Match object; span=(6, 7), match='E'>\n",
      "<re.Match object; span=(7, 8), match='L'>\n",
      "<re.Match object; span=(8, 9), match='L'>\n",
      "<re.Match object; span=(9, 10), match='O'>\n",
      "<re.Match object; span=(11, 12), match='1'>\n",
      "<re.Match object; span=(12, 13), match='2'>\n",
      "<re.Match object; span=(13, 14), match='3'>\n"
     ]
    }
   ],
   "source": [
    "test_string = 'helloHELLO 123_'\n",
    "pattren = re.compile(r\"[a-zA-Z0-9]\")\n",
    "matches  = pattren.finditer(test_string)\n",
    "matches \n",
    "for match in matches:\n",
    "    print(match)"
   ]
  },
  {
   "cell_type": "code",
   "execution_count": 34,
   "id": "9e39b690",
   "metadata": {},
   "outputs": [
    {
     "name": "stdout",
     "output_type": "stream",
     "text": [
      "<re.Match object; span=(0, 1), match='1'>\n",
      "<re.Match object; span=(1, 1), match=''>\n",
      "<re.Match object; span=(2, 2), match=''>\n",
      "<re.Match object; span=(3, 3), match=''>\n",
      "<re.Match object; span=(4, 4), match=''>\n",
      "<re.Match object; span=(5, 5), match=''>\n",
      "<re.Match object; span=(6, 6), match=''>\n",
      "<re.Match object; span=(7, 10), match='123'>\n",
      "<re.Match object; span=(10, 10), match=''>\n"
     ]
    }
   ],
   "source": [
    "# * =  بموجود 0 محرف أو أكثر بكتلة واحدة \n",
    "test_string = '1hello_123'\n",
    "pattren = re.compile(r\"\\d*\")\n",
    "matches  = pattren.finditer(test_string)\n",
    "matches \n",
    "for match in matches:\n",
    "    print(match)"
   ]
  },
  {
   "cell_type": "code",
   "execution_count": 35,
   "id": "e315618f",
   "metadata": {},
   "outputs": [
    {
     "name": "stdout",
     "output_type": "stream",
     "text": [
      "<re.Match object; span=(0, 1), match='1'>\n",
      "<re.Match object; span=(7, 8), match='1'>\n",
      "<re.Match object; span=(8, 9), match='2'>\n",
      "<re.Match object; span=(9, 10), match='3'>\n"
     ]
    }
   ],
   "source": [
    "# هنا تم الفصل \n",
    "test_string = '1hello_123'\n",
    "pattren = re.compile(r\"\\d\")\n",
    "matches  = pattren.finditer(test_string)\n",
    "matches \n",
    "for match in matches:\n",
    "    print(match)"
   ]
  },
  {
   "cell_type": "code",
   "execution_count": 36,
   "id": "2ab3bf48",
   "metadata": {},
   "outputs": [
    {
     "name": "stdout",
     "output_type": "stream",
     "text": [
      "<re.Match object; span=(0, 1), match='1'>\n",
      "<re.Match object; span=(7, 10), match='123'>\n"
     ]
    }
   ],
   "source": [
    "# + =  موجود 1 محرف أو أكثر بكتلة واحدة\n",
    "test_string = '1hello_123'\n",
    "pattren = re.compile(r\"\\d+\")\n",
    "matches  = pattren.finditer(test_string)\n",
    "matches \n",
    "for match in matches:\n",
    "    print(match)"
   ]
  },
  {
   "cell_type": "code",
   "execution_count": 37,
   "id": "7902657a",
   "metadata": {},
   "outputs": [
    {
     "name": "stdout",
     "output_type": "stream",
     "text": [
      "<re.Match object; span=(6, 7), match='_'>\n"
     ]
    }
   ],
   "source": [
    "test_string = '1hello_123'\n",
    "pattren = re.compile(r\"_+\")\n",
    "matches  = pattren.finditer(test_string)\n",
    "matches \n",
    "for match in matches:\n",
    "    print(match)"
   ]
  },
  {
   "cell_type": "code",
   "execution_count": 38,
   "id": "82baf678",
   "metadata": {},
   "outputs": [
    {
     "name": "stdout",
     "output_type": "stream",
     "text": [
      "<re.Match object; span=(6, 10), match='_123'>\n"
     ]
    }
   ],
   "source": [
    "test_string = '1hello_123'\n",
    "pattren = re.compile(r\"_\\d*\")\n",
    "matches  = pattren.finditer(test_string)\n",
    "matches \n",
    "for match in matches:\n",
    "    print(match)"
   ]
  },
  {
   "cell_type": "code",
   "execution_count": 39,
   "id": "6c77d69f",
   "metadata": {},
   "outputs": [
    {
     "name": "stdout",
     "output_type": "stream",
     "text": [
      "<re.Match object; span=(0, 1), match='1'>\n",
      "<re.Match object; span=(6, 8), match='_1'>\n",
      "<re.Match object; span=(8, 9), match='2'>\n",
      "<re.Match object; span=(9, 10), match='3'>\n"
     ]
    }
   ],
   "source": [
    "# ? = جعل النمط الذي قبلها إختياري  \n",
    "test_string = '1hello_123'\n",
    "pattren = re.compile(r\"_?\\d\")\n",
    "matches  = pattren.finditer(test_string)\n",
    "matches \n",
    "for match in matches:\n",
    "    print(match)"
   ]
  },
  {
   "cell_type": "code",
   "execution_count": 40,
   "id": "dbf4f946",
   "metadata": {},
   "outputs": [
    {
     "name": "stdout",
     "output_type": "stream",
     "text": [
      "<re.Match object; span=(6, 8), match='_1'>\n"
     ]
    }
   ],
   "source": [
    "#  وضح الفرق من دونها \n",
    "test_string = '1hello_123'\n",
    "pattren = re.compile(r\"_\\d\")\n",
    "matches  = pattren.finditer(test_string)\n",
    "matches \n",
    "for match in matches:\n",
    "    print(match)"
   ]
  },
  {
   "cell_type": "code",
   "execution_count": 41,
   "id": "ba8bfc2d",
   "metadata": {},
   "outputs": [
    {
     "name": "stdout",
     "output_type": "stream",
     "text": [
      "<re.Match object; span=(6, 7), match='_'>\n",
      "<re.Match object; span=(7, 9), match='1_'>\n",
      "<re.Match object; span=(9, 11), match='2_'>\n"
     ]
    }
   ],
   "source": [
    "test_string = '1hello_1_2_3'\n",
    "pattren = re.compile(r\"\\d?_\")\n",
    "matches  = pattren.finditer(test_string)\n",
    "matches \n",
    "for match in matches:\n",
    "    print(match)"
   ]
  },
  {
   "cell_type": "code",
   "execution_count": 42,
   "id": "dda4788f",
   "metadata": {},
   "outputs": [
    {
     "name": "stdout",
     "output_type": "stream",
     "text": [
      "<re.Match object; span=(7, 9), match='1_'>\n",
      "<re.Match object; span=(9, 11), match='2_'>\n"
     ]
    }
   ],
   "source": [
    "test_string = '1hello_1_2_3'\n",
    "pattren = re.compile(r\"\\d_\")\n",
    "matches  = pattren.finditer(test_string)\n",
    "matches \n",
    "for match in matches:\n",
    "    print(match)"
   ]
  },
  {
   "cell_type": "code",
   "execution_count": 43,
   "id": "f90356b5",
   "metadata": {},
   "outputs": [
    {
     "name": "stdout",
     "output_type": "stream",
     "text": [
      "<re.Match object; span=(7, 10), match='123'>\n"
     ]
    }
   ],
   "source": [
    "test_string = '1hello_123'\n",
    "pattren = re.compile(r\"\\d{3}\")\n",
    "matches  = pattren.finditer(test_string)\n",
    "matches \n",
    "for match in matches:\n",
    "    print(match)"
   ]
  },
  {
   "cell_type": "code",
   "execution_count": 44,
   "id": "2fcf2dec",
   "metadata": {},
   "outputs": [
    {
     "name": "stdout",
     "output_type": "stream",
     "text": [
      "<re.Match object; span=(0, 1), match='1'>\n",
      "<re.Match object; span=(7, 8), match='1'>\n",
      "<re.Match object; span=(8, 9), match='2'>\n",
      "<re.Match object; span=(9, 10), match='3'>\n"
     ]
    }
   ],
   "source": [
    "# {} = تقوم بتحديد طول المحرف \n",
    "test_string = '1hello_123'\n",
    "pattren = re.compile(r\"\\d{1}\")\n",
    "matches  = pattren.finditer(test_string)\n",
    "matches \n",
    "for match in matches:\n",
    "    print(match)"
   ]
  },
  {
   "cell_type": "code",
   "execution_count": 45,
   "id": "a50432dd",
   "metadata": {},
   "outputs": [
    {
     "name": "stdout",
     "output_type": "stream",
     "text": [
      "<re.Match object; span=(7, 9), match='12'>\n"
     ]
    }
   ],
   "source": [
    "test_string = '1hello_123'\n",
    "pattren = re.compile(r\"\\d{2}\")\n",
    "matches  = pattren.finditer(test_string)\n",
    "matches \n",
    "for match in matches:\n",
    "    print(match)"
   ]
  },
  {
   "cell_type": "code",
   "execution_count": 46,
   "id": "4f6bcae5",
   "metadata": {},
   "outputs": [
    {
     "name": "stdout",
     "output_type": "stream",
     "text": [
      "<re.Match object; span=(7, 10), match='123'>\n"
     ]
    }
   ],
   "source": [
    "# {} = تاخذ مجال \n",
    "test_string = '1hello_123'\n",
    "pattren = re.compile(r\"\\d{2,3}\")\n",
    "matches  = pattren.finditer(test_string)\n",
    "matches \n",
    "for match in matches:\n",
    "    print(match)"
   ]
  },
  {
   "cell_type": "code",
   "execution_count": 47,
   "id": "7b7bb4d2",
   "metadata": {},
   "outputs": [
    {
     "name": "stdout",
     "output_type": "stream",
     "text": [
      "<re.Match object; span=(0, 1), match='1'>\n",
      "<re.Match object; span=(7, 9), match='12'>\n",
      "<re.Match object; span=(9, 10), match='3'>\n"
     ]
    }
   ],
   "source": [
    "test_string = '1hello_123'\n",
    "pattren = re.compile(r\"\\d{1,2}\")\n",
    "matches  = pattren.finditer(test_string)\n",
    "matches \n",
    "for match in matches:\n",
    "    print(match)"
   ]
  },
  {
   "cell_type": "code",
   "execution_count": 48,
   "id": "2b9ce4bc",
   "metadata": {},
   "outputs": [],
   "source": [
    "dates = \"\"\"\n",
    "hello\n",
    "01.04.2020\n",
    "\n",
    "2020.04.01\n",
    "\n",
    "2020-04-01\n",
    "2020-05-23\n",
    "2020-06-11\n",
    "2020-07-11\n",
    "2020-08-11\n",
    "\n",
    "2020/04/02\n",
    "\n",
    "2020_04_04\n",
    "2020_04_04\n",
    "\"\"\""
   ]
  },
  {
   "cell_type": "code",
   "execution_count": 49,
   "id": "03e08c44",
   "metadata": {},
   "outputs": [
    {
     "name": "stdout",
     "output_type": "stream",
     "text": [
      "<re.Match object; span=(19, 29), match='2020.04.01'>\n",
      "<re.Match object; span=(31, 41), match='2020-04-01'>\n",
      "<re.Match object; span=(42, 52), match='2020-05-23'>\n",
      "<re.Match object; span=(53, 63), match='2020-06-11'>\n",
      "<re.Match object; span=(64, 74), match='2020-07-11'>\n",
      "<re.Match object; span=(75, 85), match='2020-08-11'>\n",
      "<re.Match object; span=(87, 97), match='2020/04/02'>\n",
      "<re.Match object; span=(99, 109), match='2020_04_04'>\n",
      "<re.Match object; span=(110, 120), match='2020_04_04'>\n"
     ]
    }
   ],
   "source": [
    "# النمط هنا أربعة أرقام أي شي بينهم رقمين أي شي بينهم أربعة أرقام \n",
    "pattren = re.compile(r\"\\d\\d\\d\\d.\\d\\d.\\d\\d\")\n",
    "matches  = pattren.finditer(dates)\n",
    "matches \n",
    "for match in matches:\n",
    "    print(match)"
   ]
  },
  {
   "cell_type": "code",
   "execution_count": 50,
   "id": "51265a95",
   "metadata": {},
   "outputs": [
    {
     "name": "stdout",
     "output_type": "stream",
     "text": [
      "<re.Match object; span=(31, 41), match='2020-04-01'>\n",
      "<re.Match object; span=(42, 52), match='2020-05-23'>\n",
      "<re.Match object; span=(53, 63), match='2020-06-11'>\n",
      "<re.Match object; span=(64, 74), match='2020-07-11'>\n",
      "<re.Match object; span=(75, 85), match='2020-08-11'>\n"
     ]
    }
   ],
   "source": [
    "# - بينهم \n",
    "pattren = re.compile(r\"\\d\\d\\d\\d-\\d\\d-\\d\\d\")\n",
    "matches  = pattren.finditer(dates)\n",
    "matches \n",
    "for match in matches:\n",
    "    print(match)"
   ]
  },
  {
   "cell_type": "code",
   "execution_count": 51,
   "id": "02e48817",
   "metadata": {},
   "outputs": [
    {
     "name": "stdout",
     "output_type": "stream",
     "text": [
      "<re.Match object; span=(31, 41), match='2020-04-01'>\n",
      "<re.Match object; span=(42, 52), match='2020-05-23'>\n",
      "<re.Match object; span=(53, 63), match='2020-06-11'>\n",
      "<re.Match object; span=(64, 74), match='2020-07-11'>\n",
      "<re.Match object; span=(75, 85), match='2020-08-11'>\n",
      "<re.Match object; span=(87, 97), match='2020/04/02'>\n"
     ]
    }
   ],
   "source": [
    "# [-/] بينهم \n",
    "pattren = re.compile(r\"\\d\\d\\d\\d[-/]\\d\\d[-/]\\d\\d\")\n",
    "matches  = pattren.finditer(dates)\n",
    "matches \n",
    "for match in matches:\n",
    "    print(match)"
   ]
  },
  {
   "cell_type": "code",
   "execution_count": 52,
   "id": "a64f61d4",
   "metadata": {},
   "outputs": [
    {
     "name": "stdout",
     "output_type": "stream",
     "text": [
      "<re.Match object; span=(42, 52), match='2020-05-23'>\n",
      "<re.Match object; span=(53, 63), match='2020-06-11'>\n"
     ]
    }
   ],
   "source": [
    "# إيجاد تاريخ معين \n",
    "pattren = re.compile(r\"\\d\\d\\d\\d[-/]0[56][-/]\\d\\d\")\n",
    "matches  = pattren.finditer(dates)\n",
    "matches \n",
    "for match in matches:\n",
    "    print(match)"
   ]
  },
  {
   "cell_type": "code",
   "execution_count": 53,
   "id": "5752d517",
   "metadata": {},
   "outputs": [
    {
     "name": "stdout",
     "output_type": "stream",
     "text": [
      "<re.Match object; span=(42, 52), match='2020-05-23'>\n",
      "<re.Match object; span=(53, 63), match='2020-06-11'>\n",
      "<re.Match object; span=(64, 74), match='2020-07-11'>\n"
     ]
    }
   ],
   "source": [
    "# إيجاد تاريخ معين \n",
    "pattren = re.compile(r\"\\d\\d\\d\\d[-/]0[5-7][-/]\\d\\d\")\n",
    "matches  = pattren.finditer(dates)\n",
    "matches \n",
    "for match in matches:\n",
    "    print(match)"
   ]
  },
  {
   "cell_type": "code",
   "execution_count": 54,
   "id": "b2ea3a1a",
   "metadata": {},
   "outputs": [
    {
     "name": "stdout",
     "output_type": "stream",
     "text": [
      "<re.Match object; span=(42, 52), match='2020-05-23'>\n",
      "<re.Match object; span=(53, 63), match='2020-06-11'>\n",
      "<re.Match object; span=(64, 74), match='2020-07-11'>\n"
     ]
    }
   ],
   "source": [
    "# {} بدلا من التكرار  إستخدام \n",
    "pattren = re.compile(r\"\\d{4}[-/]0[5-7][-/]\\d{2}\")\n",
    "matches  = pattren.finditer(dates)\n",
    "matches \n",
    "for match in matches:\n",
    "    print(match)"
   ]
  },
  {
   "cell_type": "code",
   "execution_count": 55,
   "id": "40d28816",
   "metadata": {},
   "outputs": [],
   "source": [
    "my_string = \"\"\" \n",
    "hello world\n",
    "1223\n",
    "2020-05-20\n",
    "Mr Simpson\n",
    "Mrs Simpson\n",
    "Mr. Brown\n",
    "Ms Smith\n",
    "Mr. T\n",
    "\"\"\""
   ]
  },
  {
   "cell_type": "code",
   "execution_count": 56,
   "id": "668dd8c3",
   "metadata": {},
   "outputs": [
    {
     "name": "stdout",
     "output_type": "stream",
     "text": [
      "<re.Match object; span=(30, 40), match='Mr Simpson'>\n"
     ]
    }
   ],
   "source": [
    "# إيجاد نمط معين \n",
    "pattren = re.compile(r\"Mr\\s\\w+\")\n",
    "matches  = pattren.finditer(my_string)\n",
    "matches \n",
    "for match in matches:\n",
    "    print(match)"
   ]
  },
  {
   "cell_type": "code",
   "execution_count": 57,
   "id": "655858cb",
   "metadata": {},
   "outputs": [
    {
     "name": "stdout",
     "output_type": "stream",
     "text": [
      "<re.Match object; span=(53, 62), match='Mr. Brown'>\n",
      "<re.Match object; span=(72, 77), match='Mr. T'>\n"
     ]
    }
   ],
   "source": [
    "# إيجاد نمط معين \n",
    "pattren = re.compile(r\"Mr\\.\\s\\w+\")\n",
    "matches  = pattren.finditer(my_string)\n",
    "matches \n",
    "for match in matches:\n",
    "    print(match)"
   ]
  },
  {
   "cell_type": "code",
   "execution_count": 58,
   "id": "92e5bf59",
   "metadata": {},
   "outputs": [
    {
     "name": "stdout",
     "output_type": "stream",
     "text": [
      "<re.Match object; span=(41, 52), match='Mrs Simpson'>\n",
      "<re.Match object; span=(53, 62), match='Mr. Brown'>\n",
      "<re.Match object; span=(72, 77), match='Mr. T'>\n"
     ]
    }
   ],
   "source": [
    "# إيجاد نمط معين \n",
    "pattren = re.compile(r\"Mr.\\s\\w+\")\n",
    "matches  = pattren.finditer(my_string)\n",
    "matches \n",
    "for match in matches:\n",
    "    print(match)"
   ]
  },
  {
   "cell_type": "code",
   "execution_count": 59,
   "id": "963d1e87",
   "metadata": {},
   "outputs": [
    {
     "name": "stdout",
     "output_type": "stream",
     "text": [
      "<re.Match object; span=(30, 40), match='Mr Simpson'>\n",
      "<re.Match object; span=(53, 62), match='Mr. Brown'>\n",
      "<re.Match object; span=(72, 77), match='Mr. T'>\n"
     ]
    }
   ],
   "source": [
    "# إيجاد نمط معين \n",
    "pattren = re.compile(r\"Mr\\.?\\s\\w+\")\n",
    "matches  = pattren.finditer(my_string)\n",
    "matches \n",
    "for match in matches:\n",
    "    print(match)"
   ]
  },
  {
   "cell_type": "code",
   "execution_count": 60,
   "id": "9b1028be",
   "metadata": {},
   "outputs": [
    {
     "name": "stdout",
     "output_type": "stream",
     "text": [
      "<re.Match object; span=(30, 40), match='Mr Simpson'>\n",
      "<re.Match object; span=(41, 52), match='Mrs Simpson'>\n",
      "<re.Match object; span=(53, 62), match='Mr. Brown'>\n",
      "<re.Match object; span=(63, 71), match='Ms Smith'>\n",
      "<re.Match object; span=(72, 77), match='Mr. T'>\n"
     ]
    }
   ],
   "source": [
    "# إيجاد نمط معين  # (| , or) \n",
    "pattren = re.compile(r\"(Mr|Ms|Mrs)\\.?\\s\\w+\")\n",
    "matches  = pattren.finditer(my_string)\n",
    "matches \n",
    "for match in matches:\n",
    "    print(match)"
   ]
  },
  {
   "cell_type": "code",
   "execution_count": 61,
   "id": "9389c3d5",
   "metadata": {},
   "outputs": [
    {
     "name": "stdout",
     "output_type": "stream",
     "text": [
      "<re.Match object; span=(41, 52), match='Mrs Simpson'>\n",
      "<re.Match object; span=(53, 62), match='Mr. Brown'>\n",
      "<re.Match object; span=(72, 77), match='Mr. T'>\n"
     ]
    }
   ],
   "source": [
    "# إيجاد نمط معين \n",
    "pattren = re.compile(r\"(Mr|Ms|Mrs).\\s\\w+\")\n",
    "matches  = pattren.finditer(my_string)\n",
    "matches \n",
    "for match in matches:\n",
    "    print(match)"
   ]
  },
  {
   "cell_type": "code",
   "execution_count": 62,
   "id": "46923c21",
   "metadata": {},
   "outputs": [],
   "source": [
    "my_string = \"\"\" \n",
    "hello world\n",
    "1223\n",
    "2020-05-20\n",
    "Mr Simpson\n",
    "Mrs Simpson\n",
    "Mr. Brown\n",
    "Ms Smith\n",
    "Mr. T\n",
    "pythonengineer@gmail.com\n",
    "python-engineer@gmx.de\n",
    "python-engineer123@my-domain.org\n",
    "\"\"\""
   ]
  },
  {
   "cell_type": "code",
   "execution_count": 63,
   "id": "23f02ae1",
   "metadata": {},
   "outputs": [
    {
     "name": "stdout",
     "output_type": "stream",
     "text": [
      "<re.Match object; span=(78, 93), match='pythonengineer@'>\n",
      "<re.Match object; span=(103, 119), match='python-engineer@'>\n",
      "<re.Match object; span=(126, 145), match='python-engineer123@'>\n"
     ]
    }
   ],
   "source": [
    "# إيجاد نمط معين \n",
    "pattren = re.compile(r\"[a-zA-Z0-9-]+@\")\n",
    "matches  = pattren.finditer(my_string)\n",
    "matches \n",
    "for match in matches:\n",
    "    print(match)"
   ]
  },
  {
   "cell_type": "code",
   "execution_count": 64,
   "id": "d80e9376",
   "metadata": {},
   "outputs": [
    {
     "name": "stdout",
     "output_type": "stream",
     "text": [
      "<re.Match object; span=(78, 99), match='pythonengineer@gmail.'>\n",
      "<re.Match object; span=(103, 123), match='python-engineer@gmx.'>\n",
      "<re.Match object; span=(126, 155), match='python-engineer123@my-domain.'>\n"
     ]
    }
   ],
   "source": [
    "# إيجاد نمط معين \n",
    "pattren = re.compile(r\"[a-zA-Z0-9-]+@[a-zA-Z-]+\\.\")\n",
    "matches  = pattren.finditer(my_string)\n",
    "matches \n",
    "for match in matches:\n",
    "    print(match)"
   ]
  },
  {
   "cell_type": "code",
   "execution_count": 65,
   "id": "aa220819",
   "metadata": {},
   "outputs": [
    {
     "name": "stdout",
     "output_type": "stream",
     "text": [
      "<re.Match object; span=(78, 102), match='pythonengineer@gmail.com'>\n"
     ]
    }
   ],
   "source": [
    "# إيجاد نمط معين \n",
    "pattren = re.compile(r\"[a-zA-Z0-9-]+@[a-zA-Z-]+\\.com\")\n",
    "matches  = pattren.finditer(my_string)\n",
    "matches \n",
    "for match in matches:\n",
    "    print(match)"
   ]
  },
  {
   "cell_type": "code",
   "execution_count": 66,
   "id": "0ad9b550",
   "metadata": {},
   "outputs": [
    {
     "name": "stdout",
     "output_type": "stream",
     "text": [
      "<re.Match object; span=(78, 102), match='pythonengineer@gmail.com'>\n",
      "<re.Match object; span=(103, 125), match='python-engineer@gmx.de'>\n",
      "<re.Match object; span=(126, 158), match='python-engineer123@my-domain.org'>\n"
     ]
    }
   ],
   "source": [
    "# إيجاد نمط معين \n",
    "pattren = re.compile(r\"[a-zA-Z0-9-]+@[a-zA-Z-]+\\.(com|de|org)\")\n",
    "matches  = pattren.finditer(my_string)\n",
    "matches \n",
    "for match in matches:\n",
    "    print(match)"
   ]
  },
  {
   "cell_type": "code",
   "execution_count": 67,
   "id": "2b5dc6ef",
   "metadata": {},
   "outputs": [
    {
     "name": "stdout",
     "output_type": "stream",
     "text": [
      "<re.Match object; span=(78, 102), match='pythonengineer@gmail.com'>\n",
      "<re.Match object; span=(103, 125), match='python-engineer@gmx.de'>\n",
      "<re.Match object; span=(126, 158), match='python-engineer123@my-domain.org'>\n"
     ]
    }
   ],
   "source": [
    "# () = تقوم بجعل الأنمط أجزاء \n",
    "pattren = re.compile(r\"([a-zA-Z0-9-]+)@([a-zA-Z-])+\\.([a-zA-Z]+)\")\n",
    "matches  = pattren.finditer(my_string)\n",
    "matches \n",
    "for match in matches:\n",
    "    print(match)"
   ]
  },
  {
   "cell_type": "code",
   "execution_count": 68,
   "id": "e50d98e2",
   "metadata": {},
   "outputs": [
    {
     "name": "stdout",
     "output_type": "stream",
     "text": [
      "pythonengineer@gmail.com\n",
      "python-engineer@gmx.de\n",
      "python-engineer123@my-domain.org\n"
     ]
    }
   ],
   "source": [
    "# group() تعرض لنا الأجزاء \n",
    "pattren = re.compile(r\"([a-zA-Z0-9-]+)@([a-zA-Z-])+\\.([a-zA-Z]+)\")\n",
    "matches  = pattren.finditer(my_string)\n",
    "matches \n",
    "for match in matches:\n",
    "    print(match.group())"
   ]
  },
  {
   "cell_type": "code",
   "execution_count": 69,
   "id": "64029648",
   "metadata": {},
   "outputs": [
    {
     "name": "stdout",
     "output_type": "stream",
     "text": [
      "pythonengineer@gmail.com\n",
      "python-engineer@gmx.de\n",
      "python-engineer123@my-domain.org\n"
     ]
    }
   ],
   "source": [
    "pattren = re.compile(r\"([a-zA-Z0-9-]+)@([a-zA-Z-])+\\.([a-zA-Z]+)\")\n",
    "matches  = pattren.finditer(my_string)\n",
    "matches \n",
    "for match in matches:\n",
    "    print(match.group(0))"
   ]
  },
  {
   "cell_type": "code",
   "execution_count": 70,
   "id": "1f5fbb60",
   "metadata": {},
   "outputs": [
    {
     "name": "stdout",
     "output_type": "stream",
     "text": [
      "pythonengineer\n",
      "python-engineer\n",
      "python-engineer123\n"
     ]
    }
   ],
   "source": [
    "pattren = re.compile(r\"([a-zA-Z0-9-]+)@([a-zA-Z-])+\\.([a-zA-Z]+)\")\n",
    "matches  = pattren.finditer(my_string)\n",
    "matches \n",
    "for match in matches:\n",
    "    print(match.group(1))"
   ]
  },
  {
   "cell_type": "code",
   "execution_count": 71,
   "id": "3e0a54fd",
   "metadata": {},
   "outputs": [
    {
     "name": "stdout",
     "output_type": "stream",
     "text": [
      "gmail\n",
      "gmx\n",
      "my-domain\n"
     ]
    }
   ],
   "source": [
    "pattren = re.compile(r\"([a-zA-Z0-9-]+)@([a-zA-Z-]+)\\.([a-zA-Z]+)\")\n",
    "matches  = pattren.finditer(my_string)\n",
    "matches \n",
    "for match in matches:\n",
    "    print(match.group(2))"
   ]
  },
  {
   "cell_type": "code",
   "execution_count": 72,
   "id": "ebac958a",
   "metadata": {},
   "outputs": [
    {
     "name": "stdout",
     "output_type": "stream",
     "text": [
      "com\n",
      "de\n",
      "org\n"
     ]
    }
   ],
   "source": [
    "pattren = re.compile(r\"([a-zA-Z0-9-]+)@([a-zA-Z-]+)\\.([a-zA-Z]+)\")\n",
    "matches  = pattren.finditer(my_string)\n",
    "matches \n",
    "for match in matches:\n",
    "    print(match.group(3))"
   ]
  },
  {
   "cell_type": "code",
   "execution_count": 73,
   "id": "accdf4d9",
   "metadata": {},
   "outputs": [
    {
     "data": {
      "text/plain": [
       "['123', '456789', '123ABC']"
      ]
     },
     "execution_count": 73,
     "metadata": {},
     "output_type": "execute_result"
    }
   ],
   "source": [
    "# تقسيم النص عن طريق نمط\n",
    "test_string = '123abc456789abc123ABC'\n",
    "pattern = re.compile(r\"abc\")\n",
    "splited = pattern.split(test_string)\n",
    "splited"
   ]
  },
  {
   "cell_type": "code",
   "execution_count": 74,
   "id": "82b29e2c",
   "metadata": {},
   "outputs": [
    {
     "data": {
      "text/plain": [
       "'hello planet, you are the best planet'"
      ]
     },
     "execution_count": 74,
     "metadata": {},
     "output_type": "execute_result"
    }
   ],
   "source": [
    "test_string = 'hello world, you are the best world'\n",
    "pattern = re.compile(r\"world\")\n",
    "subbed = pattern.sub('planet',test_string)\n",
    "subbed"
   ]
  },
  {
   "cell_type": "code",
   "execution_count": null,
   "id": "f74445a7",
   "metadata": {},
   "outputs": [],
   "source": []
  }
 ],
 "metadata": {
  "kernelspec": {
   "display_name": "Python 3 (ipykernel)",
   "language": "python",
   "name": "python3"
  },
  "language_info": {
   "codemirror_mode": {
    "name": "ipython",
    "version": 3
   },
   "file_extension": ".py",
   "mimetype": "text/x-python",
   "name": "python",
   "nbconvert_exporter": "python",
   "pygments_lexer": "ipython3",
   "version": "3.9.12"
  }
 },
 "nbformat": 4,
 "nbformat_minor": 5
}
