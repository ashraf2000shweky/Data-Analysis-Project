{
 "cells": [
  {
   "cell_type": "code",
   "execution_count": 1,
   "id": "91aa60c3",
   "metadata": {},
   "outputs": [],
   "source": [
    "text = \"From breaking news and entertaiment to sports and politics,get the full story with all the live commentary.\""
   ]
  },
  {
   "cell_type": "code",
   "execution_count": 2,
   "id": "1bcaee6f",
   "metadata": {},
   "outputs": [
    {
     "data": {
      "text/plain": [
       "'From breaking news and entertaiment to sports and politics,get the full story with all the live commentary.'"
      ]
     },
     "execution_count": 2,
     "metadata": {},
     "output_type": "execute_result"
    }
   ],
   "source": [
    "text"
   ]
  },
  {
   "cell_type": "code",
   "execution_count": 3,
   "id": "723cca26",
   "metadata": {},
   "outputs": [
    {
     "data": {
      "text/plain": [
       "107"
      ]
     },
     "execution_count": 3,
     "metadata": {},
     "output_type": "execute_result"
    }
   ],
   "source": [
    "# عدد المحارف في النص \n",
    "len(text)"
   ]
  },
  {
   "cell_type": "code",
   "execution_count": 4,
   "id": "a920ac73",
   "metadata": {},
   "outputs": [
    {
     "data": {
      "text/plain": [
       "['From',\n",
       " 'breaking',\n",
       " 'news',\n",
       " 'and',\n",
       " 'entertaiment',\n",
       " 'to',\n",
       " 'sports',\n",
       " 'and',\n",
       " 'politics,get',\n",
       " 'the',\n",
       " 'full',\n",
       " 'story',\n",
       " 'with',\n",
       " 'all',\n",
       " 'the',\n",
       " 'live',\n",
       " 'commentary.']"
      ]
     },
     "execution_count": 4,
     "metadata": {},
     "output_type": "execute_result"
    }
   ],
   "source": [
    "# ' ' فصل كلمات النص بواسطة الفراغ  \n",
    "text1 = text.split(' ')\n",
    "text1"
   ]
  },
  {
   "cell_type": "code",
   "execution_count": 5,
   "id": "116cd7c2",
   "metadata": {},
   "outputs": [
    {
     "data": {
      "text/plain": [
       "['From',\n",
       " 'breaking',\n",
       " 'news',\n",
       " 'entertaiment',\n",
       " 'sports',\n",
       " 'politics,get',\n",
       " 'full',\n",
       " 'story',\n",
       " 'with',\n",
       " 'live',\n",
       " 'commentary.']"
      ]
     },
     "execution_count": 5,
     "metadata": {},
     "output_type": "execute_result"
    }
   ],
   "source": [
    "# إتخراج الكلمات التي عدد محارفها أكبر أو يساوي 4\n",
    "[w for w in text1 if len(w) >= 4]"
   ]
  },
  {
   "cell_type": "code",
   "execution_count": 6,
   "id": "5299b6f5",
   "metadata": {},
   "outputs": [
    {
     "data": {
      "text/plain": [
       "['From']"
      ]
     },
     "execution_count": 6,
     "metadata": {},
     "output_type": "execute_result"
    }
   ],
   "source": [
    "# إستخراج الكلمات التى تبدل بحرف كبير \n",
    "[w for w in text1 if w.istitle()]"
   ]
  },
  {
   "cell_type": "code",
   "execution_count": 7,
   "id": "89e17b99",
   "metadata": {},
   "outputs": [
    {
     "data": {
      "text/plain": [
       "['sports', 'story']"
      ]
     },
     "execution_count": 7,
     "metadata": {},
     "output_type": "execute_result"
    }
   ],
   "source": [
    "# s إستخراج الكلمات التى تبدا  ب \n",
    "[w for w in text1 if w.startswith('s')]"
   ]
  },
  {
   "cell_type": "code",
   "execution_count": 8,
   "id": "5871bd64",
   "metadata": {},
   "outputs": [
    {
     "data": {
      "text/plain": [
       "['news', 'sports']"
      ]
     },
     "execution_count": 8,
     "metadata": {},
     "output_type": "execute_result"
    }
   ],
   "source": [
    "# s إستخراج الكلمات التى تنتهي ب \n",
    "[w for w in text1 if w.endswith('s')]"
   ]
  },
  {
   "cell_type": "code",
   "execution_count": 9,
   "id": "27fee006",
   "metadata": {},
   "outputs": [],
   "source": [
    "text2 = \"To be or not To be\""
   ]
  },
  {
   "cell_type": "code",
   "execution_count": 10,
   "id": "945445c2",
   "metadata": {},
   "outputs": [],
   "source": [
    "text3 = text2.split(' ')"
   ]
  },
  {
   "cell_type": "code",
   "execution_count": 11,
   "id": "4647ce94",
   "metadata": {},
   "outputs": [
    {
     "data": {
      "text/plain": [
       "{'To', 'be', 'not', 'or'}"
      ]
     },
     "execution_count": 11,
     "metadata": {},
     "output_type": "execute_result"
    }
   ],
   "source": [
    "set(text3)"
   ]
  },
  {
   "cell_type": "code",
   "execution_count": 12,
   "id": "834883c8",
   "metadata": {},
   "outputs": [
    {
     "data": {
      "text/plain": [
       "['to', 'be', 'or', 'not', 'to', 'be']"
      ]
     },
     "execution_count": 12,
     "metadata": {},
     "output_type": "execute_result"
    }
   ],
   "source": [
    "# كتابة الكلمات بأحرف صغيرة\n",
    "[w.lower() for w in text3]"
   ]
  },
  {
   "cell_type": "code",
   "execution_count": 13,
   "id": "93b14610",
   "metadata": {},
   "outputs": [
    {
     "data": {
      "text/plain": [
       "['kathm', 'du']"
      ]
     },
     "execution_count": 13,
     "metadata": {},
     "output_type": "execute_result"
    }
   ],
   "source": [
    "# فصل النص \n",
    "text4 = 'kathmandu'\n",
    "text5 = text4.split(\"an\")\n",
    "text5"
   ]
  },
  {
   "cell_type": "code",
   "execution_count": 14,
   "id": "473fe590",
   "metadata": {},
   "outputs": [
    {
     "data": {
      "text/plain": [
       "'kathmandu'"
      ]
     },
     "execution_count": 14,
     "metadata": {},
     "output_type": "execute_result"
    }
   ],
   "source": [
    "# وصل النص \n",
    "'an'.join(text5)"
   ]
  },
  {
   "cell_type": "code",
   "execution_count": 15,
   "id": "21ec7a9a",
   "metadata": {},
   "outputs": [
    {
     "data": {
      "text/plain": [
       "['k', 'a', 't', 'h', 'm', 'a', 'n', 'd', 'u']"
      ]
     },
     "execution_count": 15,
     "metadata": {},
     "output_type": "execute_result"
    }
   ],
   "source": [
    "# فصل المحارف \n",
    "list(text4)"
   ]
  },
  {
   "cell_type": "code",
   "execution_count": 16,
   "id": "955a5cac",
   "metadata": {},
   "outputs": [
    {
     "data": {
      "text/plain": [
       "'A quick brown fox jumped over the lazy dog.'"
      ]
     },
     "execution_count": 16,
     "metadata": {},
     "output_type": "execute_result"
    }
   ],
   "source": [
    "# إزالة السافات التى في بدالة النص \n",
    "text6 = \"    A quick brown fox jumped over the lazy dog.\"\n",
    "text7 = text6.strip()\n",
    "text7"
   ]
  },
  {
   "cell_type": "code",
   "execution_count": 17,
   "id": "76f69a4c",
   "metadata": {},
   "outputs": [],
   "source": [
    "text8 = text7.split(' ')"
   ]
  },
  {
   "cell_type": "code",
   "execution_count": 18,
   "id": "3544bda9",
   "metadata": {},
   "outputs": [
    {
     "data": {
      "text/plain": [
       "10"
      ]
     },
     "execution_count": 18,
     "metadata": {},
     "output_type": "execute_result"
    }
   ],
   "source": [
    "# o إيجاد موقع المحرف \n",
    "text7.find('o')"
   ]
  },
  {
   "cell_type": "code",
   "execution_count": 19,
   "id": "a798479b",
   "metadata": {},
   "outputs": [
    {
     "data": {
      "text/plain": [
       "'A quick brOwn fOx jumped Over the lazy dOg.'"
      ]
     },
     "execution_count": 19,
     "metadata": {},
     "output_type": "execute_result"
    }
   ],
   "source": [
    "# إستبدال الحرف \n",
    "text7.replace('o','O')"
   ]
  },
  {
   "cell_type": "code",
   "execution_count": null,
   "id": "836d9c58",
   "metadata": {},
   "outputs": [],
   "source": []
  }
 ],
 "metadata": {
  "kernelspec": {
   "display_name": "Python 3 (ipykernel)",
   "language": "python",
   "name": "python3"
  },
  "language_info": {
   "codemirror_mode": {
    "name": "ipython",
    "version": 3
   },
   "file_extension": ".py",
   "mimetype": "text/x-python",
   "name": "python",
   "nbconvert_exporter": "python",
   "pygments_lexer": "ipython3",
   "version": "3.9.12"
  }
 },
 "nbformat": 4,
 "nbformat_minor": 5
}
