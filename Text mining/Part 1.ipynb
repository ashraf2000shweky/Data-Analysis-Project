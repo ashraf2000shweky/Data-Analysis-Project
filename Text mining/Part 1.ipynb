{
 "cells": [
  {
   "cell_type": "code",
   "execution_count": null,
   "id": "91aa60c3",
   "metadata": {},
   "outputs": [],
   "source": [
    "text = \"From breaking news and entertaiment to sports and politics,get the full story with all the live commentary.\""
   ]
  },
  {
   "cell_type": "code",
   "execution_count": null,
   "id": "1bcaee6f",
   "metadata": {},
   "outputs": [],
   "source": [
    "text"
   ]
  },
  {
   "cell_type": "code",
   "execution_count": null,
   "id": "723cca26",
   "metadata": {},
   "outputs": [],
   "source": [
    "# عدد المحارف في النص \n",
    "len(text)"
   ]
  },
  {
   "cell_type": "code",
   "execution_count": null,
   "id": "a920ac73",
   "metadata": {},
   "outputs": [],
   "source": [
    "# ' ' فصل كلمات النص بواسطة الفراغ  \n",
    "text1 = text.split(' ')\n",
    "text1"
   ]
  },
  {
   "cell_type": "code",
   "execution_count": null,
   "id": "116cd7c2",
   "metadata": {},
   "outputs": [],
   "source": [
    "# إتخراج الكلمات التي عدد محارفها أكبر أو يساوي 4\n",
    "[w for w in text1 if len(w) >= 4]"
   ]
  },
  {
   "cell_type": "code",
   "execution_count": null,
   "id": "5299b6f5",
   "metadata": {},
   "outputs": [],
   "source": [
    "# إستخراج الكلمات التى تبدل بحرف كبير \n",
    "[w for w in text1 if w.istitle()]"
   ]
  },
  {
   "cell_type": "code",
   "execution_count": null,
   "id": "89e17b99",
   "metadata": {},
   "outputs": [],
   "source": [
    "# s إستخراج الكلمات التى تبدا  ب \n",
    "[w for w in text1 if w.startswith('s')]"
   ]
  },
  {
   "cell_type": "code",
   "execution_count": null,
   "id": "5871bd64",
   "metadata": {},
   "outputs": [],
   "source": [
    "# s إستخراج الكلمات التى تنتهي ب \n",
    "[w for w in text1 if w.endswith('s')]"
   ]
  },
  {
   "cell_type": "code",
   "execution_count": null,
   "id": "27fee006",
   "metadata": {},
   "outputs": [],
   "source": [
    "text2 = \"To be or not To be\""
   ]
  },
  {
   "cell_type": "code",
   "execution_count": null,
   "id": "945445c2",
   "metadata": {},
   "outputs": [],
   "source": [
    "text3 = text2.split(' ')"
   ]
  },
  {
   "cell_type": "code",
   "execution_count": null,
   "id": "4647ce94",
   "metadata": {},
   "outputs": [],
   "source": [
    "set(text3)"
   ]
  },
  {
   "cell_type": "code",
   "execution_count": null,
   "id": "834883c8",
   "metadata": {},
   "outputs": [],
   "source": [
    "# كتابة الكلمات بأحرف صغيرة\n",
    "[w.lower() for w in text3]"
   ]
  },
  {
   "cell_type": "code",
   "execution_count": null,
   "id": "93b14610",
   "metadata": {},
   "outputs": [],
   "source": [
    "# فصل النص \n",
    "text4 = 'kathmandu'\n",
    "text5 = text4.split(\"an\")\n",
    "text5"
   ]
  },
  {
   "cell_type": "code",
   "execution_count": null,
   "id": "473fe590",
   "metadata": {},
   "outputs": [],
   "source": [
    "# وصل النص \n",
    "'an'.join(text5)"
   ]
  },
  {
   "cell_type": "code",
   "execution_count": null,
   "id": "21ec7a9a",
   "metadata": {},
   "outputs": [],
   "source": [
    "# فصل المحارف \n",
    "list(text4)"
   ]
  },
  {
   "cell_type": "code",
   "execution_count": null,
   "id": "955a5cac",
   "metadata": {},
   "outputs": [],
   "source": [
    "# إزالة السافات التى في بدالة النص \n",
    "text6 = \"    A quick brown fox jumped over the lazy dog.\"\n",
    "text7 = text6.strip()\n",
    "text7"
   ]
  },
  {
   "cell_type": "code",
   "execution_count": null,
   "id": "76f69a4c",
   "metadata": {},
   "outputs": [],
   "source": [
    "text8 = text7.split(' ')"
   ]
  },
  {
   "cell_type": "code",
   "execution_count": null,
   "id": "3544bda9",
   "metadata": {},
   "outputs": [],
   "source": [
    "# o إيجاد موقع المحرف \n",
    "text7.find('o')"
   ]
  },
  {
   "cell_type": "code",
   "execution_count": null,
   "id": "a798479b",
   "metadata": {},
   "outputs": [],
   "source": [
    "# إستبدال الحرف \n",
    "text7.replace('o','O')"
   ]
  },
  {
   "cell_type": "code",
   "execution_count": null,
   "id": "836d9c58",
   "metadata": {},
   "outputs": [],
   "source": []
  }
 ],
 "metadata": {
  "kernelspec": {
   "display_name": "Python 3 (ipykernel)",
   "language": "python",
   "name": "python3"
  },
  "language_info": {
   "codemirror_mode": {
    "name": "ipython",
    "version": 3
   },
   "file_extension": ".py",
   "mimetype": "text/x-python",
   "name": "python",
   "nbconvert_exporter": "python",
   "pygments_lexer": "ipython3",
   "version": "3.9.12"
  }
 },
 "nbformat": 4,
 "nbformat_minor": 5
}
