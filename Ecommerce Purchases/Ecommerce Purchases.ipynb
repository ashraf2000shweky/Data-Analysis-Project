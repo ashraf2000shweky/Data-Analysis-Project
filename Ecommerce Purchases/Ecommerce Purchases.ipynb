{
 "cells": [
  {
   "cell_type": "code",
   "execution_count": null,
   "id": "dfc98189",
   "metadata": {},
   "outputs": [],
   "source": [
    "import pandas as pd"
   ]
  },
  {
   "cell_type": "code",
   "execution_count": null,
   "id": "76c13751",
   "metadata": {},
   "outputs": [],
   "source": [
    "data = pd.read_csv('Ecommerce Purchases.csv') #  في ذات مجلد ملف بايثون لسهولة القراءة csv يفضل وضع ملف "
   ]
  },
  {
   "cell_type": "code",
   "execution_count": null,
   "id": "ac0b122f",
   "metadata": {},
   "outputs": [],
   "source": [
    "data.head(10) # إظهار أول عشر سطور"
   ]
  },
  {
   "cell_type": "code",
   "execution_count": null,
   "id": "277dad85",
   "metadata": {},
   "outputs": [],
   "source": [
    "data.tail(10) # إظهار أخر عشر سطور"
   ]
  },
  {
   "cell_type": "code",
   "execution_count": null,
   "id": "1c615df7",
   "metadata": {},
   "outputs": [],
   "source": [
    "data.dtypes # النوع المخزن فيه كل عامود"
   ]
  },
  {
   "cell_type": "code",
   "execution_count": null,
   "id": "ac9f0acd",
   "metadata": {},
   "outputs": [],
   "source": [
    "data.isnull().sum() #  معرفة عدد العناصر المفقودة في كل سطر"
   ]
  },
  {
   "cell_type": "code",
   "execution_count": null,
   "id": "3f779b1a",
   "metadata": {},
   "outputs": [],
   "source": [
    "len(data.columns)"
   ]
  },
  {
   "cell_type": "code",
   "execution_count": null,
   "id": "a284bae3",
   "metadata": {},
   "outputs": [],
   "source": [
    "data.info() # معلومات عامة عن البيانات"
   ]
  },
  {
   "cell_type": "code",
   "execution_count": null,
   "id": "475deec8",
   "metadata": {},
   "outputs": [],
   "source": [
    "data.columns # في متجه يظهر لنا أسماء أعمدة البيانات"
   ]
  },
  {
   "cell_type": "code",
   "execution_count": null,
   "id": "1723a0ef",
   "metadata": {},
   "outputs": [],
   "source": [
    "data['Purchase Price'].max() # أكير قيمة في العامود المحدد"
   ]
  },
  {
   "cell_type": "code",
   "execution_count": null,
   "id": "c6858545",
   "metadata": {},
   "outputs": [],
   "source": [
    "data['Purchase Price'].min() # أصغر قيمة في العامود المحدد "
   ]
  },
  {
   "cell_type": "code",
   "execution_count": null,
   "id": "e3a3dccc",
   "metadata": {},
   "outputs": [],
   "source": [
    "data['Purchase Price'].mean() # المتوسط الحسابي في العامود المحدد"
   ]
  },
  {
   "cell_type": "code",
   "execution_count": null,
   "id": "7cbcdac0",
   "metadata": {},
   "outputs": [],
   "source": [
    "data.columns"
   ]
  },
  {
   "cell_type": "code",
   "execution_count": null,
   "id": "33f72db5",
   "metadata": {},
   "outputs": [],
   "source": [
    "data['Language']"
   ]
  },
  {
   "cell_type": "code",
   "execution_count": null,
   "id": "907b1f16",
   "metadata": {},
   "outputs": [],
   "source": [
    "len(data[data['Language'] == 'fr']) # عدد متحدثي اللغة الفرنسية"
   ]
  },
  {
   "cell_type": "code",
   "execution_count": null,
   "id": "437cd6f0",
   "metadata": {},
   "outputs": [],
   "source": [
    "data[data['Language'] == 'fr'].count() # عدد متحدثي اللغة الفرنسية"
   ]
  },
  {
   "cell_type": "code",
   "execution_count": null,
   "id": "106d219e",
   "metadata": {},
   "outputs": [],
   "source": [
    "data['Job']"
   ]
  },
  {
   "cell_type": "code",
   "execution_count": null,
   "id": "975be815",
   "metadata": {},
   "outputs": [],
   "source": [
    "# عدد العاملين في مجال الهندسة\n",
    "len(data[data['Job'].str.contains('engineer',case=False)]) "
   ]
  },
  {
   "cell_type": "code",
   "execution_count": null,
   "id": "8ffac0d4",
   "metadata": {},
   "outputs": [],
   "source": [
    "data.columns"
   ]
  },
  {
   "cell_type": "code",
   "execution_count": null,
   "id": "64884564",
   "metadata": {},
   "outputs": [],
   "source": [
    "data[data['IP Address']=='121.133.168.51']['Email'] # إجاد عنوان الأيميل لشخص محدد"
   ]
  },
  {
   "cell_type": "code",
   "execution_count": null,
   "id": "501150c9",
   "metadata": {},
   "outputs": [],
   "source": [
    "len(data[data['CC Provider']=='Mastercard']) # mastercard عدد الذين لديهم "
   ]
  },
  {
   "cell_type": "code",
   "execution_count": null,
   "id": "9180eae5",
   "metadata": {},
   "outputs": [],
   "source": [
    "#   $وسعر الشراء أكير أو يساوي 50 mastercard  عدد الذين لديهم\n",
    "len(data[(data['CC Provider']=='Mastercard') &  (data['Purchase Price'] >=50)])"
   ]
  },
  {
   "cell_type": "code",
   "execution_count": null,
   "id": "b77e2ae9",
   "metadata": {},
   "outputs": [],
   "source": [
    "data.columns"
   ]
  },
  {
   "cell_type": "code",
   "execution_count": null,
   "id": "ba014bc6",
   "metadata": {},
   "outputs": [],
   "source": [
    "data[data['Credit Card']==210033169205009]['Email']  # إجاد عنوان الأيميل لشخص محدد"
   ]
  },
  {
   "cell_type": "code",
   "execution_count": null,
   "id": "36e2f5f9",
   "metadata": {},
   "outputs": [],
   "source": [
    "data['AM or PM'].value_counts() # AM قبل الظهر , PM بعد الظهر"
   ]
  },
  {
   "cell_type": "code",
   "execution_count": null,
   "id": "15071680",
   "metadata": {},
   "outputs": [],
   "source": [
    "data.columns"
   ]
  },
  {
   "cell_type": "code",
   "execution_count": null,
   "id": "283c651e",
   "metadata": {},
   "outputs": [],
   "source": [
    "data['CC Exp Date']"
   ]
  },
  {
   "cell_type": "code",
   "execution_count": null,
   "id": "3d98d405",
   "metadata": {},
   "outputs": [],
   "source": [
    "# عدد المشترين في اليوم ذا التاريخ 20\n",
    "len(data[data['CC Exp Date'].apply(lambda x:x.split('/')[1]=='20')])"
   ]
  },
  {
   "cell_type": "code",
   "execution_count": null,
   "id": "923a48a3",
   "metadata": {},
   "outputs": [],
   "source": [
    "# عدد المشترين في اليوم ذا التاريخ 20\n",
    "len(data[data['CC Exp Date'].apply(lambda x:x[3:]=='20')])"
   ]
  },
  {
   "cell_type": "code",
   "execution_count": null,
   "id": "cfd962c0",
   "metadata": {},
   "outputs": [],
   "source": [
    "data.columns"
   ]
  },
  {
   "cell_type": "code",
   "execution_count": null,
   "id": "e2745a08",
   "metadata": {},
   "outputs": [],
   "source": [
    "# تعداد مستخدين أنواع الإيميلات أكثر ثلاثة\n",
    "data['Email'].apply(lambda x:x.split('@')[1]).value_counts().head(3)\n"
   ]
  },
  {
   "cell_type": "code",
   "execution_count": null,
   "id": "49c5fb61",
   "metadata": {},
   "outputs": [],
   "source": [
    "# Windows عدد مستخدمين \n",
    "x = len(data[data['Browser Info'].str.contains('Windows',case=False)])\n",
    "x"
   ]
  },
  {
   "cell_type": "code",
   "execution_count": null,
   "id": "a59acab6",
   "metadata": {},
   "outputs": [],
   "source": [
    "# Macintosh عدد مستخدمين \n",
    "y = len(data[data['Browser Info'].str.contains('Macintosh',case=False)])\n",
    "y"
   ]
  },
  {
   "cell_type": "code",
   "execution_count": null,
   "id": "74f13750",
   "metadata": {},
   "outputs": [],
   "source": [
    "# Linux عدد مستخدمين \n",
    "z = len(data[data['Browser Info'].str.contains('Linux',case=False)])\n",
    "z"
   ]
  },
  {
   "cell_type": "code",
   "execution_count": null,
   "id": "dc2714d9",
   "metadata": {},
   "outputs": [],
   "source": [
    "data['Company'].value_counts().head(50)"
   ]
  },
  {
   "cell_type": "code",
   "execution_count": null,
   "id": "f2e21fa0",
   "metadata": {},
   "outputs": [],
   "source": [
    "# ملاحظة: لا أعرف ماهية هذه الأنواع\n",
    "# ملاحظة: لا أعرف ماهية هذه الأنواع\n",
    "# ملاحظة: لا أعرف ماهية هذه الأنواع"
   ]
  },
  {
   "cell_type": "code",
   "execution_count": null,
   "id": "961390ba",
   "metadata": {},
   "outputs": [],
   "source": [
    "len(data[data['Company'].str.contains('ltd',case=False)]) # عدد الشركات محددة المسؤولية"
   ]
  },
  {
   "cell_type": "code",
   "execution_count": null,
   "id": "a90ebc12",
   "metadata": {},
   "outputs": [],
   "source": [
    "len(data[data['Company'].str.contains('Group',case=False)]) # عدد الكيانات الإقتصادية"
   ]
  },
  {
   "cell_type": "code",
   "execution_count": null,
   "id": "3e5c80a3",
   "metadata": {},
   "outputs": [],
   "source": [
    "len(data[data['Company'].str.contains('Inc',case=False)]) # عدد الشركات المتحدة"
   ]
  },
  {
   "cell_type": "code",
   "execution_count": null,
   "id": "a84b8731",
   "metadata": {},
   "outputs": [],
   "source": [
    "len(data[data['Company'].str.contains('LLC',case=False)]) # عدد الشركات ذات مسئولية محدود؟؟"
   ]
  },
  {
   "cell_type": "code",
   "execution_count": null,
   "id": "755f67d5",
   "metadata": {},
   "outputs": [],
   "source": [
    "len(data[data['Company'].str.contains('PLC',case=False)]) # عدد الشركات العمومية المحدودة"
   ]
  },
  {
   "cell_type": "code",
   "execution_count": null,
   "id": "b3135e5b",
   "metadata": {},
   "outputs": [],
   "source": [
    "import seaborn as sns"
   ]
  },
  {
   "cell_type": "code",
   "execution_count": null,
   "id": "0b8f4bde",
   "metadata": {},
   "outputs": [],
   "source": [
    "df = pd.DataFrame(data=[ 534,537,618,561,550],index=['ltd','Group','Inc','LLC','PLC']\n",
    "                  ,columns=['Type of Company'])\n",
    "df"
   ]
  },
  {
   "cell_type": "code",
   "execution_count": null,
   "id": "d05cbaac",
   "metadata": {},
   "outputs": [],
   "source": [
    "sns.barplot(x=df.index,y=df['Type of Company'])"
   ]
  },
  {
   "cell_type": "code",
   "execution_count": null,
   "id": "31c2acd1",
   "metadata": {},
   "outputs": [],
   "source": []
  }
 ],
 "metadata": {
  "kernelspec": {
   "display_name": "Python 3 (ipykernel)",
   "language": "python",
   "name": "python3"
  },
  "language_info": {
   "codemirror_mode": {
    "name": "ipython",
    "version": 3
   },
   "file_extension": ".py",
   "mimetype": "text/x-python",
   "name": "python",
   "nbconvert_exporter": "python",
   "pygments_lexer": "ipython3",
   "version": "3.9.12"
  }
 },
 "nbformat": 4,
 "nbformat_minor": 5
}
